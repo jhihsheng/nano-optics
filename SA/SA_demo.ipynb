{
 "cells": [
  {
   "cell_type": "markdown",
   "metadata": {},
   "source": [
    "## Ising Model\n",
    "$$\\mathcal{H}= \\sum_{i}h_i\\sigma_i + \\sum_{i,j}J_{ij}\\sigma_i\\sigma_j$$\n",
    "Before annealing, the defect state causes high energy \n",
    "\n",
    "![Ising](monte-carlo-ising-3.png)\n",
    "\n",
    "After annealing, the system has a lower energy,\n",
    "\n",
    "![Ising](monte-carlo-ising-4.png)\n",
    "\n",
    "\n"
   ]
  },
  {
   "cell_type": "code",
   "execution_count": null,
   "metadata": {},
   "outputs": [],
   "source": []
  }
 ],
 "metadata": {
  "kernelspec": {
   "display_name": "Python 3 (ipykernel)",
   "language": "python",
   "name": "python3"
  },
  "language_info": {
   "codemirror_mode": {
    "name": "ipython",
    "version": 3
   },
   "file_extension": ".py",
   "mimetype": "text/x-python",
   "name": "python",
   "nbconvert_exporter": "python",
   "pygments_lexer": "ipython3",
   "version": "3.8.8"
  }
 },
 "nbformat": 4,
 "nbformat_minor": 4
}
