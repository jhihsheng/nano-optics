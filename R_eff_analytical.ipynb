{
 "cells": [
  {
   "cell_type": "markdown",
   "id": "8ee50c03-f8bd-409a-9f5a-127735ea45c7",
   "metadata": {},
   "source": [
    "$$\\begin{align}\n",
    "M(m,n,\\theta) = \\frac{2\\theta}{\\pi}\\left[\\mathrm{sinc}(m-n)\\theta-\\mathrm{sinc}(m+n)\\theta\\right],\n",
    "\\end{align}$$\n",
    "where $m,~n~\\in$  odd integer. $0\\leq\\theta\\leq\\pi/2$"
   ]
  },
  {
   "cell_type": "code",
   "execution_count": 39,
   "id": "d08f6f81-40e2-4f0d-b85c-d714fa8fa8c2",
   "metadata": {
    "tags": []
   },
   "outputs": [],
   "source": [
    "import numpy as np\n",
    "from numpy import linalg as LA\n",
    "\n",
    "def mysinc(x):\n",
    "    return np.sinc(x/np.pi)\n",
    "def mat(m,n,theta):\n",
    "    return 2 * theta / np.pi * ( mysinc((m-n)*theta) - mysinc((m+n)*theta))"
   ]
  },
  {
   "cell_type": "code",
   "execution_count": 191,
   "id": "6787b1f5-7732-41b2-aa86-4343ec71872c",
   "metadata": {
    "tags": []
   },
   "outputs": [],
   "source": [
    "Nb = 10 # number of basis\n",
    "m_list = np.arange(1, 2 * Nb +1, 2)\n",
    "theta = 0.6 * np.pi/2\n",
    "m0 = np.zeros((Nb,Nb))\n",
    "m1 = np.zeros((Nb,Nb))\n",
    "mk = np.diag(m_list / Nb /2 * np.tanh(m_list))\n",
    "for i1 in range(Nb):\n",
    "    m = 1 + 2 * i1\n",
    "    for i2 in range(Nb):\n",
    "        n = 1 + 2 * i2\n",
    "        m0[i1,i2] = mat(m,n,theta)\n",
    "        m1[i1,i2] = mat(m,n,np.pi/2) - mat(m,n,theta)\n",
    "m0 = (m0 + np.transpose(m0)) / 2 # forced to be sym matrix\n",
    "m1 = (m1 + np.transpose(m1)) / 2 # forced to be sym matrix\n",
    "\n"
   ]
  },
  {
   "cell_type": "code",
   "execution_count": 192,
   "id": "798bd4f6-6ffe-45ce-ac09-4e91461f05d8",
   "metadata": {
    "tags": []
   },
   "outputs": [],
   "source": [
    "m0va, m0vc = LA.eigh(m0)\n",
    "m1va, m1vc = LA.eigh(m1)"
   ]
  },
  {
   "cell_type": "code",
   "execution_count": 193,
   "id": "5d954862-64f0-4ce5-9c4c-9ce7082e039b",
   "metadata": {
    "tags": []
   },
   "outputs": [],
   "source": [
    "eiv, eivc = LA.eigh(m0 + 0.5 * m1 )"
   ]
  },
  {
   "cell_type": "code",
   "execution_count": 194,
   "id": "e530187e-61b7-4e7e-90fc-a42c5261d230",
   "metadata": {
    "tags": []
   },
   "outputs": [
    {
     "data": {
      "text/plain": [
       "0.0010964096859836638"
      ]
     },
     "execution_count": 194,
     "metadata": {},
     "output_type": "execute_result"
    }
   ],
   "source": [
    "LA.det(m0 + mk * m1 )"
   ]
  },
  {
   "cell_type": "code",
   "execution_count": 195,
   "id": "0d0418b1-1350-4520-a243-ca99ed6a9e19",
   "metadata": {
    "tags": []
   },
   "outputs": [
    {
     "data": {
      "text/plain": [
       "array([0.03807971, 0.14925821, 0.2499773 , 0.34999942, 0.44999999,\n",
       "       0.55      , 0.65      , 0.75      , 0.85      , 0.95      ])"
      ]
     },
     "execution_count": 195,
     "metadata": {},
     "output_type": "execute_result"
    }
   ],
   "source": [
    "np.diag(mk)"
   ]
  },
  {
   "cell_type": "code",
   "execution_count": 197,
   "id": "4dd60e2b-afb2-471e-b994-9a83d2648b8a",
   "metadata": {
    "tags": []
   },
   "outputs": [
    {
     "data": {
      "text/plain": [
       "array([5.55916923e-11, 4.29682443e-07, 3.49400292e-04, 5.46351266e-02,\n",
       "       7.09095278e-01, 9.94282620e-01, 9.99979516e-01, 9.99999977e-01,\n",
       "       1.00000000e+00, 1.00000000e+00])"
      ]
     },
     "execution_count": 197,
     "metadata": {},
     "output_type": "execute_result"
    }
   ],
   "source": [
    "m0va"
   ]
  },
  {
   "cell_type": "code",
   "execution_count": null,
   "id": "9083018f-3059-4660-a1a8-a964aec4a952",
   "metadata": {},
   "outputs": [],
   "source": []
  }
 ],
 "metadata": {
  "kernelspec": {
   "display_name": "Python 3 (ipykernel)",
   "language": "python",
   "name": "python3"
  },
  "language_info": {
   "codemirror_mode": {
    "name": "ipython",
    "version": 3
   },
   "file_extension": ".py",
   "mimetype": "text/x-python",
   "name": "python",
   "nbconvert_exporter": "python",
   "pygments_lexer": "ipython3",
   "version": "3.8.8"
  }
 },
 "nbformat": 4,
 "nbformat_minor": 5
}
