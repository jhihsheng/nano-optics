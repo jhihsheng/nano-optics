{
 "cells": [
  {
   "cell_type": "code",
   "execution_count": 1,
   "metadata": {},
   "outputs": [
    {
     "name": "stdout",
     "output_type": "stream",
     "text": [
      "1.16.1\n"
     ]
    }
   ],
   "source": [
    "import meep as mp\n",
    "import numpy as np\n",
    "import matplotlib\n",
    "import matplotlib.pyplot as plt\n",
    "import time\n",
    "print(mp.__version__)\n",
    "\n",
    "from numpy.fft import fft, ifft, fftfreq"
   ]
  },
  {
   "cell_type": "markdown",
   "metadata": {},
   "source": [
    "[Finite-difference time-domain simulation of thermal noise in open cavities](https://doi.org/10.1103/PhysRevA.77.023810)\n",
    "$$D_n (\\omega,T) = \\frac{6\\hbar^2}{\\pi k_B^2 T^2}\\left(\\frac{\\omega}{\\exp\\frac{\\hbar\\omega}{k_B T}-1}\\right)$$\n",
    "\n",
    "When $\\omega = 0$, the denominator is zero, which causes the numerical problem. The remedy is to use Taylor expansion as $x\\ll 1$.\n",
    "\n",
    "$$\\frac{1}{\\exp{x}-1} = 1 - \\frac{x}{2} + \\frac{x^2}{12}-\\frac{x^4}{720}+O(x^6)$$\n"
   ]
  },
  {
   "cell_type": "code",
   "execution_count": 2,
   "metadata": {},
   "outputs": [
    {
     "name": "stderr",
     "output_type": "stream",
     "text": [
      "/home/jwu/qno/envs/mp/lib/python3.7/site-packages/ipykernel_launcher.py:5: RuntimeWarning: invalid value encountered in true_divide\n",
      "  \"\"\"\n"
     ]
    },
    {
     "data": {
      "image/png": "[encoded data removed]",
      "text/plain": [
       "<Figure size 600x400 with 1 Axes>"
      ]
     },
     "metadata": {
      "needs_background": "light"
     },
     "output_type": "display_data"
    }
   ],
   "source": [
    "## Test the equation\n",
    "Nx = 1000\n",
    "x = np.linspace(0,5,Nx)\n",
    "tmp = np.exp(x) -1\n",
    "f1 = x /tmp ## there is a warning since tmp[0] = 0\n",
    "f2 = 1 - x/2 + x **2/12 -x**4/720\n",
    "##\n",
    "fig = plt.figure(dpi=100)\n",
    "plt.plot(x,f1,label='f')\n",
    "plt.plot(x,f2,'--',label='Taylor')\n",
    "plt.grid()\n",
    "plt.legend()\n",
    "plt.show()\n",
    "                "
   ]
  },
  {
   "cell_type": "code",
   "execution_count": 3,
   "metadata": {},
   "outputs": [],
   "source": [
    "##\n",
    "\n",
    "resolution = 50                # pixels/um\n",
    "dpml = 1.0                      # PML thickness\n",
    "sz = 16 + 2*dpml\n",
    "cell_size = mp.Vector3(z=sz)\n",
    "pml_layers = [mp.PML(dpml)]\n",
    "\n",
    "dimensions = 1\n",
    "tsim = 1000\n",
    "courant = 0.5 \n",
    "dt = courant  / resolution\n",
    "Nt = int(tsim/dt + 1)\n",
    "tslice = np.linspace(0, tsim, Nt)\n",
    "\n",
    "##\n",
    "omegal = 2 * np.pi / Nt * np.linspace(0,Nt-1,Nt) \n",
    "ml = np.random.normal(0,1,Nt)\n",
    "nl = np.random.normal(0,1,Nt)"
   ]
  },
  {
   "cell_type": "markdown",
   "metadata": {},
   "source": [
    "We adopt Eq. (6) from [PHYSICAL REVIEW A 77, 023810 (2008)](https://doi.org/10.1103/PhysRevA.77.023810), but make some changes of the definitions. \n",
    "$$E_s(t) = \\frac{\\delta}{\\sqrt{t_\\mathrm{sim}}}\\sum_{l=0}^{N_t-1} (M_l + i N_l)D_n(\\omega_l,T)e^{i\\omega_l t}$$"
   ]
  },
  {
   "cell_type": "code",
   "execution_count": null,
   "metadata": {},
   "outputs": [],
   "source": [
    "##\n",
    "\n",
    "def Dnsqr(omega,T):\n",
    "    x = np.abs(omega/T)\n",
    "    if x > 1e-3:\n",
    "        tmp = omega / (np.exp(omega/T)-1) / T\n",
    "        output = 6 /np.pi/T  * tmp\n",
    "    else:\n",
    "        output = 6 /np.pi/T * (1 - x/2 + x **2/12 -x**4/720) ## Taylor expansion\n",
    "    \n",
    "    output = np.sqrt(output)\n",
    "    return output\n",
    "\n",
    "tempe = 1\n",
    "dlsqr = np.empty(Nt)\n",
    "\n",
    "for i in range(Nt):\n",
    "     dlsqr[i] = Dnsqr(omegal[i],tempe) \n",
    "\n",
    "fc = (ml + 1j * nl) * dlsqr ## Fourier component from Eq. 6        \n",
    "    \n",
    "## use fft to generate signal\n",
    "ts1 = time.time()\n",
    "\n",
    "  \n",
    "\n",
    "Ef = ifft(fc)\n",
    "\n",
    "te1 = time.time()\n",
    "\n",
    "## use for loop to generate signal\n",
    "\n",
    "Ef2 =np.empty(Nt) \n",
    "\n",
    "ts2 = time.time()\n",
    "\n",
    "Ef2 = np.zeros(Nt,dtype=complex)\n",
    "\n",
    "for i in range(Nt):\n",
    "       Ef2[i] = sum( fc * np.exp(1j * omegal * i))/Nt\n",
    "\n",
    "te2 = time.time()"
   ]
  },
  {
   "cell_type": "code",
   "execution_count": null,
   "metadata": {},
   "outputs": [],
   "source": [
    "##\n",
    "fig = plt.figure(dpi=100)\n",
    "plt.plot(tslice,np.real(Ef),'b',label = 'FFT',linewidth=1.5)\n",
    "plt.plot(tslice,np.real(Ef2),'g--', label = 'For loop',linewidth=1.5)\n",
    "plt.xlim(0,1)\n",
    "plt.ylim(-0.008,0.008)\n",
    "plt.legend()\n",
    "plt.grid()\n",
    "plt.show()\n",
    "\n",
    "print('using FFT', te1-ts1)\n",
    "print('using for loop', te2-ts2)\n",
    "print('ratio of computation time =', (te2-ts2)/(te1-ts1)) \n",
    "print('prediction by complexity: Nt /log2(Nt) =', Nt/np.log2(Nt)) \n"
   ]
  },
  {
   "cell_type": "code",
   "execution_count": 268,
   "metadata": {},
   "outputs": [
    {
     "data": {
      "text/plain": [
       "0.0"
      ]
     },
     "execution_count": 268,
     "metadata": {},
     "output_type": "execute_result"
    }
   ],
   "source": []
  },
  {
   "cell_type": "code",
   "execution_count": null,
   "metadata": {},
   "outputs": [],
   "source": []
  }
 ],
 "metadata": {
  "kernelspec": {
   "display_name": "Python 3",
   "language": "python",
   "name": "python3"
  },
  "language_info": {
   "codemirror_mode": {
    "name": "ipython",
    "version": 3
   },
   "file_extension": ".py",
   "mimetype": "text/x-python",
   "name": "python",
   "nbconvert_exporter": "python",
   "pygments_lexer": "ipython3",
   "version": "3.7.8"
  }
 },
 "nbformat": 4,
 "nbformat_minor": 5
}
