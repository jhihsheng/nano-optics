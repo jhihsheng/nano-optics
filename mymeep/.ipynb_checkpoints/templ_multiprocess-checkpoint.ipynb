{
 "cells": [
  {
   "cell_type": "markdown",
   "id": "312bf4a5-2742-484c-8a43-54b939be0c0a",
   "metadata": {},
   "source": [
    "Use the [`joblib`](https://joblib.readthedocs.io/en/latest/) to do parallel jobs. We need two functions\n",
    "- Parallel: tell to use how many CPUs  \n",
    "- Delayed: this is necessary. It is used to avoid computing before passing the job into parallel \n"
   ]
  },
  {
   "cell_type": "code",
   "execution_count": 45,
   "id": "5fb6c12a-5b67-41df-9343-75e45eac812c",
   "metadata": {},
   "outputs": [],
   "source": [
    "import time\n",
    "import numpy as np\n",
    "from joblib import Parallel, delayed\n",
    "\n",
    "res = Parallel(n_jobs=2)(delayed(sqrt)(i ** 2) for i in range(10))\n"
   ]
  },
  {
   "cell_type": "code",
   "execution_count": 46,
   "id": "f8635016-6205-444b-905d-6f114f9a1809",
   "metadata": {},
   "outputs": [
    {
     "name": "stdout",
     "output_type": "stream",
     "text": [
      "2.729459047317505\n"
     ]
    }
   ],
   "source": [
    "def slow_power(x, p):\n",
    "    time.sleep(1)\n",
    "    return [x,'haha'] \n",
    "\n",
    "ts = time.time()\n",
    "with Parallel(n_jobs=5) as parallel:\n",
    "     res = parallel([delayed(slow_power)(i, 5) for i in range(10)])\n",
    "\n",
    "te = time.time()\n",
    "print(te-ts)"
   ]
  },
  {
   "cell_type": "markdown",
   "id": "fbe546b2-4da7-444a-8fbc-8ad4367213eb",
   "metadata": {},
   "source": [
    "The output format is as following"
   ]
  },
  {
   "cell_type": "code",
   "execution_count": 47,
   "id": "a0da70e0-67af-4888-9317-cac3b9d8cd87",
   "metadata": {},
   "outputs": [
    {
     "data": {
      "text/plain": [
       "[[0, 'haha'],\n",
       " [1, 'haha'],\n",
       " [2, 'haha'],\n",
       " [3, 'haha'],\n",
       " [4, 'haha'],\n",
       " [5, 'haha'],\n",
       " [6, 'haha'],\n",
       " [7, 'haha'],\n",
       " [8, 'haha'],\n",
       " [9, 'haha']]"
      ]
     },
     "execution_count": 47,
     "metadata": {},
     "output_type": "execute_result"
    }
   ],
   "source": [
    "res"
   ]
  },
  {
   "cell_type": "code",
   "execution_count": null,
   "id": "21a3a7c9-af92-4de5-a625-88ab5ab1747e",
   "metadata": {},
   "outputs": [],
   "source": []
  }
 ],
 "metadata": {
  "kernelspec": {
   "display_name": "Python 3 (ipykernel)",
   "language": "python",
   "name": "python3"
  },
  "language_info": {
   "codemirror_mode": {
    "name": "ipython",
    "version": 3
   },
   "file_extension": ".py",
   "mimetype": "text/x-python",
   "name": "python",
   "nbconvert_exporter": "python",
   "pygments_lexer": "ipython3",
   "version": "3.10.5"
  }
 },
 "nbformat": 4,
 "nbformat_minor": 5
}
