{
 "cells": [
  {
   "cell_type": "markdown",
   "metadata": {},
   "source": [
    "# Dipole radiation in a planar structure\n",
    "In a planar structure, the dielectric function $\\epsilon(\\omega,\\mathbf{r})$ is spatially only a function of $z$, that is, $\\epsilon(\\omega,\\mathbf{r}) = \\epsilon(\\omega,z)$ Thus, the system (geometry + materials) has the azimuthal symmetry. We can exploit this property to reduce computation.  \n",
    "Any $E$-field can be expressed as\n",
    "$$ \\mathbf{E}(r,\\phi,z) = \\sum_{m=0}^{\\infty} \\mathbf{E}_m(r,z) e^{i m \\phi} $$\n",
    "\n",
    "In the cylindrical simulation, the computation of the total fields\n",
    "is splitted into separate computations of theri respective $m$.\n",
    "In the simulation class, we have to specify $m$. \n",
    "For example, the following code takes only fields of $m=-1$ into account.\n",
    "\n",
    "```python\n",
    "mp.Simulation(resolution=resolution,\n",
    "              cell_size=cell_size,\n",
    "              boundary_layers=pml_layers,\n",
    "              sources=sources,\n",
    "              dimensions=mp.CYLINDRICAL,\n",
    "              m=-1\n",
    "              )\n",
    "```\n",
    "In this case, even if you set  a `source` with contains other $m$'s, the simulation will only compute the component of $m=-1$.\n",
    "\n",
    "In this simulation, we consider a $x$-dipole at Origin, whose total field contain every $m$ term. However, for the far-field radiation, we only need to consider $m= \\pm 1$ (Why? Eq. 9.130 from Jackson. Conceptially, becuase there is only dipole moment). Moreover, because contributions from $m=\\pm1$ are equal, we need only the case $m=-1$\n",
    "\n"
   ]
  },
  {
   "cell_type": "code",
   "execution_count": 34,
   "metadata": {},
   "outputs": [
    {
     "name": "stdout",
     "output_type": "stream",
     "text": [
      "1.24.0\n"
     ]
    }
   ],
   "source": [
    "import meep as mp\n",
    "from meep.materials import Al, Ag, Au, SiO2\n",
    "import numpy as np\n",
    "import matplotlib\n",
    "import matplotlib.pyplot as plt\n",
    "from time import perf_counter\n",
    "print(mp.__version__)\n",
    "\n",
    "## import my colormap\n",
    "import mycmapls as ms\n",
    "mycmap = ms.mycmap\n",
    "mycmap1 = ms.mycmap1\n",
    "mycmap2 = ms.mycmap2\n",
    "bicmap = ms.bicmap\n",
    "##\n"
   ]
  },
  {
   "cell_type": "code",
   "execution_count": 35,
   "metadata": {},
   "outputs": [],
   "source": [
    "resolution = 30  # pixels/μm\n",
    "\n",
    "dpml = 0.5       # thickness of PML\n",
    "h = 3# height\n",
    "w = 12\n",
    "L = 3.0          # length of non-PML region\n",
    "n = 1          # vaccum refractive index\n",
    "wvl = 1.0        # wavelength (in vacuum)\n",
    "\n",
    "fcen = 1/wvl\n"
   ]
  },
  {
   "cell_type": "code",
   "execution_count": 36,
   "metadata": {},
   "outputs": [],
   "source": [
    "def bulk_ldos_cyl(m):\n",
    "    if np.abs(m)>1:\n",
    "        courant =  1/2/(np.abs(m)+1)\n",
    "    else:\n",
    "        courant = 0.5\n",
    "    \n",
    "    sr = w+dpml\n",
    "    sz = h+2*dpml\n",
    "    cell_size = mp.Vector3(sr,0,sz)\n",
    "\n",
    "    pml_layers = [mp.PML(dpml)]\n",
    "\n",
    "    sources = [mp.Source(src=mp.GaussianSource(fcen,fwidth=0.2*fcen),\n",
    "                         component=mp.Er,\n",
    "                         center=mp.Vector3(0))]\n",
    "\n",
    "    sim = mp.Simulation(resolution=resolution,\n",
    "                        cell_size=cell_size,\n",
    "                        boundary_layers=pml_layers,\n",
    "                        sources=sources,\n",
    "                        dimensions=mp.CYLINDRICAL,\n",
    "                        m=m,\n",
    "                        Courant = courant,\n",
    "                       # accurate_fields_near_cylorigin= True,# we have a dipole at Origin!!\n",
    "                        default_material=mp.Medium(index=n))\n",
    "\n",
    "    sim.run(mp.dft_ldos(fcen,0,1),\n",
    "            until_after_sources=mp.stop_when_fields_decayed(20,\n",
    "                                                            mp.Er,\n",
    "                                                            mp.Vector3(),\n",
    "                                                            1e-6))\n",
    "\n",
    "    return sim.ldos_data[0]\n",
    "\n",
    "\n",
    "def cavity_ldos_cyl(sz,m):\n",
    "    if np.abs(m)>1:\n",
    "        courant =  1/2/(np.abs(m)+1)\n",
    "    else:\n",
    "        courant = 0.5\n",
    "\n",
    "    sr = w+dpml\n",
    "    cell_size = mp.Vector3(sr,0,sz)\n",
    "\n",
    "    pml_layers = [mp.PML(dpml,direction=mp.R)]\n",
    "\n",
    "    sources = [mp.Source(src=mp.GaussianSource(fcen,fwidth=0.2*fcen),\n",
    "                         component=mp.Er,\n",
    "                         center=mp.Vector3())]\n",
    "\n",
    "    sim = mp.Simulation(resolution=resolution,\n",
    "                        cell_size=cell_size,\n",
    "                        boundary_layers=pml_layers,\n",
    "                        sources=sources,\n",
    "                        dimensions=mp.CYLINDRICAL,\n",
    "                        m=m,\n",
    "                        default_material=mp.Medium(index=n))\n",
    "\n",
    "    sim.run(mp.dft_ldos(fcen,0,1),\n",
    "            until_after_sources=mp.stop_when_fields_decayed(20,\n",
    "                                                            mp.Er,\n",
    "                                                            mp.Vector3(),\n",
    "                                                            1e-6))\n",
    "\n",
    "    return sim.ldos_data[0]\n"
   ]
  },
  {
   "cell_type": "code",
   "execution_count": 51,
   "metadata": {
    "collapsed": true,
    "jupyter": {
     "outputs_hidden": true
    },
    "tags": []
   },
   "outputs": [
    {
     "name": "stderr",
     "output_type": "stream",
     "text": [
      "Warning: grid volume is not an integer number of pixels; cell size will be rounded to nearest pixel.\n",
      "Warning: grid volume is not an integer number of pixels; cell size will be rounded to nearest pixel.\n",
      "Warning: grid volume is not an integer number of pixels; cell size will be rounded to nearest pixel.\n",
      "Warning: grid volume is not an integer number of pixels; cell size will be rounded to nearest pixel.\n",
      "Warning: grid volume is not an integer number of pixels; cell size will be rounded to nearest pixel.\n",
      "Warning: grid volume is not an integer number of pixels; cell size will be rounded to nearest pixel.\n"
     ]
    },
    {
     "name": "stdout",
     "output_type": "stream",
     "text": [
      "-----------\n",
      "Initializing structure...\n",
      "time for choose_chunkdivision = 4.50611e-05 s\n",
      "Working in Cylindrical dimensions.\n",
      "Computational cell is 12.5 x 0 x 0.5 with resolution 30\n",
      "time for set_epsilon = 0.00801301 s\n",
      "-----------\n",
      "-----------\n",
      "Initializing structure...\n",
      "time for choose_chunkdivision = 4.19617e-05 s\n",
      "Working in Cylindrical dimensions.\n",
      "Computational cell is 12.5 x 0 x 0.666667 with resolution 30\n",
      "-----------\n",
      "Initializing structure...\n",
      "time for choose_chunkdivision = 4.29153e-05 s\n",
      "Working in Cylindrical dimensions.\n",
      "Computational cell is 12.5 x 0 x 0.6 with resolution 30\n",
      "-----------\n",
      "Initializing structure...\n",
      "time for choose_chunkdivision = 4.3869e-05 s\n",
      "Working in Cylindrical dimensions.\n",
      "Computational cell is 12.5 x 0 x 0.566667 with resolution 30\n",
      "time for set_epsilon = 0.011061 s\n",
      "-----------\n",
      "time for set_epsilon = 0.0129511 s\n",
      "-----------\n",
      "time for set_epsilon = 0.0150931 s\n",
      "-----------\n",
      "-----------\n",
      "Initializing structure...\n",
      "time for choose_chunkdivision = 4.41074e-05 s\n",
      "Working in Cylindrical dimensions.\n",
      "Computational cell is 12.5 x 0 x 0.7 with resolution 30\n",
      "-----------\n",
      "Initializing structure...\n",
      "time for choose_chunkdivision = 4.41074e-05 s\n",
      "Working in Cylindrical dimensions.\n",
      "Computational cell is 12.5 x 0 x 0.766667 with resolution 30\n",
      "time for set_epsilon = 0.014039 s\n",
      "-----------\n",
      "time for set_epsilon = 0.0154769 s\n",
      "-----------\n"
     ]
    },
    {
     "name": "stderr",
     "output_type": "stream",
     "text": [
      "Warning: grid volume is not an integer number of pixels; cell size will be rounded to nearest pixel.\n",
      "Warning: grid volume is not an integer number of pixels; cell size will be rounded to nearest pixel.\n"
     ]
    },
    {
     "name": "stdout",
     "output_type": "stream",
     "text": [
      "Meep: using complex fields.\n",
      "field decay(t = 20.016666666666666): 25.11227803177538 / 25.11227803177538 = 1.0\n",
      "field decay(t = 40.03333333333333): 67.48852157431324 / 67.48852157431324 = 1.0\n",
      "field decay(t = 60.05): 0.007752118786614521 / 67.48852157431324 = 0.00011486573725101498\n",
      "field decay(t = 80.05): 1.4453748668864296e-06 / 67.48852157431324 = 2.1416602900315315e-08\n",
      "ldos0:, 1.0, 0.29682867643245875\n",
      "run 0 finished at t = 80.05 (4803 timesteps)\n",
      "-----------\n",
      "Initializing structure...\n",
      "time for choose_chunkdivision = 4.1008e-05 s\n",
      "Working in Cylindrical dimensions.\n",
      "Computational cell is 12.5 x 0 x 0.8 with resolution 30\n",
      "time for set_epsilon = 0.01492 s\n",
      "-----------\n",
      "Meep: using complex fields.\n",
      "field decay(t = 20.016666666666666): 25.0015076997424 / 25.0015076997424 = 1.0\n",
      "field decay(t = 40.03333333333333): 67.17204680935038 / 67.17204680935038 = 1.0\n",
      "field decay(t = 60.05): 0.0077253418487828185 / 67.17204680935038 = 0.00011500828418566885\n",
      "field decay(t = 80.05): 1.912150094314099e-06 / 67.17204680935038 = 2.8466455693113208e-08\n",
      "ldos0:, 1.0, 0.3268836227101687\n",
      "run 0 finished at t = 80.05 (4803 timesteps)\n",
      "-----------\n",
      "Initializing structure...\n",
      "time for choose_chunkdivision = 4.00543e-05 s\n",
      "Working in Cylindrical dimensions.\n",
      "Computational cell is 12.5 x 0 x 0.866667 with resolution 30\n",
      "time for set_epsilon = 0.0156541 s\n",
      "-----------\n"
     ]
    },
    {
     "name": "stderr",
     "output_type": "stream",
     "text": [
      "Warning: grid volume is not an integer number of pixels; cell size will be rounded to nearest pixel.\n",
      "Warning: grid volume is not an integer number of pixels; cell size will be rounded to nearest pixel.\n"
     ]
    },
    {
     "name": "stdout",
     "output_type": "stream",
     "text": [
      "Meep: using complex fields.\n",
      "field decay(t = 20.016666666666666): 25.217207637899506 / 25.217207637899506 = 1.0\n",
      "field decay(t = 40.03333333333333): 67.78387982977075 / 67.78387982977075 = 1.0\n",
      "field decay(t = 60.05): 0.007783624961403565 / 67.78387982977075 = 0.00011483003010377975\n",
      "field decay(t = 80.05): 8.043592262930255e-07 / 67.78387982977075 = 1.1866526795353931e-08\n",
      "ldos0:, 1.0, 0.24233119617368887\n",
      "run 0 finished at t = 80.05 (4803 timesteps)\n",
      "-----------\n",
      "Initializing structure...\n",
      "time for choose_chunkdivision = 4.19617e-05 s\n",
      "Working in Cylindrical dimensions.\n",
      "Computational cell is 12.5 x 0 x 0.9 with resolution 30\n",
      "time for set_epsilon = 0.0173521 s\n",
      "-----------\n",
      "Meep: using complex fields.\n",
      "field decay(t = 20.016666666666666): 25.240013019759566 / 25.240013019759566 = 1.0\n",
      "field decay(t = 40.03333333333333): 67.8496058431502 / 67.8496058431502 = 1.0\n",
      "field decay(t = 60.05): 0.007792002020915598 / 67.8496058431502 = 0.00011484225920086528\n",
      "field decay(t = 80.05): 5.506900655978443e-07 / 67.8496058431502 = 8.116334041363329e-09\n",
      "ldos0:, 1.0, 0.22125618612183626\n",
      "run 0 finished at t = 80.05 (4803 timesteps)\n",
      "-----------\n",
      "Initializing structure...\n",
      "time for choose_chunkdivision = 4.29153e-05 s\n",
      "Working in Cylindrical dimensions.\n",
      "Computational cell is 12.5 x 0 x 0.966667 with resolution 30\n",
      "time for set_epsilon = 0.015161 s\n",
      "-----------\n"
     ]
    },
    {
     "name": "stderr",
     "output_type": "stream",
     "text": [
      "Warning: grid volume is not an integer number of pixels; cell size will be rounded to nearest pixel.\n"
     ]
    },
    {
     "name": "stdout",
     "output_type": "stream",
     "text": [
      "Meep: using complex fields.\n",
      "field decay(t = 20.016666666666666): 25.26391652320426 / 25.26391652320426 = 1.0\n",
      "field decay(t = 40.03333333333333): 67.92005289881398 / 67.92005289881398 = 1.0\n",
      "field decay(t = 60.05): 0.007801806006101049 / 67.92005289881398 = 0.00011486749013172933\n",
      "field decay(t = 80.05): 2.521083274237257e-07 / 67.92005289881398 = 3.71183938562757e-09\n",
      "ldos0:, 1.0, 0.19326473072216416\n",
      "run 0 finished at t = 80.05 (4803 timesteps)\n",
      "-----------\n",
      "Initializing structure...\n",
      "time for choose_chunkdivision = 4.48227e-05 s\n",
      "Working in Cylindrical dimensions.\n",
      "Computational cell is 12.5 x 0 x 1 with resolution 30\n",
      "time for set_epsilon = 0.018379 s\n",
      "-----------\n"
     ]
    },
    {
     "name": "stderr",
     "output_type": "stream",
     "text": [
      "Warning: grid volume is not an integer number of pixels; cell size will be rounded to nearest pixel.\n"
     ]
    },
    {
     "name": "stdout",
     "output_type": "stream",
     "text": [
      "Meep: using complex fields.\n",
      "field decay(t = 20.016666666666666): 24.54460120292275 / 24.54460120292275 = 1.0\n",
      "field decay(t = 40.03333333333333): 65.24964839560825 / 65.24964839560825 = 1.0\n",
      "field decay(t = 60.05): 0.0014113502110201187 / 65.24964839560825 = 2.163000484635734e-05\n",
      "field decay(t = 80.05): 0.00035625253939566457 / 65.24964839560825 = 5.459838453622117e-06\n",
      "field decay(t = 100.06666666666666): 0.00014207116212668067 / 65.24964839560825 = 2.177347550829761e-06\n",
      "field decay(t = 120.08333333333333): 7.4385946685451e-05 / 65.24964839560825 = 1.1400206516738517e-06\n",
      "field decay(t = 140.1): 5.480131616198466e-05 / 65.24964839560825 = 8.398714400685287e-07\n",
      "ldos0:, 1.0, 0.3292514546240703\n",
      "run 0 finished at t = 140.1 (8406 timesteps)\n",
      "-----------\n",
      "Initializing structure...\n",
      "time for choose_chunkdivision = 4.69685e-05 s\n",
      "Working in Cylindrical dimensions.\n",
      "Computational cell is 12.5 x 0 x 1.06667 with resolution 30\n",
      "time for set_epsilon = 0.0213528 s\n",
      "-----------\n"
     ]
    },
    {
     "name": "stderr",
     "output_type": "stream",
     "text": [
      "Warning: grid volume is not an integer number of pixels; cell size will be rounded to nearest pixel.\n"
     ]
    },
    {
     "name": "stdout",
     "output_type": "stream",
     "text": [
      "Meep: using complex fields.\n",
      "field decay(t = 20.016666666666666): 25.270364700405047 / 25.270364700405047 = 1.0\n",
      "field decay(t = 40.03333333333333): 67.93978625967927 / 67.93978625967927 = 1.0\n",
      "field decay(t = 60.05): 0.007803814511003037 / 67.93978625967927 = 0.00011486368946136096\n",
      "field decay(t = 80.05): 1.6533339987014658e-07 / 67.93978625967927 = 2.4335284076139083e-09\n",
      "ldos0:, 1.0, 0.17907398552267573\n",
      "run 0 finished at t = 80.05 (4803 timesteps)\n",
      "-----------\n",
      "Initializing structure...\n",
      "time for choose_chunkdivision = 5.19753e-05 s\n",
      "Working in Cylindrical dimensions.\n",
      "Computational cell is 12.5 x 0 x 1.1 with resolution 30\n",
      "time for set_epsilon = 0.0195088 s\n",
      "-----------\n"
     ]
    },
    {
     "name": "stderr",
     "output_type": "stream",
     "text": [
      "Warning: grid volume is not an integer number of pixels; cell size will be rounded to nearest pixel.\n"
     ]
    },
    {
     "name": "stdout",
     "output_type": "stream",
     "text": [
      "Meep: using complex fields.\n",
      "field decay(t = 20.016666666666666): 25.269354309793414 / 25.269354309793414 = 1.0\n",
      "field decay(t = 40.03333333333333): 67.94136735756346 / 67.94136735756346 = 1.0\n",
      "field decay(t = 60.05): 0.00780693316024285 / 67.94136735756346 = 0.00011490691847805085\n",
      "field decay(t = 80.05): 1.208233036645245e-07 / 67.94136735756346 = 1.7783466592400576e-09\n",
      "ldos0:, 1.0, 0.15848458317649194\n",
      "run 0 finished at t = 80.05 (4803 timesteps)\n",
      "-----------\n",
      "Initializing structure...\n",
      "time for choose_chunkdivision = 5.50747e-05 s\n",
      "Working in Cylindrical dimensions.\n",
      "Computational cell is 12.5 x 0 x 1.16667 with resolution 30\n",
      "time for set_epsilon = 0.0211871 s\n",
      "-----------\n"
     ]
    },
    {
     "name": "stderr",
     "output_type": "stream",
     "text": [
      "Warning: grid volume is not an integer number of pixels; cell size will be rounded to nearest pixel.\n"
     ]
    },
    {
     "name": "stdout",
     "output_type": "stream",
     "text": [
      "Meep: using complex fields.\n",
      "field decay(t = 20.016666666666666): 25.26285474722543 / 25.26285474722543 = 1.0\n",
      "field decay(t = 40.03333333333333): 67.92540568456866 / 67.92540568456866 = 1.0\n",
      "field decay(t = 60.05): 0.007804870003772294 / 67.92540568456866 = 0.00011490354639936158\n",
      "field decay(t = 80.05): 6.762423182691678e-08 / 67.92540568456866 = 9.955661088127987e-10\n",
      "ldos0:, 1.0, 0.15027767695135089\n",
      "run 0 finished at t = 80.05 (4803 timesteps)\n",
      "-----------\n",
      "Initializing structure...\n",
      "time for choose_chunkdivision = 5.19753e-05 s\n",
      "Working in Cylindrical dimensions.\n",
      "Computational cell is 12.5 x 0 x 1.2 with resolution 30\n",
      "time for set_epsilon = 0.0225101 s\n",
      "-----------\n"
     ]
    },
    {
     "name": "stderr",
     "output_type": "stream",
     "text": [
      "Warning: grid volume is not an integer number of pixels; cell size will be rounded to nearest pixel.\n"
     ]
    },
    {
     "name": "stdout",
     "output_type": "stream",
     "text": [
      "Meep: using complex fields.\n",
      "field decay(t = 20.016666666666666): 25.2509896657967 / 25.2509896657967 = 1.0\n",
      "field decay(t = 40.03333333333333): 67.89350385394751 / 67.89350385394751 = 1.0\n",
      "field decay(t = 60.05): 0.007832602879959648 / 67.89350385394751 = 0.00011536601346734353\n",
      "field decay(t = 80.05): 5.6824690583088866e-08 / 67.89350385394751 = 8.369680066200461e-10\n",
      "ldos0:, 1.0, 0.13485924731417567\n",
      "run 0 finished at t = 80.05 (4803 timesteps)\n",
      "-----------\n",
      "Initializing structure...\n",
      "time for choose_chunkdivision = 6.19888e-05 s\n",
      "Working in Cylindrical dimensions.\n",
      "Computational cell is 12.5 x 0 x 1.26667 with resolution 30\n",
      "time for set_epsilon = 0.021842 s\n",
      "-----------\n"
     ]
    },
    {
     "name": "stderr",
     "output_type": "stream",
     "text": [
      "Warning: grid volume is not an integer number of pixels; cell size will be rounded to nearest pixel.\n"
     ]
    },
    {
     "name": "stdout",
     "output_type": "stream",
     "text": [
      "Meep: using complex fields.\n",
      "field decay(t = 20.016666666666666): 25.246896817931134 / 25.246896817931134 = 1.0\n",
      "field decay(t = 40.03333333333333): 67.88720373281018 / 67.88720373281018 = 1.0\n",
      "field decay(t = 60.05): 0.0078028409843129976 / 67.88720373281018 = 0.00011493831761024281\n",
      "field decay(t = 80.05): 3.1607530913351084e-08 / 67.88720373281018 = 4.655889354016069e-10\n",
      "ldos0:, 1.0, 0.12885932756270385\n",
      "run 0 finished at t = 80.05 (4803 timesteps)\n",
      "-----------\n",
      "Initializing structure...\n",
      "time for choose_chunkdivision = 4.29153e-05 s\n",
      "Working in Cylindrical dimensions.\n",
      "Computational cell is 12.5 x 0 x 1.3 with resolution 30\n",
      "time for set_epsilon = 0.022567 s\n",
      "-----------\n",
      "Meep: using complex fields.\n",
      "field decay(t = 20.016666666666666): 25.229645496311 / 25.229645496311 = 1.0\n",
      "field decay(t = 40.03333333333333): 67.84295132237568 / 67.84295132237568 = 1.0\n",
      "field decay(t = 60.05): 0.007801300932573094 / 67.84295132237568 = 0.0001149905890075879\n",
      "on time step 4360 (time=72.6667), 0.00091756 s/step\n"
     ]
    },
    {
     "name": "stderr",
     "output_type": "stream",
     "text": [
      "Warning: grid volume is not an integer number of pixels; cell size will be rounded to nearest pixel.\n"
     ]
    },
    {
     "name": "stdout",
     "output_type": "stream",
     "text": [
      "field decay(t = 80.05): 3.705417854027903e-08 / 67.84295132237568 = 5.461758048261378e-10\n",
      "ldos0:, 1.0, 0.11901200865146884\n",
      "run 0 finished at t = 80.05 (4803 timesteps)\n",
      "-----------\n",
      "Initializing structure...\n",
      "time for choose_chunkdivision = 5.4121e-05 s\n",
      "Working in Cylindrical dimensions.\n",
      "Computational cell is 12.5 x 0 x 1.36667 with resolution 30\n",
      "time for set_epsilon = 0.0258369 s\n",
      "-----------\n",
      "Meep: using complex fields.\n",
      "field decay(t = 20.016666666666666): 25.219457703234863 / 25.219457703234863 = 1.0\n",
      "field decay(t = 40.03333333333333): 67.81583415376906 / 67.81583415376906 = 1.0\n",
      "field decay(t = 60.05): 0.007800359457647568 / 67.81583415376906 = 0.00011502268688401941\n",
      "on time step 3920 (time=65.3333), 0.00102069 s/step\n",
      "Meep: using complex fields.\n",
      "field decay(t = 20.016666666666666): 25.19824232528585 / 25.19824232528585 = 1.0\n",
      "field decay(t = 40.03333333333333): 67.75999747120032 / 67.75999747120032 = 1.0\n",
      "on time step 3564 (time=59.4), 0.00112254 s/step\n",
      "Meep: using complex fields.\n",
      "field decay(t = 20.016666666666666): 25.185387059799446 / 25.185387059799446 = 1.0\n",
      "field decay(t = 40.03333333333333): 67.72567652284373 / 67.72567652284373 = 1.0\n",
      "on time step 3436 (time=57.2667), 0.00116457 s/step\n",
      "field decay(t = 80.05): 2.9975192334971604e-08 / 67.81583415376906 = 4.4200875369319106e-10\n",
      "ldos0:, 1.0, 0.11496655418867269\n",
      "run 0 finished at t = 80.05 (4803 timesteps)\n",
      "-----------\n",
      "Initializing structure...\n",
      "time for choose_chunkdivision = 7.98702e-05 s\n",
      "Working in Cylindrical dimensions.\n",
      "Computational cell is 12.5 x 0 x 1.4 with resolution 30\n",
      "time for set_epsilon = 0.022728 s\n",
      "-----------\n"
     ]
    },
    {
     "name": "stderr",
     "output_type": "stream",
     "text": [
      "Warning: grid volume is not an integer number of pixels; cell size will be rounded to nearest pixel.\n"
     ]
    },
    {
     "name": "stdout",
     "output_type": "stream",
     "text": [
      "Meep: using complex fields.\n",
      "field decay(t = 20.016666666666666): 25.156827371154197 / 25.156827371154197 = 1.0\n",
      "field decay(t = 40.03333333333333): 67.64723488599465 / 67.64723488599465 = 1.0\n",
      "on time step 3080 (time=51.3333), 0.00129896 s/step\n",
      "Meep: using complex fields.\n",
      "field decay(t = 20.016666666666666): 25.14126901671885 / 25.14126901671885 = 1.0\n",
      "field decay(t = 40.03333333333333): 67.60281128928732 / 67.60281128928732 = 1.0\n",
      "on time step 2934 (time=48.9), 0.00136398 s/step\n",
      "field decay(t = 60.05): 0.007793260439583067 / 67.75999747120032 = 0.00011501270263322244\n",
      "field decay(t = 80.05): 2.176350985069399e-08 / 67.75999747120032 = 3.2118522229792026e-10\n",
      "ldos0:, 1.0, 0.10545708143293114\n",
      "run 0 finished at t = 80.05 (4803 timesteps)\n",
      "-----------\n",
      "Initializing structure...\n",
      "time for choose_chunkdivision = 5.00679e-05 s\n",
      "Working in Cylindrical dimensions.\n",
      "Computational cell is 12.5 x 0 x 1.46667 with resolution 30\n",
      "time for set_epsilon = 0.0292289 s\n",
      "-----------\n"
     ]
    },
    {
     "name": "stderr",
     "output_type": "stream",
     "text": [
      "Warning: grid volume is not an integer number of pixels; cell size will be rounded to nearest pixel.\n"
     ]
    },
    {
     "name": "stdout",
     "output_type": "stream",
     "text": [
      "field decay(t = 60.05): 0.007789582476488261 / 67.72567652284373 = 0.00011501668017831983\n",
      "field decay(t = 80.05): 2.1157546691214216e-08 / 67.72567652284373 = 3.1240066954632516e-10\n",
      "ldos0:, 1.0, 0.1008945930539196\n",
      "run 0 finished at t = 80.05 (4803 timesteps)\n",
      "-----------\n",
      "Initializing structure...\n",
      "time for choose_chunkdivision = 3.88622e-05 s\n",
      "Working in Cylindrical dimensions.\n",
      "Computational cell is 12.5 x 0 x 1.5 with resolution 30\n",
      "time for set_epsilon = 0.0266421 s\n",
      "-----------\n",
      "Meep: using complex fields.\n",
      "field decay(t = 20.016666666666666): 25.10028176238265 / 25.10028176238265 = 1.0\n",
      "field decay(t = 40.03333333333333): 67.47271197907254 / 67.47271197907254 = 1.0\n",
      "on time step 2725 (time=45.4167), 0.00146844 s/step\n"
     ]
    },
    {
     "name": "stderr",
     "output_type": "stream",
     "text": [
      "Warning: grid volume is not an integer number of pixels; cell size will be rounded to nearest pixel.\n"
     ]
    },
    {
     "name": "stdout",
     "output_type": "stream",
     "text": [
      "field decay(t = 60.05): 0.0077852161224075105 / 67.64723488599465 = 0.00011508550401990375\n",
      "field decay(t = 80.05): 2.253334414498869e-08 / 67.64723488599465 = 3.331007421510126e-10\n",
      "ldos0:, 1.0, 0.09479564633016316\n",
      "run 0 finished at t = 80.05 (4803 timesteps)\n",
      "-----------\n",
      "Initializing structure...\n",
      "time for choose_chunkdivision = 5.50747e-05 s\n",
      "Working in Cylindrical dimensions.\n",
      "Computational cell is 12.5 x 0 x 1.56667 with resolution 30\n",
      "time for set_epsilon = 0.024868 s\n",
      "-----------\n"
     ]
    },
    {
     "name": "stderr",
     "output_type": "stream",
     "text": [
      "Warning: grid volume is not an integer number of pixels; cell size will be rounded to nearest pixel.\n"
     ]
    },
    {
     "name": "stdout",
     "output_type": "stream",
     "text": [
      "field decay(t = 60.05): 0.007783977447558414 / 67.60281128928732 = 0.00011514280692039655\n",
      "field decay(t = 80.05): 2.317008368817633e-08 / 67.60281128928732 = 3.4273846377521847e-10\n",
      "ldos0:, 1.0, 0.09250258427358965\n",
      "run 0 finished at t = 80.05 (4803 timesteps)\n",
      "-----------\n",
      "Initializing structure...\n",
      "time for choose_chunkdivision = 7.89165e-05 s\n",
      "Working in Cylindrical dimensions.\n",
      "Computational cell is 12.5 x 0 x 1.6 with resolution 30\n",
      "time for set_epsilon = 0.0336392 s\n",
      "-----------\n"
     ]
    },
    {
     "name": "stderr",
     "output_type": "stream",
     "text": [
      "Warning: grid volume is not an integer number of pixels; cell size will be rounded to nearest pixel.\n"
     ]
    },
    {
     "name": "stdout",
     "output_type": "stream",
     "text": [
      "Meep: using complex fields.\n",
      "field decay(t = 20.016666666666666): 25.07431750422638 / 25.07431750422638 = 1.0\n",
      "field decay(t = 40.03333333333333): 67.36318293403816 / 67.36318293403816 = 1.0\n",
      "on time step 2447 (time=40.7833), 0.00163484 s/step\n",
      "Meep: using complex fields.\n",
      "field decay(t = 20.016666666666666): 25.039192153720197 / 25.039192153720197 = 1.0\n",
      "on time step 2298 (time=38.3), 0.00174115 s/step\n",
      "field decay(t = 60.05): 0.007790989259802317 / 67.47271197907254 = 0.00011546874330794327\n",
      "field decay(t = 80.05): 3.5679401864238625e-08 / 67.47271197907254 = 5.28797506691372e-10\n",
      "ldos0:, 1.0, 0.08654083341852846\n",
      "run 0 finished at t = 80.05 (4803 timesteps)\n",
      "-----------\n",
      "Initializing structure...\n",
      "time for choose_chunkdivision = 5.50747e-05 s\n",
      "Working in Cylindrical dimensions.\n",
      "Computational cell is 12.5 x 0 x 1.66667 with resolution 30\n"
     ]
    },
    {
     "name": "stderr",
     "output_type": "stream",
     "text": [
      "Warning: grid volume is not an integer number of pixels; cell size will be rounded to nearest pixel.\n"
     ]
    },
    {
     "name": "stdout",
     "output_type": "stream",
     "text": [
      "time for set_epsilon = 0.0315681 s\n",
      "-----------\n",
      "Meep: using complex fields.\n",
      "field decay(t = 20.016666666666666): 25.044808175388038 / 25.044808175388038 = 1.0\n",
      "on time step 2233 (time=37.2167), 0.00179268 s/step\n",
      "Meep: using complex fields.\n",
      "field decay(t = 20.016666666666666): 25.090257791945593 / 25.090257791945593 = 1.0\n",
      "on time step 2063 (time=34.3833), 0.00193956 s/step\n",
      "Meep: using complex fields.\n",
      "field decay(t = 20.016666666666666): 25.116061338962506 / 25.116061338962506 = 1.0\n",
      "on time step 2039 (time=33.9833), 0.00196187 s/step\n",
      "field decay(t = 60.05): 0.007563586632573391 / 67.36318293403816 = 0.00011228071927627935\n",
      "on time step 4736 (time=78.9333), 0.00174816 s/step\n",
      "field decay(t = 80.05): 6.174758602405801e-07 / 67.36318293403816 = 9.166370016173535e-09\n",
      "ldos0:, 1.0, 0.08330297701314945\n",
      "run 0 finished at t = 80.05 (4803 timesteps)\n",
      "-----------\n",
      "Initializing structure...\n",
      "time for choose_chunkdivision = 6.00815e-05 s\n",
      "Working in Cylindrical dimensions.\n",
      "Computational cell is 12.5 x 0 x 1.7 with resolution 30\n",
      "time for set_epsilon = 0.031744 s\n",
      "-----------\n"
     ]
    },
    {
     "name": "stderr",
     "output_type": "stream",
     "text": [
      "Warning: grid volume is not an integer number of pixels; cell size will be rounded to nearest pixel.\n"
     ]
    },
    {
     "name": "stdout",
     "output_type": "stream",
     "text": [
      "field decay(t = 40.03333333333333): 67.09996001265519 / 67.09996001265519 = 1.0\n",
      "field decay(t = 60.05): 0.00834452431168522 / 67.09996001265519 = 0.00012435960185537258\n",
      "on time step 4562 (time=76.0333), 0.00176756 s/step\n",
      "Meep: using complex fields.\n",
      "field decay(t = 20.016666666666666): 25.156194506354808 / 25.156194506354808 = 1.0\n",
      "on time step 1908 (time=31.8), 0.00209656 s/step\n",
      "field decay(t = 80.05): 2.9428309619237648e-05 / 67.09996001265519 = 4.3857417521094513e-07\n",
      "ldos0:, 1.0, 0.08152161894358134\n",
      "run 0 finished at t = 80.05 (4803 timesteps)\n",
      "-----------\n",
      "Initializing structure...\n",
      "time for choose_chunkdivision = 5.88894e-05 s\n",
      "Working in Cylindrical dimensions.\n",
      "Computational cell is 12.5 x 0 x 1.76667 with resolution 30\n"
     ]
    },
    {
     "name": "stderr",
     "output_type": "stream",
     "text": [
      "Warning: grid volume is not an integer number of pixels; cell size will be rounded to nearest pixel.\n"
     ]
    },
    {
     "name": "stdout",
     "output_type": "stream",
     "text": [
      "time for set_epsilon = 0.0318308 s\n",
      "-----------\n",
      "field decay(t = 40.03333333333333): 67.09089663986124 / 67.09089663986124 = 1.0\n",
      "field decay(t = 60.05): 0.005096674983656372 / 67.09089663986124 = 7.596671439666294e-05\n",
      "on time step 4450 (time=74.1667), 0.00180449 s/step\n"
     ]
    },
    {
     "name": "stderr",
     "output_type": "stream",
     "text": [
      "Warning: grid volume is not an integer number of pixels; cell size will be rounded to nearest pixel.\n"
     ]
    },
    {
     "name": "stdout",
     "output_type": "stream",
     "text": [
      "field decay(t = 80.05): 3.9670398036412774e-05 / 67.09089663986124 = 5.912933053996939e-07\n",
      "ldos0:, 1.0, 0.1661800855308791\n",
      "run 0 finished at t = 80.05 (4803 timesteps)\n",
      "-----------\n",
      "Initializing structure...\n",
      "time for choose_chunkdivision = 9.70364e-05 s\n",
      "Working in Cylindrical dimensions.\n",
      "Computational cell is 12.5 x 0 x 1.8 with resolution 30\n",
      "time for set_epsilon = 0.027564 s\n",
      "-----------\n",
      "field decay(t = 40.03333333333333): 67.34404698730421 / 67.34404698730421 = 1.0\n",
      "field decay(t = 60.05): 0.00851368360685449 / 67.34404698730421 = 0.00012642073037962063\n",
      "on time step 4242 (time=70.7), 0.00183622 s/step\n",
      "field decay(t = 40.03333333333333): 67.46994055233513 / 67.46994055233513 = 1.0\n",
      "field decay(t = 60.05): 0.0076274463419426205 / 67.46994055233513 = 0.00011304954887319275\n",
      "on time step 4229 (time=70.4833), 0.00182669 s/step\n",
      "field decay(t = 80.05): 4.528201894939358e-06 / 67.34404698730421 = 6.723982441674497e-08\n",
      "ldos0:, 1.0, 0.1998312542032852\n",
      "run 0 finished at t = 80.05 (4803 timesteps)\n",
      "-----------\n",
      "Initializing structure...\n",
      "time for choose_chunkdivision = 5.81741e-05 s\n",
      "Working in Cylindrical dimensions.\n",
      "Computational cell is 12.5 x 0 x 1.86667 with resolution 30\n",
      "time for set_epsilon = 0.0372109 s\n",
      "-----------\n"
     ]
    },
    {
     "name": "stderr",
     "output_type": "stream",
     "text": [
      "Warning: grid volume is not an integer number of pixels; cell size will be rounded to nearest pixel.\n"
     ]
    },
    {
     "name": "stdout",
     "output_type": "stream",
     "text": [
      "Meep: using complex fields.\n",
      "field decay(t = 20.016666666666666): 25.16921486515239 / 25.16921486515239 = 1.0\n",
      "on time step 2082 (time=34.7), 0.00192217 s/step\n"
     ]
    },
    {
     "name": "stderr",
     "output_type": "stream",
     "text": [
      "Warning: grid volume is not an integer number of pixels; cell size will be rounded to nearest pixel.\n"
     ]
    },
    {
     "name": "stdout",
     "output_type": "stream",
     "text": [
      "field decay(t = 80.05): 5.522356957141589e-07 / 67.46994055233513 = 8.184914514424395e-09\n",
      "ldos0:, 1.0, 0.19330842352678648\n",
      "run 0 finished at t = 80.05 (4803 timesteps)\n",
      "-----------\n",
      "Initializing structure...\n",
      "time for choose_chunkdivision = 5.98431e-05 s\n",
      "Working in Cylindrical dimensions.\n",
      "Computational cell is 12.5 x 0 x 1.9 with resolution 30\n",
      "time for set_epsilon = 0.0346031 s\n",
      "-----------\n",
      "field decay(t = 40.03333333333333): 67.62140135948246 / 67.62140135948246 = 1.0\n",
      "field decay(t = 60.05): 0.007780850187505483 / 67.62140135948246 = 0.00011506490594806912\n",
      "on time step 4025 (time=67.0833), 0.00188955 s/step\n",
      "Meep: using complex fields.\n",
      "field decay(t = 20.016666666666666): 25.1860257310839 / 25.1860257310839 = 1.0\n",
      "on time step 2041 (time=34.0167), 0.00196098 s/step\n",
      "Meep: using complex fields.\n",
      "field decay(t = 20.016666666666666): 25.191820518493664 / 25.191820518493664 = 1.0\n",
      "on time step 2016 (time=33.6), 0.00198473 s/step\n"
     ]
    },
    {
     "name": "stderr",
     "output_type": "stream",
     "text": [
      "Warning: grid volume is not an integer number of pixels; cell size will be rounded to nearest pixel.\n"
     ]
    },
    {
     "name": "stdout",
     "output_type": "stream",
     "text": [
      "field decay(t = 80.05): 2.8300256397265737e-07 / 67.62140135948246 = 4.185103506923586e-09\n",
      "ldos0:, 1.0, 0.18097726139197717\n",
      "run 0 finished at t = 80.05 (4803 timesteps)\n",
      "-----------\n",
      "Initializing structure...\n",
      "time for choose_chunkdivision = 5.60284e-05 s\n",
      "Working in Cylindrical dimensions.\n",
      "Computational cell is 12.5 x 0 x 1.96667 with resolution 30\n",
      "time for set_epsilon = 0.0298698 s\n",
      "-----------\n",
      "Meep: using complex fields.\n",
      "field decay(t = 20.016666666666666): 25.19734329299597 / 25.19734329299597 = 1.0\n",
      "on time step 1901 (time=31.6833), 0.0021046 s/step\n",
      "field decay(t = 40.03333333333333): 67.66297290808646 / 67.66297290808646 = 1.0\n",
      "field decay(t = 60.05): 0.0077782661040428 / 67.66297290808646 = 0.00011495602054921256\n",
      "on time step 4236 (time=70.6), 0.00185782 s/step\n",
      "Meep: using complex fields.\n",
      "field decay(t = 20.016666666666666): 25.197047540426922 / 25.197047540426922 = 1.0\n",
      "on time step 1824 (time=30.4), 0.00219304 s/step\n",
      "field decay(t = 40.03333333333333): 67.71399019695627 / 67.71399019695627 = 1.0\n",
      "field decay(t = 60.05): 0.007782947435652448 / 67.71399019695627 = 0.00011493854391115604\n",
      "on time step 3963 (time=66.05), 0.00208185 s/step\n",
      "field decay(t = 80.05): 2.851273069330411e-07 / 67.66297290808646 = 4.213934071746429e-09\n",
      "ldos0:, 1.0, 0.175377787788798\n",
      "run 0 finished at t = 80.05 (4803 timesteps)\n",
      "-----------\n",
      "Initializing structure...\n",
      "time for choose_chunkdivision = 8.10623e-05 s\n",
      "Working in Cylindrical dimensions.\n",
      "Computational cell is 12.5 x 0 x 2 with resolution 30\n",
      "time for set_epsilon = 0.0371349 s\n",
      "-----------\n"
     ]
    },
    {
     "name": "stderr",
     "output_type": "stream",
     "text": [
      "Warning: grid volume is not an integer number of pixels; cell size will be rounded to nearest pixel.\n"
     ]
    },
    {
     "name": "stdout",
     "output_type": "stream",
     "text": [
      "field decay(t = 40.03333333333333): 67.73126733583331 / 67.73126733583331 = 1.0\n",
      "field decay(t = 60.05): 0.007785577722509704 / 67.73126733583331 = 0.00011494805912764509\n",
      "on time step 3844 (time=64.0667), 0.00218899 s/step\n",
      "Meep: using complex fields.\n",
      "field decay(t = 20.016666666666666): 25.195849942082745 / 25.195849942082745 = 1.0\n",
      "on time step 1591 (time=26.5167), 0.00251418 s/step\n",
      "field decay(t = 80.05): 2.1818488215079745e-07 / 67.71399019695627 = 3.2221536718804203e-09\n",
      "ldos0:, 1.0, 0.16328308617351078\n",
      "run 0 finished at t = 80.05 (4803 timesteps)\n",
      "-----------\n",
      "Initializing structure...\n",
      "time for choose_chunkdivision = 4.88758e-05 s\n",
      "Working in Cylindrical dimensions.\n",
      "Computational cell is 12.5 x 0 x 2.06667 with resolution 30\n",
      "time for set_epsilon = 0.0412989 s\n",
      "-----------\n"
     ]
    },
    {
     "name": "stderr",
     "output_type": "stream",
     "text": [
      "Warning: grid volume is not an integer number of pixels; cell size will be rounded to nearest pixel.\n"
     ]
    },
    {
     "name": "stdout",
     "output_type": "stream",
     "text": [
      "field decay(t = 40.03333333333333): 67.74854500117719 / 67.74854500117719 = 1.0\n",
      "on time step 3537 (time=58.95), 0.00244618 s/step\n",
      "field decay(t = 80.05): 2.259352367567816e-07 / 67.73126733583331 = 3.3357597701003044e-09\n",
      "ldos0:, 1.0, 0.16106935907043157\n",
      "run 0 finished at t = 80.05 (4803 timesteps)\n",
      "-----------\n",
      "Initializing structure...\n",
      "time for choose_chunkdivision = 4.69685e-05 s\n",
      "Working in Cylindrical dimensions.\n",
      "Computational cell is 12.5 x 0 x 2.1 with resolution 30\n",
      "time for set_epsilon = 0.0419052 s\n",
      "-----------\n",
      "field decay(t = 40.03333333333333): 67.74764019020022 / 67.74764019020022 = 1.0\n",
      "on time step 3451 (time=57.5167), 0.00245956 s/step\n"
     ]
    },
    {
     "name": "stderr",
     "output_type": "stream",
     "text": [
      "Warning: grid volume is not an integer number of pixels; cell size will be rounded to nearest pixel.\n"
     ]
    },
    {
     "name": "stdout",
     "output_type": "stream",
     "text": [
      "Meep: using complex fields.\n",
      "field decay(t = 20.016666666666666): 25.195175686765047 / 25.195175686765047 = 1.0\n",
      "on time step 1556 (time=25.9333), 0.00257088 s/step\n",
      "field decay(t = 40.03333333333333): 67.74474137577484 / 67.74474137577484 = 1.0\n",
      "on time step 3183 (time=53.05), 0.00251375 s/step\n",
      "field decay(t = 60.05): 0.007788208135452936 / 67.74854500117719 = 0.00011495757045878415\n",
      "field decay(t = 80.05): 1.6643121124462691e-07 / 67.74854500117719 = 2.456602001441286e-09\n",
      "ldos0:, 1.0, 0.1521321916384023\n",
      "run 0 finished at t = 80.05 (4803 timesteps)\n",
      "-----------\n",
      "Initializing structure...\n",
      "time for choose_chunkdivision = 8.51154e-05 s\n",
      "Working in Cylindrical dimensions.\n",
      "Computational cell is 12.5 x 0 x 2.16667 with resolution 30\n",
      "time for set_epsilon = 0.036629 s\n",
      "-----------\n"
     ]
    },
    {
     "name": "stderr",
     "output_type": "stream",
     "text": [
      "Warning: grid volume is not an integer number of pixels; cell size will be rounded to nearest pixel.\n"
     ]
    },
    {
     "name": "stdout",
     "output_type": "stream",
     "text": [
      "Meep: using complex fields.\n",
      "field decay(t = 20.016666666666666): 25.18924060536324 / 25.18924060536324 = 1.0\n",
      "on time step 1540 (time=25.6667), 0.00259879 s/step\n",
      "field decay(t = 60.05): 0.007792227589098818 / 67.74764019020022 = 0.00011501843558273449\n",
      "field decay(t = 80.05): 1.3933695216052027e-07 / 67.74764019020022 = 2.0567056176323547e-09\n",
      "ldos0:, 1.0, 0.14603434890139044\n",
      "run 0 finished at t = 80.05 (4803 timesteps)\n",
      "-----------\n",
      "Initializing structure...\n",
      "time for choose_chunkdivision = 6.79493e-05 s\n",
      "Working in Cylindrical dimensions.\n",
      "Computational cell is 12.5 x 0 x 2.2 with resolution 30\n",
      "time for set_epsilon = 0.0418282 s\n",
      "-----------\n"
     ]
    },
    {
     "name": "stderr",
     "output_type": "stream",
     "text": [
      "Warning: grid volume is not an integer number of pixels; cell size will be rounded to nearest pixel.\n"
     ]
    },
    {
     "name": "stdout",
     "output_type": "stream",
     "text": [
      "Meep: using complex fields.\n",
      "field decay(t = 20.016666666666666): 25.1847796691902 / 25.1847796691902 = 1.0\n",
      "on time step 1487 (time=24.7833), 0.00269002 s/step\n",
      "field decay(t = 40.03333333333333): 67.74547900172225 / 67.74547900172225 = 1.0\n",
      "on time step 3094 (time=51.5667), 0.00260124 s/step\n",
      "field decay(t = 60.05): 0.007783693393383218 / 67.74474137577484 = 0.00011489738148393944\n",
      "on time step 4758 (time=79.3), 0.00253973 s/step\n",
      "field decay(t = 80.05): 1.7474803320142378e-07 / 67.74474137577484 = 2.5795069794732846e-09\n",
      "ldos0:, 1.0, 0.1391964546186059\n",
      "run 0 finished at t = 80.05 (4803 timesteps)\n",
      "-----------\n",
      "Initializing structure...\n",
      "time for choose_chunkdivision = 5.31673e-05 s\n",
      "Working in Cylindrical dimensions.\n",
      "Computational cell is 12.5 x 0 x 2.26667 with resolution 30\n"
     ]
    },
    {
     "name": "stderr",
     "output_type": "stream",
     "text": [
      "Warning: grid volume is not an integer number of pixels; cell size will be rounded to nearest pixel.\n"
     ]
    },
    {
     "name": "stdout",
     "output_type": "stream",
     "text": [
      "time for set_epsilon = 0.054239 s\n",
      "-----------\n",
      "Meep: using complex fields.\n",
      "field decay(t = 20.016666666666666): 25.175010761801417 / 25.175010761801417 = 1.0\n",
      "on time step 1427 (time=23.7833), 0.0028039 s/step\n",
      "field decay(t = 40.03333333333333): 67.73003092579167 / 67.73003092579167 = 1.0\n",
      "on time step 3013 (time=50.2167), 0.00271567 s/step\n",
      "Meep: using complex fields.\n",
      "field decay(t = 20.016666666666666): 25.168823382986968 / 25.168823382986968 = 1.0\n",
      "on time step 1434 (time=23.9), 0.00278998 s/step\n",
      "field decay(t = 40.03333333333333): 67.71724508409957 / 67.71724508409957 = 1.0\n",
      "on time step 3028 (time=50.4667), 0.0025972 s/step\n",
      "field decay(t = 60.05): 0.007791266025912967 / 67.74547900172225 = 0.00011500791109196963\n",
      "on time step 4714 (time=78.5667), 0.00246965 s/step\n"
     ]
    },
    {
     "name": "stderr",
     "output_type": "stream",
     "text": [
      "Warning: grid volume is not an integer number of pixels; cell size will be rounded to nearest pixel.\n"
     ]
    },
    {
     "name": "stdout",
     "output_type": "stream",
     "text": [
      "field decay(t = 80.05): 1.3074263689398695e-07 / 67.74547900172225 = 1.9299094023774364e-09\n",
      "ldos0:, 1.0, 0.13590345649793503\n",
      "run 0 finished at t = 80.05 (4803 timesteps)\n",
      "-----------\n",
      "Initializing structure...\n",
      "time for choose_chunkdivision = 5.00679e-05 s\n",
      "Working in Cylindrical dimensions.\n",
      "Computational cell is 12.5 x 0 x 2.3 with resolution 30\n",
      "time for set_epsilon = 0.044832 s\n",
      "-----------\n",
      "Meep: using complex fields.\n",
      "field decay(t = 20.016666666666666): 25.153888270283442 / 25.153888270283442 = 1.0\n",
      "on time step 1450 (time=24.1667), 0.00275948 s/step\n",
      "field decay(t = 40.03333333333333): 67.69049095711983 / 67.69049095711983 = 1.0\n",
      "on time step 2928 (time=48.8), 0.00266738 s/step\n",
      "field decay(t = 60.05): 0.007791449110192319 / 67.73003092579167 = 0.0001150368456014587\n",
      "on time step 4565 (time=76.0833), 0.00257793 s/step\n"
     ]
    },
    {
     "name": "stderr",
     "output_type": "stream",
     "text": [
      "Warning: grid volume is not an integer number of pixels; cell size will be rounded to nearest pixel.\n"
     ]
    },
    {
     "name": "stdout",
     "output_type": "stream",
     "text": [
      "field decay(t = 80.05): 1.0392637687621865e-07 / 67.73003092579167 = 1.5344209275511105e-09\n",
      "ldos0:, 1.0, 0.12963318301567983\n",
      "run 0 finished at t = 80.05 (4803 timesteps)\n",
      "-----------\n",
      "Initializing structure...\n",
      "time for choose_chunkdivision = 5.38826e-05 s\n",
      "Working in Cylindrical dimensions.\n",
      "Computational cell is 12.5 x 0 x 2.36667 with resolution 30\n",
      "time for set_epsilon = 0.0414982 s\n",
      "-----------\n",
      "field decay(t = 40.03333333333333): 67.67275117724863 / 67.67275117724863 = 1.0\n",
      "on time step 2888 (time=48.1333), 0.00275255 s/step\n",
      "field decay(t = 60.05): 0.0077938114240520984 / 67.71724508409957 = 0.0001150934509277923\n",
      "on time step 4555 (time=75.9167), 0.00262045 s/step\n"
     ]
    },
    {
     "name": "stderr",
     "output_type": "stream",
     "text": [
      "Warning: grid volume is not an integer number of pixels; cell size will be rounded to nearest pixel.\n"
     ]
    },
    {
     "name": "stdout",
     "output_type": "stream",
     "text": [
      "field decay(t = 80.05): 7.89056385354651e-08 / 67.71724508409957 = 1.1652222183207603e-09\n",
      "ldos0:, 1.0, 0.12693363321772602\n",
      "run 0 finished at t = 80.05 (4803 timesteps)\n",
      "-----------\n",
      "Initializing structure...\n",
      "time for choose_chunkdivision = 4.79221e-05 s\n",
      "Working in Cylindrical dimensions.\n",
      "Computational cell is 12.5 x 0 x 2.4 with resolution 30\n",
      "time for set_epsilon = 0.0486231 s\n",
      "-----------\n",
      "Meep: using complex fields.\n",
      "field decay(t = 20.016666666666666): 25.145749085770273 / 25.145749085770273 = 1.0\n",
      "on time step 1326 (time=22.1), 0.00301724 s/step\n",
      "field decay(t = 40.03333333333333): 67.62524465804556 / 67.62524465804556 = 1.0\n",
      "on time step 2864 (time=47.7333), 0.0028289 s/step\n",
      "field decay(t = 60.05): 0.00778942161258472 / 67.69049095711983 = 0.00011507408946877216\n",
      "on time step 4442 (time=74.0333), 0.00264346 s/step\n",
      "Meep: using complex fields.\n",
      "field decay(t = 20.016666666666666): 25.12784814738816 / 25.12784814738816 = 1.0\n",
      "on time step 1320 (time=22), 0.00303083 s/step\n",
      "field decay(t = 80.05): 7.010643707990075e-08 / 67.69049095711983 = 1.0356910710591737e-09\n",
      "ldos0:, 1.0, 0.12211132341689498\n",
      "run 0 finished at t = 80.05 (4803 timesteps)\n",
      "-----------\n",
      "Initializing structure...\n",
      "time for choose_chunkdivision = 5.79357e-05 s\n",
      "Working in Cylindrical dimensions.\n",
      "Computational cell is 12.5 x 0 x 2.46667 with resolution 30\n",
      "time for set_epsilon = 0.0599031 s\n",
      "-----------\n",
      "field decay(t = 60.05): 0.007789664599407362 / 67.67275117724863 = 0.00011510784568229914\n",
      "on time step 4310 (time=71.8333), 0.00281585 s/step\n"
     ]
    },
    {
     "name": "stderr",
     "output_type": "stream",
     "text": [
      "Warning: grid volume is not an integer number of pixels; cell size will be rounded to nearest pixel.\n"
     ]
    },
    {
     "name": "stdout",
     "output_type": "stream",
     "text": [
      "Meep: using complex fields.\n",
      "field decay(t = 20.016666666666666): 25.11938727990925 / 25.11938727990925 = 1.0\n",
      "on time step 1259 (time=20.9833), 0.00317824 s/step\n",
      "field decay(t = 40.03333333333333): 67.5943642459822 / 67.5943642459822 = 1.0\n",
      "on time step 2584 (time=43.0667), 0.0031809 s/step\n",
      "field decay(t = 80.05): 5.767615621489388e-08 / 67.67275117724863 = 8.52280352306475e-10\n",
      "ldos0:, 1.0, 0.11821493873513775\n",
      "run 0 finished at t = 80.05 (4803 timesteps)\n",
      "-----------\n",
      "Initializing structure...\n",
      "time for choose_chunkdivision = 5.38826e-05 s\n",
      "Working in Cylindrical dimensions.\n",
      "Computational cell is 12.5 x 0 x 2.5 with resolution 30\n"
     ]
    },
    {
     "name": "stderr",
     "output_type": "stream",
     "text": [
      "Warning: grid volume is not an integer number of pixels; cell size will be rounded to nearest pixel.\n"
     ]
    },
    {
     "name": "stdout",
     "output_type": "stream",
     "text": [
      "time for set_epsilon = 0.0689001 s\n",
      "-----------\n",
      "field decay(t = 60.05): 0.007794951718262997 / 67.62524465804556 = 0.00011526689119838342\n",
      "on time step 4049 (time=67.4833), 0.00337618 s/step\n",
      "field decay(t = 40.03333333333333): 67.50445159049032 / 67.50445159049032 = 1.0\n",
      "on time step 2420 (time=40.3333), 0.00363797 s/step\n",
      "Meep: using complex fields.\n",
      "on time step 1016 (time=16.9333), 0.00393933 s/step\n",
      "on time step 2348 (time=39.1333), 0.00367478 s/step\n",
      "field decay(t = 60.05): 0.007766044107253323 / 67.5943642459822 = 0.00011489188771702864\n",
      "on time step 3726 (time=62.1), 0.00350486 s/step\n",
      "Meep: using complex fields.\n",
      "on time step 1022 (time=17.0333), 0.00391592 s/step\n",
      "field decay(t = 60.05): 0.007834240117158976 / 67.50445159049032 = 0.00011605516277185227\n",
      "on time step 3646 (time=60.7667), 0.00326372 s/step\n",
      "field decay(t = 20.016666666666666): 25.112166328124687 / 25.112166328124687 = 1.0\n",
      "on time step 2190 (time=36.5), 0.0034083 s/step\n",
      "field decay(t = 40.03333333333333): 67.4478615874678 / 67.4478615874678 = 1.0\n",
      "field decay(t = 60.05): 0.00855750992119807 / 67.4478615874678 = 0.0001268759263790819\n",
      "on time step 3662 (time=61.0333), 0.00304448 s/step\n",
      "field decay(t = 20.016666666666666): 25.114661147704517 / 25.114661147704517 = 1.0\n",
      "on time step 2349 (time=39.15), 0.00301528 s/step\n",
      "field decay(t = 40.03333333333333): 67.37395890349516 / 67.37395890349516 = 1.0\n",
      "field decay(t = 60.05): 0.006929973006151753 / 67.37395890349516 = 0.00010285833160076105\n",
      "on time step 3935 (time=65.5833), 0.00229268 s/step\n"
     ]
    }
   ],
   "source": [
    "%%capture \n",
    "import time\n",
    "import numpy as np\n",
    "from joblib import Parallel, delayed\n",
    "nc = 6 ## number of processes\n",
    "\n",
    "start = time.time()\n",
    "##\n",
    "\n",
    "ldos_bulk_cyl = bulk_ldos_cyl(1)\n",
    "\n",
    "# units of wavelength in cavity medium\n",
    "cavity_thickness = np.arange(0.50,2.55,0.05)\n",
    "\n",
    "gap = cavity_thickness*wvl/n\n",
    "\n",
    "ldos_cavity_cyl = np.zeros(len(cavity_thickness))\n",
    "\n",
    "with Parallel(n_jobs=nc) as parallel:\n",
    "     ldos_cavity_cyl = parallel([delayed(cavity_ldos_cyl)(gap[i], 1) for i in range(len(gap))])\n",
    "\n",
    "ldos_cavity_cyl = np.array(ldos_cavity_cyl)\n",
    "\n",
    "# for idx,g in enumerate(gap):\n",
    "#     ldos_cavity_cyl[idx] = cavity_ldos_cyl(g,1)\n",
    "\n",
    "# Purcell enhancement factor (relative to bulk medium)\n",
    "pe_meep_cyl = ldos_cavity_cyl / ldos_bulk_cyl\n",
    "\n",
    "\n",
    "# equation 7 of reference\n",
    "pe_theory = (3*np.fix(cavity_thickness+0.5)/(4*cavity_thickness) +\n",
    "             (4*np.power(np.fix(cavity_thickness+0.5),3) -\n",
    "              np.fix(cavity_thickness+0.5)) /\n",
    "             (16*np.power(cavity_thickness,3)))\n",
    "##\n",
    "end = time.time()"
   ]
  },
  {
   "cell_type": "code",
   "execution_count": 52,
   "metadata": {},
   "outputs": [
    {
     "name": "stdout",
     "output_type": "stream",
     "text": [
      "69.42977118492126\n"
     ]
    },
    {
     "data": {
      "image/png": "[encoded data removed]",
      "text/plain": [
       "<Figure size 432x288 with 1 Axes>"
      ]
     },
     "metadata": {
      "needs_background": "light"
     },
     "output_type": "display_data"
    },
    {
     "name": "stdout",
     "output_type": "stream",
     "text": [
      "field decay(t = 80.05): 3.590153053966223e-08 / 67.62524465804556 = 5.308894736159882e-10\n",
      "ldos0:, 1.0, 0.11369815722932092\n",
      "run 0 finished at t = 80.05 (4803 timesteps)\n",
      "\n",
      "Elapsed run time = 351.1706 s\n",
      "field decay(t = 80.05): 8.365562715093823e-08 / 67.5943642459822 = 1.2376124560696745e-09\n",
      "ldos0:, 1.0, 0.11213392224337763\n",
      "run 0 finished at t = 80.05 (4803 timesteps)\n",
      "\n",
      "Elapsed run time = 354.5030 s\n",
      "field decay(t = 80.05): 9.258654117533001e-07 / 67.50445159049032 = 1.3715620080435276e-08\n",
      "ldos0:, 1.0, 0.10740237228178162\n",
      "run 0 finished at t = 80.05 (4803 timesteps)\n",
      "\n",
      "Elapsed run time = 356.4670 s\n",
      "field decay(t = 80.05): 4.126166573991176e-06 / 67.4478615874678 = 6.117564703871712e-08\n",
      "ldos0:, 1.0, 0.10490955121719629\n",
      "run 0 finished at t = 80.05 (4803 timesteps)\n",
      "\n",
      "Elapsed run time = 357.2653 s\n",
      "field decay(t = 80.05): 1.3094277839236342e-05 / 67.37395890349516 = 1.9435221044368598e-07\n",
      "ldos0:, 1.0, 0.09724522605928315\n",
      "run 0 finished at t = 80.05 (4803 timesteps)\n",
      "\n",
      "Elapsed run time = 358.7511 s\n",
      "field decay(t = 40.03333333333333): 67.37918813574807 / 67.37918813574807 = 1.0\n",
      "field decay(t = 60.05): 0.006108532694248115 / 67.37918813574807 = 9.065904269937663e-05\n",
      "field decay(t = 80.05): 1.4904260916426167e-05 / 67.37918813574807 = 2.2119976997049483e-07\n",
      "ldos0:, 1.0, 0.1536553768588173\n",
      "run 0 finished at t = 80.05 (4803 timesteps)\n",
      "\n",
      "Elapsed run time = 359.4747 s\n"
     ]
    }
   ],
   "source": [
    "execution_time = (end - start)\n",
    "print(execution_time)\n",
    "plt.plot(cavity_thickness,pe_meep_cyl,'ro',label='Meep (cylin.)')\n",
    "plt.plot(cavity_thickness,pe_theory,'g-',label='theory')\n",
    "plt.plot(cavity_thickness,np.ones(len(cavity_thickness)),'k--')\n",
    "plt.xlabel('cavity thickness, $nL/\\lambda$')\n",
    "plt.ylabel('Purcell enhancement factor')\n",
    "plt.title(\"parallel point dipole at λ=1.0 μm in a planar cavity\\n\"\n",
    "          \"with n=2.4 and lossless metallic walls\")\n",
    "plt.axis([0.5,2.5,0.4,3.1])\n",
    "plt.legend()\n",
    "plt.savefig('cavity_purcell_factor_vs_thickness.png',\n",
    "            bbox_inches='tight')"
   ]
  },
  {
   "cell_type": "code",
   "execution_count": 11,
   "metadata": {
    "tags": []
   },
   "outputs": [
    {
     "name": "stderr",
     "output_type": "stream",
     "text": [
      "Warning: grid volume is not an integer number of pixels; cell size will be rounded to nearest pixel.\n"
     ]
    },
    {
     "name": "stdout",
     "output_type": "stream",
     "text": [
      "-----------\n",
      "Initializing structure...\n",
      "time for choose_chunkdivision = 9.29832e-05 s\n",
      "Working in Cylindrical dimensions.\n",
      "Computational cell is 12.5 x 0 x 1 with resolution 70\n",
      "time for set_epsilon = 0.073617 s\n",
      "-----------\n",
      "Meep: using complex fields.\n",
      "Meep progress: 14.299999999999999/25.0 = 57.2% done in 4.0s, 3.0s to go\n",
      "on time step 2002 (time=14.3), 0.0019982 s/step\n",
      "run 0 finished at t = 25.0 (3500 timesteps)\n"
     ]
    }
   ],
   "source": [
    "sr = w+dpml\n",
    "sz = h+2*dpml\n",
    "cell_size = mp.Vector3(sr,0,1)\n",
    "g = 1\n",
    "resolution = 70\n",
    "geometry = []\n",
    "pml_layers = [mp.PML(dpml,direction=mp.R)]\n",
    "\n",
    "sources = [mp.Source(src=mp.GaussianSource(fcen,fwidth=0.2*fcen),\n",
    "                     component=mp.Er,\n",
    "                     center=mp.Vector3(0))]\n",
    "\n",
    "sim = mp.Simulation(\n",
    "                    resolution=resolution,\n",
    "                    cell_size=cell_size,\n",
    "                    geometry=geometry,\n",
    "                    boundary_layers=pml_layers,\n",
    "                    sources=sources,\n",
    "                    dimensions=mp.CYLINDRICAL,\n",
    "                    m=1,\n",
    "                    default_material=mp.Medium(index=n))\n",
    "sim.restart_fields()    \n",
    "sim.run( until=25)\n",
    "# sim.run( until_after_sources=mp.stop_when_fields_decayed(5,\n",
    "#                                                             mp.Er,\n",
    "#                                                             mp.Vector3(),\n",
    "#                                                             1e-6))"
   ]
  },
  {
   "cell_type": "code",
   "execution_count": 21,
   "metadata": {},
   "outputs": [
    {
     "name": "stderr",
     "output_type": "stream",
     "text": [
      "Warning: grid volume is not an integer number of pixels; cell size will be rounded to nearest pixel.\n"
     ]
    },
    {
     "data": {
      "image/png": "[encoded data removed]",
      "text/plain": [
       "<Figure size 900x600 with 2 Axes>"
      ]
     },
     "metadata": {
      "needs_background": "light"
     },
     "output_type": "display_data"
    }
   ],
   "source": [
    "\n",
    "Er = sim.get_array(component=mp.Er, vol=mp.Volume(center=mp.Vector3(sr/2,0,0), size=mp.Vector3(sr,0,1)))\n",
    "##\n",
    "\n",
    "nz = Er.shape[0]\n",
    "nr = Er.shape[1]\n",
    "zv = np.linspace(-1/2,1/2,nz)\n",
    "rv = np.linspace(0,sr,nr)\n",
    "rr, zz = np.meshgrid(rv, zv)\n",
    "plt.figure(dpi=150)\n",
    "plt.pcolormesh(rr,zz,np.real(Er), cmap=bicmap,alpha= 0.8)\n",
    "plt.colorbar()\n",
    "sim.plot2D(eps_parameters={'contour':False},source_parameters={'alpha':0,'color':'white','linewidth':0.5})\n",
    "plt.gca().set_aspect('equal', adjustable='box')\n",
    "plt.xlim(0,sr)\n",
    "#plt.ylim(-sz/2,sz/2)\n",
    "plt.clim(-0.005,0.005)\n",
    "plt.show()"
   ]
  },
  {
   "cell_type": "code",
   "execution_count": null,
   "metadata": {},
   "outputs": [],
   "source": []
  }
 ],
 "metadata": {
  "kernelspec": {
   "display_name": "Python 3 (ipykernel)",
   "language": "python",
   "name": "python3"
  },
  "language_info": {
   "codemirror_mode": {
    "name": "ipython",
    "version": 3
   },
   "file_extension": ".py",
   "mimetype": "text/x-python",
   "name": "python",
   "nbconvert_exporter": "python",
   "pygments_lexer": "ipython3",
   "version": "3.8.8"
  }
 },
 "nbformat": 4,
 "nbformat_minor": 4
}
