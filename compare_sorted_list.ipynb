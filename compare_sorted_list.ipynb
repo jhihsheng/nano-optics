{
 "cells": [
  {
   "cell_type": "code",
   "execution_count": 105,
   "id": "63dceb48-4523-4a64-812e-53bb57092bb1",
   "metadata": {
    "tags": []
   },
   "outputs": [],
   "source": [
    "import random\n",
    "import string\n",
    "import time\n",
    "import numpy as np\n",
    "# Function to generate a random string of 'max_length' characters\n",
    "def generate_random_string(max_length=6):\n",
    "    length = random.randint(2, max_length)\n",
    "    return ''.join(random.choices(string.ascii_lowercase, k=length))\n",
    "\n",
    "# Function to generate a list of 'n' random strings\n",
    "def generate_random_string_list(n, max_length=6):\n",
    "    return [generate_random_string(max_length) for _ in range(n)]"
   ]
  },
  {
   "cell_type": "code",
   "execution_count": 106,
   "id": "657f2517-1338-4d69-a027-fcb73a2f1f9a",
   "metadata": {
    "tags": []
   },
   "outputs": [
    {
     "name": "stdout",
     "output_type": "stream",
     "text": [
      "Elapsed time: 5.251597 seconds\n"
     ]
    }
   ],
   "source": [
    "\n",
    "\n",
    "start_time = time.time()\n",
    "# Generate a list of 10^6 random strings\n",
    "random_strings_1 = generate_random_string_list(10**6, 6)\n",
    "random_strings_2 = generate_random_string_list(10**6, 6)\n",
    "end_time = time.time()\n",
    "elapsed_time = end_time - start_time\n",
    "print(f\"Elapsed time: {elapsed_time:.6f} seconds\")"
   ]
  },
  {
   "cell_type": "code",
   "execution_count": 107,
   "id": "52453d74-fc4b-499a-ae96-c4b1a3305e04",
   "metadata": {
    "tags": []
   },
   "outputs": [
    {
     "name": "stdout",
     "output_type": "stream",
     "text": [
      "Elapsed time: 1.196970 seconds\n"
     ]
    }
   ],
   "source": [
    "\n",
    "\n",
    "start_time = time.time()\n",
    "\n",
    "# Sort the list using quicksort\n",
    "sorted_strings_1 = sorted(random_strings_1)\n",
    "sorted_strings_2 = sorted(random_strings_2)\n",
    "\n",
    "end_time = time.time()\n",
    "elapsed_time = end_time - start_time\n",
    "print(f\"Elapsed time: {elapsed_time:.6f} seconds\")\n",
    "\n"
   ]
  },
  {
   "cell_type": "code",
   "execution_count": 108,
   "id": "44c9e0bc-e12a-4e4a-9f1c-0c0e6040d0e4",
   "metadata": {
    "tags": []
   },
   "outputs": [
    {
     "name": "stdout",
     "output_type": "stream",
     "text": [
      "['ff', 'ff', 'ff', 'ff', 'ff', 'ff', 'ff', 'ff', 'ff', 'ff']\n"
     ]
    }
   ],
   "source": [
    "# Print the first 10 sorted strings as a sample\n",
    "print(sorted_strings_1[200000:200010])"
   ]
  },
  {
   "cell_type": "code",
   "execution_count": 109,
   "id": "a12f49f4-9cba-4353-b7c5-59cd8a8bfba0",
   "metadata": {
    "tags": []
   },
   "outputs": [],
   "source": [
    "def compare_sorted_lists(list1, list2):\n",
    "    i, j = 0, 0\n",
    "    result = []\n",
    "\n",
    "    while i < len(list1) and j < len(list2):\n",
    "        if list1[i] == list2[j]:\n",
    "            result.append(1)  # String exists in both lists\n",
    "            i += 1\n",
    "            j += 1\n",
    "        elif list1[i] < list2[j]:\n",
    "            result.append(0)\n",
    "            i += 1\n",
    "        else:\n",
    "            result.append(0)\n",
    "            j += 1\n",
    "\n",
    "    # If any list is exhausted, mark the remaining elements as not found\n",
    "    while i < len(list1):\n",
    "        result.append(0)\n",
    "        i += 1\n",
    "    while j < len(list2):\n",
    "        result.append(0)\n",
    "        j += 1\n",
    "\n",
    "    return result\n",
    "\n",
    "# Example usage\n",
    "list1 = [\"hello\"]\n",
    "list2 = [\"banana\", \"date\", \"figs\", \"grape\",\"hello\"]\n",
    "\n",
    "# Compare the sorted lists\n",
    "comparison_result = compare_sorted_lists(sorted_strings_1, sorted_strings_2)\n",
    "\n",
    "#print(comparison_result)\n"
   ]
  },
  {
   "cell_type": "code",
   "execution_count": 110,
   "id": "9b0f8f2d-3785-498d-ab97-24844c989fcc",
   "metadata": {
    "tags": []
   },
   "outputs": [
    {
     "data": {
      "text/plain": [
       "424012"
      ]
     },
     "execution_count": 110,
     "metadata": {},
     "output_type": "execute_result"
    }
   ],
   "source": [
    "def count_ones(lst):\n",
    "    ones_count = 0\n",
    "    for item in lst:\n",
    "        if item == 1:\n",
    "            ones_count += 1\n",
    "    return ones_count\n",
    "count_ones(comparison_result)"
   ]
  },
  {
   "cell_type": "code",
   "execution_count": null,
   "id": "db2746b8-c617-40d6-9412-473b097a2b50",
   "metadata": {},
   "outputs": [],
   "source": []
  }
 ],
 "metadata": {
  "kernelspec": {
   "display_name": "Python 3 (ipykernel)",
   "language": "python",
   "name": "python3"
  },
  "language_info": {
   "codemirror_mode": {
    "name": "ipython",
    "version": 3
   },
   "file_extension": ".py",
   "mimetype": "text/x-python",
   "name": "python",
   "nbconvert_exporter": "python",
   "pygments_lexer": "ipython3",
   "version": "3.8.8"
  }
 },
 "nbformat": 4,
 "nbformat_minor": 5
}
