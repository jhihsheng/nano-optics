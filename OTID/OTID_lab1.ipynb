{
 "cells": [
  {
   "cell_type": "markdown",
   "metadata": {},
   "source": [
    "# 3-Hour Lab Plan: Hands-On Scientific Computing Environment Setting Up \n",
    "### Overview\n",
    " - **Objective**: Teach students to set up a scientific computing environment on a Linux server, use JupyterLab for visualization, and apply optimization techniques.\n",
    " - **Duration**: 3 hours, 5 sections\n",
    " - **Prerequisites**: Basic Python knowledge, access to school Linux server credentials.\n",
    "\n",
    " ## Lab Schedule\n",
    "\n",
    " Ref: \n",
    " - https://github.com/jhihsheng/nano-optics/blob/master/OTID/connection_ssh.md\n",
    "- https://github.com/jhihsheng/nano-optics/blob/master/OTID/OTID_plot.ipynb\n",
    "\n",
    "1. Setting Up SSH Connection (20 minutes)\n",
    "2. Setting Up Conda, JupyterLab, and Tunnelling (40 minutes)\n",
    "3. Installing MEEP with Python (20 minutes)\n",
    "4. Plotting with Matplotlib in Jupyter Notebook (50 minutes)\n",
    "5. 1D Optimization with SciPy (50 minutes)\n",
    "\n",
    "Notes for TA\n",
    "- Pre-test all commands on the server.\n",
    "- Write main commands on the blackboard.\n",
    "- During teaching, pause and see if students have any problems. Cruise and check their progress \n",
    "- Check if students successfully install meep. Let them use \"conda activate mp\" and maybe run an example\n",
    "- Encourage students to experiment and ask questions.\n",
    "- Record any issues and feebacks from teaching. Think how to improve the lab next time.\n"
   ]
  },
  {
   "cell_type": "markdown",
   "metadata": {},
   "source": [
    "## 1D Optimization with SciPy (50 minutes)\n",
    " - Goal: Teach students to apply Golden Section, Fibonacci, Bisection, and Newton’s methods for 1D optimization using SciPy and a custom example.\n",
    " - Steps: \n",
    "  1. Ensure `SciPy` is installed. Check with `conda list`.\n",
    "  2. Install with `conda install scipy`\n",
    "  3. Use jupyterlab to run some examples\n",
    "- Time: 20 min demo + 30 min student practice\n",
    "###\n",
    "Demo Planing (20 minutes)\n",
    "\n",
    "- Function to Optimize: Use \n",
    "$f(x)=x^2+4\\sin(x)$ for all methods (unimodal in a reasonable interval, with a minimum).\n",
    "- TA Explanation: Briefly introduce each method: Golden Section: Iterative interval reduction using the golden ratio.\n",
    "- Fibonacci: Similar to Golden Section but uses Fibonacci numbers for interval steps.\n",
    "- Bisection: Uses the derivative’s sign to halve the interval (requires derivative).\n",
    "- Newton’s: Uses first and second derivatives for quadratic approximation (fast but sensitive)."
   ]
  },
  {
   "cell_type": "markdown",
   "metadata": {},
   "source": [
    "## Example 1: Golden Section Search (SciPy)"
   ]
  },
  {
   "cell_type": "code",
   "execution_count": 1,
   "metadata": {},
   "outputs": [
    {
     "name": "stdout",
     "output_type": "stream",
     "text": [
      "Golden Section: Minimum at x = -1.0299, f(x) = -2.3683\n"
     ]
    },
    {
     "data": {
      "image/png": "[encoded data removed]",
      "text/plain": [
       "<Figure size 432x288 with 1 Axes>"
      ]
     },
     "metadata": {
      "needs_background": "light"
     },
     "output_type": "display_data"
    }
   ],
   "source": [
    "from scipy.optimize import minimize_scalar\n",
    "import numpy as np\n",
    "import matplotlib.pyplot as plt\n",
    "\n",
    "def f(x):\n",
    "    return x**2 + 4 * np.sin(x)\n",
    "\n",
    "# Golden Section Search\n",
    "result = minimize_scalar(f, method='golden', bracket=(-2, 0, 2))\n",
    "print(f\"Golden Section: Minimum at x = {result.x:.4f}, f(x) = {result.fun:.4f}\")\n",
    "\n",
    "# Plot\n",
    "x = np.linspace(-3, 3, 100)\n",
    "y = f(x)\n",
    "plt.plot(x, y, label='f(x)')\n",
    "plt.axvline(result.x, color='r', linestyle='--', label=f'Min at {result.x:.2f}')\n",
    "plt.legend()\n",
    "plt.show()"
   ]
  },
  {
   "cell_type": "markdown",
   "metadata": {},
   "source": [
    "## Example 2: Fibonacci Search (Custom Implementation)\n",
    "Play with $n$ to see how large it is for converging "
   ]
  },
  {
   "cell_type": "code",
   "execution_count": 4,
   "metadata": {},
   "outputs": [
    {
     "name": "stdout",
     "output_type": "stream",
     "text": [
      "Fibonacci: Minimum at x = -1.1429, f(x) = -2.3332\n"
     ]
    }
   ],
   "source": [
    "def fibonacci_search(f, a, b, n=10):\n",
    "    # Simple Fibonacci sequence\n",
    "    fib = [0, 1]\n",
    "    for _ in range(n-2):\n",
    "        fib.append(fib[-1] + fib[-2])\n",
    "    \n",
    "    x1, x2 = a, b\n",
    "    for k in range(n-2, 1, -1):\n",
    "        L = b - a\n",
    "        rho = fib[k-1] / fib[k]\n",
    "        x1 = a + (1 - rho) * L\n",
    "        x2 = a + rho * L\n",
    "        if f(x1) > f(x2):\n",
    "            a = x1\n",
    "        else:\n",
    "            b = x2\n",
    "    return (a + b) / 2\n",
    "\n",
    "# Test Fibonacci Search\n",
    "x_min = fibonacci_search(f, -2, 2)\n",
    "print(f\"Fibonacci: Minimum at x = {x_min:.4f}, f(x) = {f(x_min):.4f}\")"
   ]
  },
  {
   "cell_type": "markdown",
   "metadata": {},
   "source": [
    "## Example 3: Bisection Method (Custom with Derivative)\n",
    "\n",
    "How many steps required to reach the tolerance (`tol=1e-5`)? Is the step number smaller than that of the previous methods?\n",
    "\n",
    "Can  you write an analytical derivative function instead of using numerical derivative?"
   ]
  },
  {
   "cell_type": "code",
   "execution_count": 9,
   "metadata": {},
   "outputs": [
    {
     "name": "stdout",
     "output_type": "stream",
     "text": [
      "Bisection: Minimum at x = -1.0299, f(x) = -2.3683\n"
     ]
    }
   ],
   "source": [
    "from scipy.misc import derivative\n",
    "\n",
    "def bisection_search(f, a, b, tol=1e-5):\n",
    "    while (b - a) > tol:\n",
    "        mid = (a + b) / 2\n",
    "        df_mid = derivative(f, mid, dx=1e-6)  # Numerical derivative\n",
    "        if abs(df_mid) < tol:  # Close to zero derivative\n",
    "            return mid\n",
    "        elif df_mid > 0:\n",
    "            b = mid\n",
    "        else:\n",
    "            a = mid\n",
    "    return (a + b) / 2\n",
    "\n",
    "# Test Bisection\n",
    "x_min = bisection_search(f, -2, 2)\n",
    "print(f\"Bisection: Minimum at x = {x_min:.4f}, f(x) = {f(x_min):.4f}\")"
   ]
  },
  {
   "cell_type": "markdown",
   "metadata": {},
   "source": [
    "## Example 4: Newton’s Method (SciPy)"
   ]
  },
  {
   "cell_type": "code",
   "execution_count": 10,
   "metadata": {},
   "outputs": [
    {
     "name": "stdout",
     "output_type": "stream",
     "text": [
      "Newton: Minimum at x = -1.0299, f(x) = -2.3683\n"
     ]
    }
   ],
   "source": [
    "from scipy.optimize import newton\n",
    "\n",
    "def f_prime(x):  # First derivative\n",
    "    return 2 * x + 4 * np.cos(x)\n",
    "\n",
    "def f_double_prime(x):  # Second derivative\n",
    "    return 2 - 4 * np.sin(x)\n",
    "\n",
    "# Newton's Method\n",
    "x_min = newton(f_prime, x0=0, fprime=f_double_prime)\n",
    "print(f\"Newton: Minimum at x = {x_min:.4f}, f(x) = {f(x_min):.4f}\")"
   ]
  },
  {
   "cell_type": "markdown",
   "metadata": {},
   "source": [
    "Student Practice (30 mins)\n",
    "- Task\n",
    "    1. Test the methods on $g(x) = x^4 - 5 x^2 + 3$\n",
    "    2. Use the Newton's method to find the minimizer and minimum in the interval $[-2,2]$\n",
    "    3. Plot $g(x)$ with the minimum marked. "
   ]
  },
  {
   "cell_type": "code",
   "execution_count": null,
   "metadata": {},
   "outputs": [],
   "source": []
  }
 ],
 "metadata": {
  "kernelspec": {
   "display_name": "Python 3",
   "language": "python",
   "name": "python3"
  },
  "language_info": {
   "codemirror_mode": {
    "name": "ipython",
    "version": 3
   },
   "file_extension": ".py",
   "mimetype": "text/x-python",
   "name": "python",
   "nbconvert_exporter": "python",
   "pygments_lexer": "ipython3",
   "version": "3.8.3"
  }
 },
 "nbformat": 4,
 "nbformat_minor": 4
}
