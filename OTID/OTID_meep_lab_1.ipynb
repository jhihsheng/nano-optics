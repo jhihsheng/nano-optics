{
 "cells": [
  {
   "cell_type": "markdown",
   "id": "f93b5446-8bf5-4e34-97a1-1f1cc8065a0e",
   "metadata": {},
   "source": [
    "# Meep Lab 1\n",
    "Follow `OTID_meep_turotial_1` and add a ring resonator at the corner of the bend. A ring resonator is a common component in optics. Ring resonators host confined electromagnetic modes with high quality factors. Such modes are useful for modulation.  \n",
    "\n",
    "In this lab, you are going to design a good optical bend uisng the forward design approach. You choose a ring size and place it at the position with your physical knowledges. \n",
    "\n",
    "1. Set up the geometry as the figure. \n",
    "Let the inner radius greater than zero and the outer radius\n",
    "smaller than 2.5 $\\mu$m. Place the ring at where you think best.\n",
    "![Ring Bend](ring_bend.png)\n",
    "2. Compute and plot RTA as a function a frequency \n",
    "![Ring Bend](ring_bend_RTA.png)\n",
    "3. Find the freqeuncy $f_b$ at which the transmission is greatest\n",
    "4. Make a movie by setting a cw source with $f=f_b$.\n",
    "\n",
    "Below are some code clips that will help:\n",
    "1. add cylinder\n",
    "```\n",
    "    mp.Cylinder(\n",
    "        radius = ,\n",
    "        center=mp.Vector3(  ,  ),\n",
    "        material = Si,\n",
    "    ),\n",
    "    mp.Cylinder(\n",
    "        radius = ,\n",
    "        center=mp.Vector3( ,  ),\n",
    "        material=mp.Medium(epsilon=1),\n",
    "    ),\n",
    "\n",
    "```\n",
    "2.  Find the maximum index\n",
    "```\n",
    "print(np.argmax(Ts))\n",
    "print(max(Ts))\n",
    "print(wl[np.argmax(Ts)])\n",
    "```\n",
    "3. cw source\n",
    "```\n",
    "sources = [\n",
    "    mp.Source(\n",
    "        mp.ContinuousSource(frequency=1/wl[np.argmax(Ts)]),\n",
    "        component=mp.Ez,\n",
    "        center=mp.Vector3(-0.5 * sx + dpml, y_loc, 0),\n",
    "        size=mp.Vector3(0, w, 0),\n",
    "    )\n",
    "]\n",
    "```\n"
   ]
  },
  {
   "cell_type": "code",
   "execution_count": null,
   "id": "6cce6867-0fa4-42e9-856d-c22123ed5f8b",
   "metadata": {},
   "outputs": [],
   "source": []
  }
 ],
 "metadata": {
  "kernelspec": {
   "display_name": "Python 3 (ipykernel)",
   "language": "python",
   "name": "python3"
  },
  "language_info": {
   "codemirror_mode": {
    "name": "ipython",
    "version": 3
   },
   "file_extension": ".py",
   "mimetype": "text/x-python",
   "name": "python",
   "nbconvert_exporter": "python",
   "pygments_lexer": "ipython3",
   "version": "3.10.14"
  }
 },
 "nbformat": 4,
 "nbformat_minor": 5
}
