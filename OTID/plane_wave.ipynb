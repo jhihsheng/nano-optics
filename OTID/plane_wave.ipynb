{
 "cells": [
  {
   "cell_type": "code",
   "execution_count": 1,
   "id": "c91cd0fe-1395-4601-b21f-c47f40cfd77a",
   "metadata": {},
   "outputs": [],
   "source": [
    "import meep as mp\n",
    "import numpy as np\n",
    "import matplotlib.pyplot as plt\n",
    "from IPython.display import Video"
   ]
  },
  {
   "cell_type": "code",
   "execution_count": 2,
   "id": "b4877410-b2f6-4dd0-9943-80340e22a3f2",
   "metadata": {},
   "outputs": [],
   "source": [
    "resolution = 20  # pixels/μm\n",
    "\n",
    "cell_size = mp.Vector3(14, 14)\n",
    "\n",
    "#pml_layers = [mp.PML(thickness=2)]\n",
    "pml_size = 1\n",
    "pml_layers = [mp.PML(pml_size,direction=mp.X)]\n",
    "# rotation angle (in degrees) of waveguide, counter clockwise (CCW) around z-axis\n",
    "rot_angle = np.radians(0)\n",
    "\n",
    "geometry = [\n",
    "    mp.Block(\n",
    "        center=mp.Vector3(),\n",
    "        size=mp.Vector3(mp.inf, 14, mp.inf),\n",
    "        e1=mp.Vector3(1).rotate(mp.Vector3(z=1), rot_angle),\n",
    "        e2=mp.Vector3(y=1).rotate(mp.Vector3(z=1), rot_angle),\n",
    "        material=mp.Medium(epsilon=12),\n",
    "    )\n",
    "]\n",
    "\n",
    "fsrc = 0.15  # frequency of eigenmode or constant-amplitude source\n",
    "\n",
    "sources = [\n",
    "    mp.Source(\n",
    "        src=mp.GaussianSource(fsrc, fwidth=0.2 * fsrc),\n",
    "        center=mp.Vector3(),\n",
    "        size=mp.Vector3(y=14),\n",
    "        component=mp.Ez,\n",
    "    )\n",
    "]\n",
    "\n",
    "sim = mp.Simulation(\n",
    "    cell_size=cell_size,\n",
    "    resolution=resolution,\n",
    "    boundary_layers=pml_layers,\n",
    "    sources=sources,\n",
    "    geometry=geometry,\n",
    "    k_point = mp.Vector3(1)\n",
    ")"
   ]
  },
  {
   "cell_type": "code",
   "execution_count": 3,
   "id": "b4a9648d-b20a-450a-9ebd-d0769307f895",
   "metadata": {},
   "outputs": [
    {
     "name": "stdout",
     "output_type": "stream",
     "text": [
      "     block, center = (0,0,0)\n",
      "          size (1e+20,14,1e+20)\n",
      "          axes (1,0,0), (0,1,0), (0,0,1)\n",
      "          dielectric constant epsilon diagonal = (12,12,12)\n"
     ]
    },
    {
     "data": {
      "image/png": "[encoded data removed]",
      "text/plain": [
       "<Figure size 640x480 with 1 Axes>"
      ]
     },
     "metadata": {},
     "output_type": "display_data"
    }
   ],
   "source": [
    "f = plt.figure(dpi=100)\n",
    "sim.plot2D(ax=f.gca())\n",
    "plt.show()"
   ]
  },
  {
   "cell_type": "code",
   "execution_count": 4,
   "id": "fa503bcd-3801-4342-8c7a-d8a83b11283f",
   "metadata": {},
   "outputs": [
    {
     "name": "stdout",
     "output_type": "stream",
     "text": [
      "-----------\n",
      "Initializing structure...\n",
      "time for choose_chunkdivision = 0.000315905 s\n",
      "Working in 2D dimensions.\n",
      "Computational cell is 14 x 14 x 0 with resolution 20\n",
      "     block, center = (0,0,0)\n",
      "          size (1e+20,14,1e+20)\n",
      "          axes (1,0,0), (0,1,0), (0,0,1)\n",
      "          dielectric constant epsilon diagonal = (12,12,12)\n",
      "time for set_epsilon = 0.167739 s\n",
      "-----------\n",
      "Meep: using complex fields.\n"
     ]
    },
    {
     "data": {
      "application/vnd.jupyter.widget-view+json": {
       "model_id": "db038d34abcb4e56ab055d53a2a3ee77",
       "version_major": 2,
       "version_minor": 0
      },
      "text/plain": [
       "FloatProgress(value=0.0, description='0% done ', max=383.3333435058594)"
      ]
     },
     "metadata": {},
     "output_type": "display_data"
    },
    {
     "name": "stdout",
     "output_type": "stream",
     "text": [
      "     block, center = (0,0,0)\n",
      "          size (1e+20,14,1e+20)\n",
      "          axes (1,0,0), (0,1,0), (0,0,1)\n",
      "          dielectric constant epsilon diagonal = (12,12,12)\n",
      "Meep progress: 118.5/383.3333435058594 = 30.9% done in 4.0s, 8.9s to go\n",
      "on time step 4745 (time=118.625), 0.000843048 s/step\n",
      "Meep progress: 223.9/383.3333435058594 = 58.4% done in 8.0s, 5.7s to go\n",
      "on time step 8960 (time=224), 0.000950079 s/step\n",
      "Meep progress: 338.15000000000003/383.3333435058594 = 88.2% done in 12.0s, 1.6s to go\n",
      "on time step 13536 (time=338.4), 0.000874266 s/step\n",
      "Normalizing field data...\n",
      "run 0 finished at t = 383.35 (15334 timesteps)\n"
     ]
    }
   ],
   "source": [
    "f = plt.figure(dpi=100)\n",
    "animate = mp.Animate2D(fields=mp.Ez, f=f, normalize=True)\n",
    "sim.run(mp.at_every(1, animate), until_after_sources=50)\n",
    "plt.close()\n"
   ]
  },
  {
   "cell_type": "code",
   "execution_count": 9,
   "id": "3ec99411-f956-4fe2-910c-ccf5fb364f22",
   "metadata": {
    "scrolled": true
   },
   "outputs": [
    {
     "name": "stdout",
     "output_type": "stream",
     "text": [
      "Generating MP4...\n"
     ]
    },
    {
     "data": {
      "text/html": [
       "<video src=\"oblique-source-normal.mp4\" controls  >\n",
       "      Your browser does not support the <code>video</code> element.\n",
       "    </video>"
      ],
      "text/plain": [
       "<IPython.core.display.Video object>"
      ]
     },
     "execution_count": 9,
     "metadata": {},
     "output_type": "execute_result"
    }
   ],
   "source": [
    "filename = \"oblique-source-normal.mp4\"\n",
    "animate.to_mp4(10, filename)\n",
    "Video(filename)"
   ]
  },
  {
   "cell_type": "code",
   "execution_count": 13,
   "id": "51f8f6f7-8843-440a-8289-8fd0a1c33555",
   "metadata": {},
   "outputs": [],
   "source": [
    "kx = 0.4  # initial guess for wavevector in x-direction of eigenmode\n",
    "kpoint = mp.Vector3(kx).rotate(\n",
    "    mp.Vector3(z=1), rot_angle\n",
    ")  # Rotate the vector by the specified amount\n",
    "\n",
    "bnum = 1  # band number of eigenmode\n",
    "\n",
    "sources = [\n",
    "    mp.EigenModeSource(\n",
    "        src=mp.GaussianSource(fsrc, fwidth=0.2 * fsrc),\n",
    "        center=mp.Vector3(),\n",
    "        size=mp.Vector3(y=14),\n",
    "        direction=mp.NO_DIRECTION,\n",
    "        eig_kpoint=kpoint,\n",
    "        eig_band=bnum,\n",
    "        eig_parity=mp.EVEN_Y + mp.ODD_Z if rot_angle == 0 else mp.ODD_Z,\n",
    "        eig_match_freq=True,\n",
    "    )\n",
    "]\n",
    "\n",
    "sim = mp.Simulation(\n",
    "    cell_size=cell_size,\n",
    "    resolution=resolution,\n",
    "    boundary_layers=pml_layers,\n",
    "    sources=sources,\n",
    "    geometry=geometry,\n",
    "    symmetries=[mp.Mirror(mp.Y)] if rot_angle == 0 else [],\n",
    "    k_point = mp.Vector3(1)\n",
    ")"
   ]
  },
  {
   "cell_type": "code",
   "execution_count": 14,
   "id": "9fc413f8-af4d-4472-a0c8-a75ef6f5169a",
   "metadata": {},
   "outputs": [
    {
     "name": "stdout",
     "output_type": "stream",
     "text": [
      "-----------\n",
      "Initializing structure...\n",
      "Halving computational cell along direction y\n",
      "time for choose_chunkdivision = 0.000946999 s\n",
      "Working in 2D dimensions.\n",
      "Computational cell is 14 x 14 x 0 with resolution 20\n",
      "     block, center = (0,0,0)\n",
      "          size (1e+20,14,1e+20)\n",
      "          axes (1,0,0), (0,1,0), (0,0,1)\n",
      "          dielectric constant epsilon diagonal = (12,12,12)\n",
      "time for set_epsilon = 0.07758 s\n",
      "-----------\n",
      "Meep: using complex fields.\n",
      "MPB solved for frequency_1(0.4,0,0) = 0.11547 after 28 iters\n",
      "MPB solved for frequency_1(0.519615,0,0) = 0.15 after 1 iters\n"
     ]
    },
    {
     "data": {
      "application/vnd.jupyter.widget-view+json": {
       "model_id": "e7d24998190340c395f86f38b880f7d5",
       "version_major": 2,
       "version_minor": 0
      },
      "text/plain": [
       "FloatProgress(value=0.0, description='0% done ', max=383.3333435058594)"
      ]
     },
     "metadata": {},
     "output_type": "display_data"
    },
    {
     "name": "stdout",
     "output_type": "stream",
     "text": [
      "     block, center = (0,0,0)\n",
      "          size (1e+20,14,1e+20)\n",
      "          axes (1,0,0), (0,1,0), (0,0,1)\n",
      "          dielectric constant epsilon diagonal = (12,12,12)\n",
      "Meep progress: 185.0/383.3333435058594 = 48.3% done in 4.0s, 4.3s to go\n",
      "on time step 7406 (time=185.15), 0.000540131 s/step\n",
      "Meep progress: 377.0/383.3333435058594 = 98.3% done in 8.0s, 0.1s to go\n",
      "on time step 15080 (time=377), 0.00052203 s/step\n",
      "Normalizing field data...\n",
      "run 0 finished at t = 383.35 (15334 timesteps)\n"
     ]
    }
   ],
   "source": [
    "f = plt.figure(dpi=100)\n",
    "animate = mp.Animate2D(fields=mp.Ez, f=f, normalize=True)\n",
    "sim.run(mp.at_every(1, animate), until_after_sources=50)\n",
    "plt.close()"
   ]
  },
  {
   "cell_type": "code",
   "execution_count": 15,
   "id": "eed9872a-cde4-4af2-9991-4ee2574ae4d2",
   "metadata": {},
   "outputs": [
    {
     "name": "stdout",
     "output_type": "stream",
     "text": [
      "Generating MP4...\n"
     ]
    },
    {
     "data": {
      "text/html": [
       "<video src=\"oblique-source-eig.mp4\" controls  >\n",
       "      Your browser does not support the <code>video</code> element.\n",
       "    </video>"
      ],
      "text/plain": [
       "<IPython.core.display.Video object>"
      ]
     },
     "execution_count": 15,
     "metadata": {},
     "output_type": "execute_result"
    }
   ],
   "source": [
    "filename = \"oblique-source-eig.mp4\"\n",
    "animate.to_mp4(10, filename)\n",
    "Video(filename)"
   ]
  },
  {
   "cell_type": "code",
   "execution_count": null,
   "id": "2f0edc46-454a-43ec-a26d-cd8e65422e60",
   "metadata": {},
   "outputs": [],
   "source": []
  }
 ],
 "metadata": {
  "kernelspec": {
   "display_name": "Python 3 (ipykernel)",
   "language": "python",
   "name": "python3"
  },
  "language_info": {
   "codemirror_mode": {
    "name": "ipython",
    "version": 3
   },
   "file_extension": ".py",
   "mimetype": "text/x-python",
   "name": "python",
   "nbconvert_exporter": "python",
   "pygments_lexer": "ipython3",
   "version": "3.11.9"
  }
 },
 "nbformat": 4,
 "nbformat_minor": 5
}
