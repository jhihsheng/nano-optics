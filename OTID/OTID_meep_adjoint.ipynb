{
 "cells": [
  {
   "cell_type": "markdown",
   "id": "cac97a92-fb05-4bce-8407-b805ee80d19c",
   "metadata": {},
   "source": [
    "# Adjoint Method with FDTD Solver Meep\n",
    "\n",
    "## Summary of the adjoint method\n",
    "\n",
    "Inverse design of the frequency space problems of the Maxwell's equations can be formulated as\n",
    "\\begin{align}\n",
    "\\frac{d f }{d \\mathbf{p}} = \\frac{\\partial f }{\\partial \\mathbf{p}} - \\vec{\\lambda}^{T} \\left(A_{\\mathbf{p}}\\mathbf{x} - b_\\mathbf{p}\\right).\n",
    "\\end{align}\n",
    "with the forward simulation \n",
    "\\begin{align}\n",
    "A\\mathbf{x} = \\mathbf{b}\n",
    "\\end{align}\n",
    "and the adjoint (backward) simulation \n",
    "\\begin{align}\n",
    "A^{T} \\vec{\\lambda} = f_{\\mathbf{x}}^{T}.\n",
    "\\end{align}\n",
    "If there is reciprocity (as in the Maxwell's equations), $A = A^{T}$, and\n",
    "\\begin{align}\n",
    "A \\vec{\\lambda} = f_{\\mathbf{x}}^{T}.\n",
    "\\end{align}\n",
    "\n",
    "## FDTD and Meep\n",
    "\n",
    "In the frequency-domain electromagnetism problems, \n",
    "\n",
    "\\begin{align}\n",
    "A = \\nabla \\times (\\nabla\\times) + \\epsilon(\\mathbf{r}) \\frac{\\omega^2}{c^2}. \n",
    "\\end{align}\n",
    "If one chooses $\\epsilon(\\mathbf{r})$ as the design parameter $\\mathbf{p}$, the method is referred to as density-based topology optimization in the literature. The gradient is \n",
    "\\begin{align}\n",
    "\\frac{d f}{ d \\mathbf{p}} = - 2\\frac{\\omega^2}{c^2} \\mathrm{Re} \\left[\n",
    "\\sum_{\\mathbf{r}_j\\in \\mathcal{V}}\\vec{\\lambda}^{T}(\\mathbf{r}_j) \\mathbf{E}(\\mathbf{r}_j) \\right], \n",
    "\\end{align}\n",
    "\n",
    "where $\\mathcal{V}$ is the design region. \n",
    "Meep, a finite difference time-domain method, can solve both the forward and adjoint simulation in the time-domain, which means that the results cover a frequency ranges. One can simply do the fourier transform to obtain the frequency-domain result from the Meep's output $\\mathbf{E}(t)$ and \n",
    "$\\vec{\\lambda}(t)$. In Meep, the source term $\\mathbf{b}$ is not directly a current density $\\mathbf{J}$, but a time-varying electric filed $\\mathbf{E}_{\\mathrm{in}}$.\n",
    "```\n",
    "sources = [mp.Source(mp.ContinuousSource(frequency=0.15),\n",
    "                component=mp.Ez,\n",
    "                center=mp.Vector3(-7,0))]\n",
    "```\n",
    "\n",
    "## Outline of the Codes\n",
    "\n",
    "\n",
    "1. Package `meep` does the FDTD simulation. \n",
    "2. Package `meep.adjoint` computes the gradient $\\frac{df}{d\\mathbf{p}}$ by doing both the forward and adjoint runs. Somehow, the core codes are written in C and wrapped up to python with SWIG. Thus, one can not modify the codes in the python level, but has to go the the C interface. \n",
    "3. Package `autograd` is used to compute the adjoint source $f_{\\mathbf{E}}$. \n",
    "(Automatic differentiation is an important method to valuate the partial derivative of a function given by a code. It takes the advantages of the chain rules.)\n",
    "4. Package `nlopt` is used to update the new parameter $\\mathbf{p}$. `nlopt` is a collection of many nonlinear algorithm. Here, we use the gradient-based method *MMA* and *BFGS* to do \n",
    "\\begin{align}\n",
    "\\mathbf{p}^{(k+1)} = \\mathbf{p}^{(k)} + \\Delta \\mathbf{p}.  \n",
    "\\end{align}\n"
   ]
  },
  {
   "cell_type": "markdown",
   "id": "934577f3-da08-4d94-94a3-14f4ba7917b4",
   "metadata": {},
   "source": [
    "## 90 degree bend \n",
    "\n",
    "\n",
    "This notebook is modified from https://github.com/NanoComp/meep/tree/master/python/examples/"
   ]
  },
  {
   "cell_type": "code",
   "execution_count": 1,
   "id": "43fda843-958f-421c-af98-13b7e9daab32",
   "metadata": {},
   "outputs": [],
   "source": [
    "import meep as mp\n",
    "import meep.adjoint as mpa\n",
    "import numpy as np\n",
    "from autograd import numpy as npa\n",
    "import nlopt\n",
    "from matplotlib import pyplot as plt\n",
    "from meep import Animate2D\n",
    "from autograd import tensor_jacobian_product\n",
    "from matplotlib.patches import Circle\n",
    "\n",
    "mp.verbosity(0)\n",
    "Si = mp.Medium(index=3.4)\n",
    "SiO2 = mp.Medium(index=1.44)"
   ]
  },
  {
   "cell_type": "code",
   "execution_count": 2,
   "id": "3b167d25-c976-432e-9fb4-c6f0097763b7",
   "metadata": {},
   "outputs": [],
   "source": [
    "## geometry\n",
    "resolution = 20  # pixels/um\n",
    "sx = 24  # size of cell in X direction\n",
    "sy = 24  # size of cell in Y direction\n",
    "cell = mp.Vector3(sx, sy, 0)\n",
    "dpml = 1.0\n",
    "pml_layers = [mp.PML(dpml)]\n",
    "\n",
    "w = 1.5\n",
    "y_loc = -4\n",
    "\n",
    "design_region_width = 3\n",
    "design_region_height = 3\n",
    "design_region_resolution = 10\n",
    "design_region_resolution = int(1 * resolution)\n",
    "Nx = int(design_region_resolution * design_region_width) + 1\n",
    "Ny = int(design_region_resolution * design_region_height) + 1\n",
    "\n",
    "design_variables = mp.MaterialGrid(mp.Vector3(Nx, Ny), SiO2, Si, grid_type=\"U_MEAN\")\n",
    "design_region = mpa.DesignRegion(\n",
    "    design_variables, volume=mp.Volume(center=mp.Vector3(w/2,y_loc), size=mp.Vector3(design_region_width, design_region_height))\n",
    ")\n",
    "\n",
    "\n",
    "geometry = [\n",
    "    mp.Block(\n",
    "        mp.Vector3(sx/2 , w),\n",
    "        center = mp.Vector3(-sx/4, y_loc),\n",
    "        material = Si,\n",
    "    ),\n",
    "    mp.Block(\n",
    "        mp.Vector3(w, sy/2 - y_loc + w /2),\n",
    "        center=mp.Vector3( w/2, sy/4 + y_loc/2 - w/4),\n",
    "        material = Si,\n",
    "    ),\n",
    "     mp.Block(\n",
    "        center=design_region.center, size=design_region.size, material=design_variables\n",
    "    ),  # design region\n",
    "]\n",
    "\n",
    "## source \n",
    "fcen = 0.15\n",
    "width = 0.1\n",
    "fwidth = width * fcen\n",
    "source_center = [- 5, y_loc, 0]\n",
    "source_size = mp.Vector3(0, 2 * w, 0)\n",
    "kpoint = mp.Vector3(1, 0, 0)\n",
    "src = mp.GaussianSource(frequency=fcen, fwidth=fwidth)\n",
    "source = [\n",
    "    mp.EigenModeSource(\n",
    "        src,\n",
    "        eig_band=1,\n",
    "        direction=mp.NO_DIRECTION,\n",
    "        eig_kpoint=kpoint,\n",
    "        size=source_size,\n",
    "        center=source_center,\n",
    "    )\n",
    "]\n",
    "\n",
    "##\n",
    "sim = mp.Simulation(\n",
    "    cell_size=cell,\n",
    "    boundary_layers=pml_layers,\n",
    "    geometry=geometry,\n",
    "    sources=source,\n",
    "    eps_averaging=False,\n",
    "    resolution=resolution,\n",
    ")\n",
    "\n",
    "##\n",
    "\n",
    "TE_top = mpa.EigenmodeCoefficient(\n",
    "    sim, mp.Volume(center=mp.Vector3(w/2, 6.5 + y_loc, 0), size=mp.Vector3(x=2*w)), mode=1\n",
    ")\n",
    "\n",
    "TE0 = mpa.EigenmodeCoefficient(\n",
    "    sim, mp.Volume(center=mp.Vector3(-4, y_loc, 0), size=mp.Vector3(y=2*w)), mode=1\n",
    ")\n",
    "\n",
    "ob_list = [TE0, TE_top]\n",
    "\n",
    "\n",
    "def J(source, top):\n",
    "    return npa.abs(top / source) ** 2\n",
    "\n",
    "\n",
    "\n",
    "\n",
    "opt = mpa.OptimizationProblem(\n",
    "    simulation=sim,\n",
    "    objective_functions=J,\n",
    "    objective_arguments=ob_list,\n",
    "    design_regions=[design_region],\n",
    "    fcen=fcen,\n",
    "    df=0,\n",
    "    nf=1,\n",
    ")"
   ]
  },
  {
   "cell_type": "code",
   "execution_count": 3,
   "id": "1911cc8f-4c1c-4884-b3e4-68605462b1ec",
   "metadata": {},
   "outputs": [
    {
     "name": "stdout",
     "output_type": "stream",
     "text": [
      "0.20124611797498096\n",
      "20\n"
     ]
    }
   ],
   "source": [
    "minimum_length = 0.09  # minimum length scale (microns)\n",
    "eta_i = (\n",
    "    0.5  # blueprint (or intermediate) design field thresholding point (between 0 and 1)\n",
    ")\n",
    "eta_e = 0.55  # erosion design field thresholding point (between 0 and 1)\n",
    "eta_d = 1 - eta_e  # dilation design field thresholding point (between 0 and 1)\n",
    "filter_radius = mpa.get_conic_radius_from_eta_e(minimum_length, eta_e)\n",
    "print(filter_radius)\n",
    "print(resolution)\n"
   ]
  },
  {
   "cell_type": "code",
   "execution_count": 4,
   "id": "435548bf-f65c-4795-969d-d023b0154685",
   "metadata": {},
   "outputs": [],
   "source": [
    "def mapping(x, eta, beta):\n",
    "\n",
    "    # filter\n",
    "    filtered_field = mpa.conic_filter(\n",
    "        x,\n",
    "        filter_radius,\n",
    "        design_region_width,\n",
    "        design_region_height,\n",
    "        design_region_resolution,\n",
    "    )\n",
    "\n",
    "    # projection\n",
    "    projected_field = mpa.tanh_projection(filtered_field, beta, eta)\n",
    "\n",
    "    projected_field = (\n",
    "        npa.rot90(projected_field.T, 2) + projected_field\n",
    "    ) / 2  # 90-degree symmetry\n",
    "\n",
    "    # interpolate to actual materials\n",
    "    return projected_field.flatten()"
   ]
  },
  {
   "cell_type": "code",
   "execution_count": 5,
   "id": "3f71dc25-ea91-4a51-b948-1c7352d8099a",
   "metadata": {},
   "outputs": [
    {
     "data": {
      "text/plain": [
       "0.5"
      ]
     },
     "execution_count": 5,
     "metadata": {},
     "output_type": "execute_result"
    }
   ],
   "source": [
    "eta_i"
   ]
  },
  {
   "cell_type": "code",
   "execution_count": 6,
   "id": "46fd227d-e979-491a-8903-3cac9980420a",
   "metadata": {},
   "outputs": [
    {
     "data": {
      "image/png": "[encoded data removed]",
      "text/plain": [
       "<Figure size 640x480 with 1 Axes>"
      ]
     },
     "metadata": {},
     "output_type": "display_data"
    }
   ],
   "source": [
    "%matplotlib inline\n",
    "plt.figure()\n",
    "rho_vector = np.random.rand(Nx * Ny)\n",
    "opt.update_design([mapping(rho_vector, eta_i, 1e3)])\n",
    "opt.plot2D(True, output_plane=mp.Volume(center=(0, 0, 0), size=(sx, sy, 0)))"
   ]
  },
  {
   "cell_type": "code",
   "execution_count": 7,
   "id": "49512096-7c42-4b37-aefa-cf0d44c02f40",
   "metadata": {},
   "outputs": [
    {
     "data": {
      "image/png": "[encoded data removed]",
      "text/plain": [
       "<Figure size 960x720 with 3 Axes>"
      ]
     },
     "metadata": {},
     "output_type": "display_data"
    }
   ],
   "source": [
    "%matplotlib inline\n",
    "beta = 2048\n",
    "\n",
    "fig, (ax1, ax2, ax3) = plt.subplots(1, 3,dpi=150)\n",
    "opt.update_design([mapping(rho_vector, 0.498, beta)])\n",
    "opt.plot2D(True, ax=ax1, output_plane=mp.Volume(center=(0, 0, 0), size=(sx, sy, 0)))\n",
    "ax1.set_title(\"Dilation\")\n",
    "\n",
    "opt.update_design([mapping(rho_vector, 0.5, beta)])\n",
    "opt.plot2D(True, ax=ax2, output_plane=mp.Volume(center=(0, 0, 0), size=(sx, sy, 0)))\n",
    "ax2.set_title(\"Intermediate\")\n",
    "\n",
    "opt.update_design([mapping(rho_vector, 0.502, beta)])\n",
    "opt.plot2D(True, ax=ax3, output_plane=mp.Volume(center=(0, 0, 0), size=(sx, sy, 0)))\n",
    "ax3.set_title(\"Erosion\")\n",
    "\n",
    "fig.tight_layout()"
   ]
  },
  {
   "cell_type": "code",
   "execution_count": 8,
   "id": "e1eab163-ea13-4943-be95-682c722e007d",
   "metadata": {},
   "outputs": [
    {
     "name": "stdout",
     "output_type": "stream",
     "text": [
      "Starting forward run...\n",
      "Starting adjoint run...\n",
      "Calculating gradient...\n"
     ]
    }
   ],
   "source": [
    "x0 = np.ones(( Nx * Ny,)) * 0.5\n",
    "f0, dJ_du = opt([x0])"
   ]
  },
  {
   "cell_type": "code",
   "execution_count": 11,
   "id": "16cb82b2-1b13-48d4-9934-eb4aff91ba13",
   "metadata": {},
   "outputs": [
    {
     "data": {
      "text/plain": [
       "array([0.00084181, 0.00057415, 0.00057127, ..., 0.00066265, 0.00061638,\n",
       "       0.00083986])"
      ]
     },
     "execution_count": 11,
     "metadata": {},
     "output_type": "execute_result"
    }
   ],
   "source": [
    "dJ_du "
   ]
  },
  {
   "cell_type": "code",
   "execution_count": 12,
   "id": "22b1c6aa-39d7-4c56-b175-a7c18d62c8f7",
   "metadata": {},
   "outputs": [],
   "source": [
    "evaluation_history = []\n",
    "cur_iter = [0]\n",
    "\n",
    "\n",
    "def f(v, gradient, cur_beta):\n",
    "    print(\"Current iteration: {}\".format(cur_iter[0] + 1))\n",
    "\n",
    "    f0, dJ_du = opt([mapping(v, eta_i, cur_beta)])  # compute objective and gradient\n",
    "\n",
    "    if gradient.size > 0:\n",
    "        gradient[:] = tensor_jacobian_product(mapping, 0)(\n",
    "            v, eta_i, cur_beta, dJ_du\n",
    "        )  # backprop\n",
    "\n",
    "    evaluation_history.append(np.real(f0))\n",
    "\n",
    "    cur_iter[0] = cur_iter[0] + 1\n",
    "\n",
    "    return np.real(f0)"
   ]
  },
  {
   "cell_type": "code",
   "execution_count": 13,
   "id": "003d0c25-a766-43d7-b84f-1a38a9faecec",
   "metadata": {},
   "outputs": [
    {
     "name": "stdout",
     "output_type": "stream",
     "text": [
      "Current iteration: 1\n",
      "Starting forward run...\n"
     ]
    },
    {
     "data": {
      "application/vnd.jupyter.widget-view+json": {
       "model_id": "30cb6688a370404495f659fe7041c0f4",
       "version_major": 2,
       "version_minor": 0
      },
      "image/png": "[encoded data removed]",
      "text/html": [
       "\n",
       "            <div style=\"display: inline-block;\">\n",
       "                <div class=\"jupyter-widgets widget-label\" style=\"text-align: center;\">\n",
       "                    Figure\n",
       "                </div>\n",
       "                <img src='data:image/png;base64,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' width=640.0/>\n",
       "            </div>\n",
       "        "
      ],
      "text/plain": [
       "Canvas(toolbar=Toolbar(toolitems=[('Home', 'Reset original view', 'home', 'home'), ('Back', 'Back to previous …"
      ]
     },
     "metadata": {},
     "output_type": "display_data"
    },
    {
     "name": "stdout",
     "output_type": "stream",
     "text": [
      "Starting adjoint run...\n",
      "Calculating gradient...\n"
     ]
    },
    {
     "ename": "ValueError",
     "evalue": "nlopt invalid argument",
     "output_type": "error",
     "traceback": [
      "\u001b[0;31m---------------------------------------------------------------------------\u001b[0m",
      "\u001b[0;31mValueError\u001b[0m                                Traceback (most recent call last)",
      "Cell \u001b[0;32mIn[13], line 37\u001b[0m\n\u001b[1;32m     35\u001b[0m solver\u001b[38;5;241m.\u001b[39mset_max_objective(\u001b[38;5;28;01mlambda\u001b[39;00m a, g: f(a, g, cur_beta))\n\u001b[1;32m     36\u001b[0m solver\u001b[38;5;241m.\u001b[39mset_maxeval(update_factor)\n\u001b[0;32m---> 37\u001b[0m x[:] \u001b[38;5;241m=\u001b[39m \u001b[43msolver\u001b[49m\u001b[38;5;241;43m.\u001b[39;49m\u001b[43moptimize\u001b[49m\u001b[43m(\u001b[49m\u001b[43mx\u001b[49m\u001b[43m)\u001b[49m\n\u001b[1;32m     38\u001b[0m cur_beta \u001b[38;5;241m=\u001b[39m cur_beta \u001b[38;5;241m*\u001b[39m beta_scale\n",
      "File \u001b[0;32m~/qno/envs/mp24/lib/python3.11/site-packages/nlopt.py:328\u001b[0m, in \u001b[0;36mopt.optimize\u001b[0;34m(self, *args)\u001b[0m\n\u001b[1;32m    327\u001b[0m \u001b[38;5;28;01mdef\u001b[39;00m \u001b[38;5;21moptimize\u001b[39m(\u001b[38;5;28mself\u001b[39m, \u001b[38;5;241m*\u001b[39margs):\n\u001b[0;32m--> 328\u001b[0m     \u001b[38;5;28;01mreturn\u001b[39;00m \u001b[43m_nlopt\u001b[49m\u001b[38;5;241;43m.\u001b[39;49m\u001b[43mopt_optimize\u001b[49m\u001b[43m(\u001b[49m\u001b[38;5;28;43mself\u001b[39;49m\u001b[43m,\u001b[49m\u001b[43m \u001b[49m\u001b[38;5;241;43m*\u001b[39;49m\u001b[43margs\u001b[49m\u001b[43m)\u001b[49m\n",
      "\u001b[0;31mValueError\u001b[0m: nlopt invalid argument"
     ]
    }
   ],
   "source": [
    "%matplotlib ipympl\n",
    "\n",
    "# Create the animation\n",
    "animate = Animate2D(\n",
    "    fields=None,\n",
    "    realtime=True,\n",
    "    eps_parameters={'contour': False, 'alpha': 1, 'frequency': 0.15},\n",
    "    plot_sources_flag=False,\n",
    "    plot_monitors_flag=False,\n",
    "    plot_boundaries_flag=False,\n",
    "    update_epsilon=True,  # required for the geometry to update dynamically\n",
    "    nb=True         # required if running in a Jupyter notebook\n",
    ")\n",
    "# This will trigger the animation at the end of each simulation\n",
    "opt.step_funcs=[mp.at_end(animate)]\n",
    "\n",
    "algorithm = nlopt.LD_MMA\n",
    "n = Nx * Ny  # number of parameters\n",
    "\n",
    "# Initial guess\n",
    "x = np.ones((n,)) * 0.5\n",
    "\n",
    "# lower and upper bounds\n",
    "lb = np.zeros((Nx * Ny,))\n",
    "ub = np.ones((Nx * Ny,))\n",
    "\n",
    "cur_beta = 4\n",
    "beta_scale = 2\n",
    "num_betas = 6\n",
    "update_factor = 12\n",
    "for iters in range(num_betas):\n",
    "    solver = nlopt.opt(algorithm, n)\n",
    "    solver.set_lower_bounds(lb)\n",
    "    solver.set_upper_bounds(ub)\n",
    "    solver.set_max_objective(lambda a, g: f(a, g, cur_beta))\n",
    "    solver.set_maxeval(update_factor)\n",
    "    x[:] = solver.optimize(x)\n",
    "    cur_beta = cur_beta * beta_scale"
   ]
  },
  {
   "cell_type": "code",
   "execution_count": 28,
   "id": "5561aff3-06e6-46a1-a3f3-97394292cc03",
   "metadata": {},
   "outputs": [
    {
     "name": "stdout",
     "output_type": "stream",
     "text": [
      "Current iteration: 2\n",
      "Starting forward run...\n",
      "Starting adjoint run...\n",
      "Calculating gradient...\n"
     ]
    },
    {
     "ename": "ValueError",
     "evalue": "nlopt invalid argument",
     "output_type": "error",
     "traceback": [
      "\u001b[0;31m---------------------------------------------------------------------------\u001b[0m",
      "\u001b[0;31mValueError\u001b[0m                                Traceback (most recent call last)",
      "Cell \u001b[0;32mIn[28], line 1\u001b[0m\n\u001b[0;32m----> 1\u001b[0m \u001b[43msolver\u001b[49m\u001b[38;5;241;43m.\u001b[39;49m\u001b[43moptimize\u001b[49m\u001b[43m(\u001b[49m\u001b[43mx\u001b[49m\u001b[43m)\u001b[49m\n",
      "File \u001b[0;32m~/qno/envs/mp24/lib/python3.11/site-packages/nlopt.py:328\u001b[0m, in \u001b[0;36mopt.optimize\u001b[0;34m(self, *args)\u001b[0m\n\u001b[1;32m    327\u001b[0m \u001b[38;5;28;01mdef\u001b[39;00m \u001b[38;5;21moptimize\u001b[39m(\u001b[38;5;28mself\u001b[39m, \u001b[38;5;241m*\u001b[39margs):\n\u001b[0;32m--> 328\u001b[0m     \u001b[38;5;28;01mreturn\u001b[39;00m \u001b[43m_nlopt\u001b[49m\u001b[38;5;241;43m.\u001b[39;49m\u001b[43mopt_optimize\u001b[49m\u001b[43m(\u001b[49m\u001b[38;5;28;43mself\u001b[39;49m\u001b[43m,\u001b[49m\u001b[43m \u001b[49m\u001b[38;5;241;43m*\u001b[39;49m\u001b[43margs\u001b[49m\u001b[43m)\u001b[49m\n",
      "\u001b[0;31mValueError\u001b[0m: nlopt invalid argument"
     ]
    }
   ],
   "source": [
    "solver.optimize(x)"
   ]
  }
 ],
 "metadata": {
  "kernelspec": {
   "display_name": "Python 3 (ipykernel)",
   "language": "python",
   "name": "python3"
  },
  "language_info": {
   "codemirror_mode": {
    "name": "ipython",
    "version": 3
   },
   "file_extension": ".py",
   "mimetype": "text/x-python",
   "name": "python",
   "nbconvert_exporter": "python",
   "pygments_lexer": "ipython3",
   "version": "3.11.9"
  }
 },
 "nbformat": 4,
 "nbformat_minor": 5
}
