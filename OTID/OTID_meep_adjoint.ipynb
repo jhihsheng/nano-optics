{
 "cells": [
  {
   "cell_type": "markdown",
   "id": "cac97a92-fb05-4bce-8407-b805ee80d19c",
   "metadata": {},
   "source": [
    "# Adjoint Method with FDTD Solver Meep\n",
    "Inverse design of the frequency space problems of the Maxwell's equations can be formulated as\n",
    "\\begin{align}\n",
    "\\frac{d f }{d \\mathbf{p}} = \\frac{\\partial f }{\\partial \\mathbf{p}} - \\vec{\\lambda}^{T} \\left(A_{\\mathbf{p}}\\mathbf{x} - b_\\mathbf{p}\\right).\n",
    "\\end{align}"
   ]
  },
  {
   "cell_type": "code",
   "execution_count": null,
   "id": "2a290658-b052-4cb1-912a-e07c6bd0b45d",
   "metadata": {},
   "outputs": [],
   "source": []
  }
 ],
 "metadata": {
  "kernelspec": {
   "display_name": "Python 3 (ipykernel)",
   "language": "python",
   "name": "python3"
  },
  "language_info": {
   "codemirror_mode": {
    "name": "ipython",
    "version": 3
   },
   "file_extension": ".py",
   "mimetype": "text/x-python",
   "name": "python",
   "nbconvert_exporter": "python",
   "pygments_lexer": "ipython3",
   "version": "3.10.14"
  }
 },
 "nbformat": 4,
 "nbformat_minor": 5
}
