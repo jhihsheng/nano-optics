{
 "cells": [
  {
   "cell_type": "code",
   "execution_count": 209,
   "id": "cf80c7e9-3a62-4fba-89f9-37dd5124036e",
   "metadata": {},
   "outputs": [],
   "source": [
    "import numpy as np\n",
    "import matplotlib\n",
    "import matplotlib.pyplot as plt\n",
    "import time\n",
    "from numpy import linalg as LA\n",
    "plt.rcParams['text.usetex'] = False\n",
    "plt.rcParams['pcolor.shading']='auto'"
   ]
  },
  {
   "cell_type": "markdown",
   "id": "b1f902cf-5563-460a-86aa-c4d11cb68415",
   "metadata": {},
   "source": [
    "# Relaxation method for Laplace equation\n",
    " The solution $V(\\mathbf{r})$ to a Laplace equaiton has no maximum or minimum. The potential at one position is the average of the neighborhood.\n",
    " $$V(x,y) = \\frac{1}{4} \\left[V(x+dx,y)+V(x,y+dy)+V(x-dx,y)+V(x,y-dy)\\right].$$\n",
    "Using this idea, we can solve the potentail inside a domain $\\mathcal V$, given the potential $V$ on the surface $\\mathcal S$.\n",
    "## Effective Resistance\n",
    "In this example, we will use the relaxation method to compute the resistance of a nano-device."
   ]
  },
  {
   "cell_type": "code",
   "execution_count": 210,
   "id": "2cfc491e-e0b6-454e-b714-d419f046492d",
   "metadata": {},
   "outputs": [],
   "source": [
    "lx = 1e-7 ## m\n",
    "ly = 1e-8 ## m\n",
    "dx = 0.125e-9 ## m\n",
    "dy = dx ## m Note that # should make dy = dx\n",
    "\n",
    "\n",
    "Nx = int(np.rint(lx/dx)) ## number of x-grids. rint: Round elements of the array to the nearest integer.\n",
    "Ny = int(np.rint(ly/dy)) ## number of y-grids. \n",
    "xv = np.linspace(-lx/2,lx/2,Nx)\n",
    "yv = np.linspace(-ly/2,ly/2,Ny)\n",
    "xm, ym = np.meshgrid(xv, yv)\n",
    "pot = np.zeros((Nx,Ny))"
   ]
  },
  {
   "cell_type": "code",
   "execution_count": 211,
   "id": "1b2d9651-65ec-4171-82cc-7387af7295db",
   "metadata": {},
   "outputs": [],
   "source": [
    "## BCs\n",
    "Ng = int(np.rint(5e-9/dx)) # number of grids of the gate (5 nm) \n",
    "def appl_BCs(pot_in):\n",
    "    pot_out = pot_in\n",
    "    pot_out[0,0:Ny-1] = pot_out[1,0:Ny-1] # left Neumann BCs dv/dn =0  \n",
    "    pot_out[Nx-1,0:Ny-1] = pot_out[Nx-2,0:Ny-1] # right Neumann BCs dv/dn =0\n",
    "    pot_out[0:Nx,0] = pot_out[0:Nx,1]  # bottom Neumann BCs dv/dn =0\n",
    "    pot_out[0:Ng,Ny-1] = 0.5 # positive electrode\n",
    "    pot_out[Nx-Ng:Nx,Ny-1] = -0.5 # negative electrode\n",
    "    pot_out[Ng:Nx-Ng,Ny-1] = pot_out[Ng:Nx-Ng,Ny-2] # top Neumann BCs dv/dn =0\n",
    "    return pot_out\n",
    "\n",
    "pot =  appl_BCs(pot)\n"
   ]
  },
  {
   "cell_type": "code",
   "execution_count": 212,
   "id": "cc915f2f-b1d8-46a4-878d-9307424692eb",
   "metadata": {},
   "outputs": [
    {
     "data": {
      "image/png": "[encoded data removed]",
      "text/plain": [
       "<Figure size 900x600 with 2 Axes>"
      ]
     },
     "metadata": {
      "needs_background": "light"
     },
     "output_type": "display_data"
    }
   ],
   "source": [
    "fig, ax = plt.subplots(dpi=150)\n",
    "#plt.figure(dpi=150)\n",
    "plt.pcolormesh(xv/1e-9,yv/1e-9,pot.transpose(),cmap=\"PuOr\")\n",
    "plt.colorbar(label=r'V(volt)')\n",
    "plt.title(r\"initial guess of potential\")\n",
    "plt.xlabel(r\"$x$ (nm)\")\n",
    "plt.ylabel(r\"$y$ (nm)\")\n",
    "ax.set_aspect(5)\n",
    "plt.show()"
   ]
  },
  {
   "cell_type": "code",
   "execution_count": null,
   "id": "81b80d21-0085-48f0-a04a-aefd274d853f",
   "metadata": {},
   "outputs": [],
   "source": [
    "Nt = 400000 # num of iteration \n",
    "t_start = time.time()\n",
    "for it in range(Nt):\n",
    "    pot = appl_BCs(pot)  \n",
    "    pot_old = np.copy(pot) #https://numpy.org/doc/stable/reference/generated/numpy.copy.html\n",
    "    pot[1:Nx-1,1:Ny-1] = 1/4 * (pot[0:Nx-2,1:Ny-1] + pot[2:Nx,1:Ny-1] + pot[1:Nx-1,0:Ny-2] + pot[1:Nx-1,2:Ny]) \n",
    "    err = LA.norm(pot-pot_old) # \n",
    "    rel_err = err/LA.norm(pot) \n",
    "          \n",
    "t_end = time.time()\n",
    "print(t_end - t_start)\n",
    "print(err)\n",
    "print(rel_err)"
   ]
  },
  {
   "cell_type": "code",
   "execution_count": null,
   "id": "572fd402-3cce-4f4b-93a1-c54ee6bfbbd5",
   "metadata": {},
   "outputs": [],
   "source": [
    "fig, ax = plt.subplots(dpi=150)\n",
    "pot_plot = np.copy(pot + 0.5)\n",
    "plt.pcolormesh(xv/1e-9,yv/1e-9,pot_plot.transpose()**1,cmap=\"PuOr\")\n",
    "plt.colorbar(label=r'V(volt)')\n",
    "CS = ax.contour(xv/1e-9,yv/1e-9,pot_plot.transpose()**1,linewidths=0.5,cmap='twilight',levels=np.linspace(0,1,25))\n",
    "ax.clabel(CS, inline=True, fontsize=8)\n",
    "plt.title(\"potential by the relaxation method\")\n",
    "plt.xlabel(r\"$x$ (nm)\")\n",
    "plt.ylabel(r\"$y$ (nm)\")\n",
    "ax.set_aspect(5)\n",
    "plt.show()"
   ]
  },
  {
   "cell_type": "markdown",
   "id": "d7873ad4-fefc-4496-9d63-774f4d5d82d7",
   "metadata": {},
   "source": [
    "Compute the E field using\n",
    "$$\\mathbf{E} = -\\nabla V.$$\n",
    "In principle, you can write your own algorithm of gradient using the \n",
    "finite difference method. Here, we directly use the one from **numpy** package. You can refer to the [link](https://numpy.org/doc/stable/reference/generated/numpy.gradient.html) for more details."
   ]
  },
  {
   "cell_type": "code",
   "execution_count": null,
   "id": "60ff9e03-7ca8-4e36-91cd-5c3193b9a241",
   "metadata": {},
   "outputs": [],
   "source": [
    "# Use the gradient to get E field\n",
    "# see https://numpy.org/doc/stable/reference/generated/numpy.gradient.html\n",
    "E_field =  np.gradient(-pot,dx,dy)\n",
    "# E_field[0] is Ex\n",
    "# E_field[1] is Ey"
   ]
  },
  {
   "cell_type": "code",
   "execution_count": null,
   "id": "6e16e325-b2d6-4725-83ca-a9586970e049",
   "metadata": {},
   "outputs": [],
   "source": [
    "# Ref: https://pythonforundergradengineers.com/quiver-plot-with-matplotlib-and-jupyter-notebooks.html\n",
    "fig, ax = plt.subplots(dpi=150)\n",
    "#plt.subplot(2,1,1)\n",
    "skip = (slice(None, None, 4), slice(None, None, 16)) ## make a sparse plot\n",
    "Ex = E_field[0].transpose()**1\n",
    "Ey = E_field[1].transpose()**1\n",
    "\n",
    "color = np.sqrt((Ex[skip])**2 + (Ey[skip])**2)\n",
    "\n",
    "\n",
    "plt.contour(xv/1e-9,yv/1e-9,pot.transpose()**1,linewidths=.5,colors='k',levels=np.linspace(-0.5,0.5,11))\n",
    "\n",
    "plt.quiver(xm[skip]/1e-9,ym[skip]/1e-9,Ex[skip]/1e9,Ey[skip]/1e9,color,cmap=plt.cm.inferno,width= 0.003,scale=0.5)\n",
    "\n",
    "plt.title(\"Electric field by gradient \")\n",
    "plt.colorbar(label=r'E(volt/m)')\n",
    "plt.xlabel(r\"$x$ (nm)\")\n",
    "plt.ylabel(r\"$y$ (nm)\")\n",
    "#plt.xlim([-lx/2,lx/2])\n",
    "#plt.ylim([-ly/2,ly/2])\n",
    "ax.set_aspect(5)\n",
    "plt.show()\n"
   ]
  },
  {
   "cell_type": "markdown",
   "id": "8888f300-84fb-40cf-9053-46e5d82a1e31",
   "metadata": {},
   "source": [
    "The current passing $x=0$ plane is \n",
    "$$ I = \\int \\mathbf{J}\\cdot d\\mathbf{a}$$\n",
    "$$  =\\Delta z \\int J_x dy$$\n",
    "$$  =\\Delta z \\sigma \\int_{-5~\\mathrm{nm}}^{5~\\mathrm{nm}} E_x dy$$\n",
    "$$R_{\\mathbf{eff}}=\\frac{V}{I}=\\frac{\\rho V}{\\Delta z \\int_{-5~\\mathrm{nm}}^{5~\\mathrm{nm}} E_x dy}$$"
   ]
  },
  {
   "cell_type": "code",
   "execution_count": null,
   "id": "36775efb-bf62-40b0-9c64-72f8e901e4c7",
   "metadata": {},
   "outputs": [],
   "source": [
    "#\n",
    "inte1 = np.sum(Ex[:,99]) * dy\n",
    "rho = 1 # Ohm * cm\n",
    "R_eff = 1 * 1/ inte1 # unit: 1 # Ohm * cm/(Delta z)  \n",
    "print(R_eff)"
   ]
  },
  {
   "cell_type": "markdown",
   "id": "5578bc81-ad33-4270-ae7c-d044d51375ac",
   "metadata": {},
   "source": [
    "$R_{\\mathrm{eff}}$ = 10.24 $\\frac{\\Omega\\mathrm{cm}}{z}$  "
   ]
  },
  {
   "cell_type": "code",
   "execution_count": null,
   "id": "92e09580-d1ff-4f38-bbd2-0436f9d9e9cb",
   "metadata": {
    "tags": []
   },
   "outputs": [],
   "source": [
    "\n",
    "plt.plot(Ex[:,int(Nx/2)])\n",
    "plt.show()\n"
   ]
  },
  {
   "cell_type": "code",
   "execution_count": null,
   "id": "d23d9709-7b4b-429e-a24c-d0dbc7ba0976",
   "metadata": {},
   "outputs": [],
   "source": [
    "Ex[:,99 + 90]"
   ]
  },
  {
   "cell_type": "code",
   "execution_count": null,
   "id": "3695aa1f-a9c4-49e6-8c83-697c2cb96bf2",
   "metadata": {},
   "outputs": [],
   "source": [
    "Ng"
   ]
  },
  {
   "cell_type": "code",
   "execution_count": null,
   "id": "b5b3d3d2-e7ce-4b8b-bba3-076aa2a82f87",
   "metadata": {},
   "outputs": [],
   "source": []
  }
 ],
 "metadata": {
  "kernelspec": {
   "display_name": "Python 3 (ipykernel)",
   "language": "python",
   "name": "python3"
  },
  "language_info": {
   "codemirror_mode": {
    "name": "ipython",
    "version": 3
   },
   "file_extension": ".py",
   "mimetype": "text/x-python",
   "name": "python",
   "nbconvert_exporter": "python",
   "pygments_lexer": "ipython3",
   "version": "3.8.8"
  }
 },
 "nbformat": 4,
 "nbformat_minor": 5
}
