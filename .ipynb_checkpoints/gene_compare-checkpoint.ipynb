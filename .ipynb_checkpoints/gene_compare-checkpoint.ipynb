{
 "cells": [
  {
   "cell_type": "markdown",
   "id": "f4d2d311-7103-49bc-a8cc-d9640e7e400f",
   "metadata": {},
   "source": [
    "# Gene comparison\n",
    "\n",
    "Task description: $\\mathbf{a} = [a_1,a_2,a_3,..., a_n]$ and $\\mathbf{b} = [b_1,b_2,b_3,..., b_m]$ are two list of genes. $a_i$'s are distinct genes, so are $b_i$'s.\n",
    "The Pearson correlations between every pair $a_i b_j$ are computed. The data is stored at the file `gene_pair` in the format\n",
    "\\begin{align}\n",
    "&a_1 ~~~ b_1 ~~~ 0.2\\\\\n",
    "&a_1 ~~~ b_2 ~~~ 0.3\\\\\n",
    "&a_1 ~~~ b_3 ~~~ 0.6\\\\\n",
    "&\\vdots ~~~~~ \\vdots ~~~~~ \\vdots\n",
    "\\end{align}\n",
    "`gene_pair` has $nm$ rows and 3 colmunes. Now, we have a feature pair list `feature_pair` in the format,\n",
    "\\begin{align}\n",
    "& c_1 ~~~ d_1 \\\\\n",
    "& c_2 ~~~ d_2 \\\\\n",
    "& c_3 ~~~ d_3 \\\\\n",
    "&\\vdots ~~~~~ \\vdots \n",
    "\\end{align}\n",
    "`feature_pair` has $l$ rows and 2 columns.\n",
    "\n",
    "Algorithm: \n",
    "\n",
    "1. Sort `gene_pair` by $a_i$ and create the file `gene_pair_sorted` with the format,\n",
    "\\begin{align}\n",
    "&a'_1 b'_1  ~~~ a'_1 ~~~ 0.4\\\\\n",
    "&a'_2 b'_2  ~~~ a'_2 ~~~ 0.2\\\\\n",
    "&a'_3 b'_3  ~~~ a'_3 ~~~ 0.3\\\\\n",
    "&\\vdots ~~~~~~~~ \\vdots ~~~~~~~ \\vdots\n",
    "\\end{align}\n",
    "where $a'_i$ is sorted, and $b'_i$ is the original pair of $a'_i$. In this form, $a'_i$ and $b'_i$ can repeat.\n",
    "2. Do the same as above on `feature_pair` to create `feature_pair_sorted`,\n",
    "\\begin{align}\n",
    "&c'_1 d'_1  ~~~ c'_1 \\\\\n",
    "&c'_2 d'_2  ~~~ c'_2 \\\\\n",
    "&c'_3 d'_3  ~~~ c'_3 \\\\\n",
    "&\\vdots ~~~~~~~~ \\vdots \n",
    "\\end{align}\n",
    "3. Compare $a'_i b'_i$ with $c'_j d'_j$. If the same, compare $a'_i $ with $c'_j$. If the same, label $a'_i b'_i$ with 1, else 0.   "
   ]
  },
  {
   "cell_type": "code",
   "execution_count": 59,
   "id": "6a51f2dd-23bf-4963-8f16-8442074e264c",
   "metadata": {
    "tags": []
   },
   "outputs": [],
   "source": [
    "import random\n",
    "import string\n",
    "import time\n",
    "import numpy as np\n",
    "# Function to generate a random string of 'max_length' characters\n",
    "def generate_random_string(max_length=6):\n",
    "    length = random.randint(2, max_length)\n",
    "    return ''.join(random.choices(string.ascii_lowercase, k=length))\n",
    "\n",
    "# Function to generate a list of 'n' random strings\n",
    "def generate_random_string_list(n, max_length=6):\n",
    "    return [generate_random_string(max_length) for _ in range(n)]"
   ]
  },
  {
   "cell_type": "code",
   "execution_count": 60,
   "id": "075787d0-fd56-4292-bb33-9536c6ff2b3c",
   "metadata": {
    "tags": []
   },
   "outputs": [],
   "source": [
    "n = 1000\n",
    "m = 1000\n",
    "l = 100\n",
    "a = generate_random_string_list(n,2)\n",
    "b = generate_random_string_list(m,2)\n",
    "c = generate_random_string_list(l,2)\n",
    "d = generate_random_string_list(l,2)\n",
    "\n",
    "gene_pair = []\n",
    "for i in range(n):\n",
    "    for j in range(m):\n",
    "        gene_pair.append([a[i]+b[j],a[i],np.random.rand()]) # using list\n",
    "        \n",
    "feature_pair = []\n",
    "for i in range(l):\n",
    "    feature_pair.append([c[i]+d[i],c[i]])\n",
    "    \n",
    "###\n",
    "\n",
    "    "
   ]
  },
  {
   "cell_type": "code",
   "execution_count": 61,
   "id": "731f2853-1c73-444f-a4ba-e85252aed35e",
   "metadata": {
    "tags": []
   },
   "outputs": [],
   "source": [
    "from operator import itemgetter\n",
    "gene_pair_sorted = sorted(gene_pair, key=itemgetter(0)) ## sort by which column\n",
    "feature_pair_sorted = sorted(feature_pair, key=itemgetter(0)) ## sort by which column"
   ]
  },
  {
   "cell_type": "code",
   "execution_count": 62,
   "id": "95e5dcef-fffb-4d4b-8f6f-8a147d6cc95f",
   "metadata": {
    "tags": []
   },
   "outputs": [],
   "source": [
    "# list1 is gene_pair_sorted, list2 is feature_pair_sorted\n",
    "#\n",
    "\n",
    "def compare_sorted_tuple_lists(list1, list2): \n",
    "    i, j = 0, 0\n",
    "    result = []\n",
    "\n",
    "    while i < len(list1) and j < len(list2):\n",
    "        if list1[i][0] == list2[j][0]:\n",
    "            result.append(1)  # String exists in both lists\n",
    "            list1[i].append(1)\n",
    "            i += 1\n",
    "            j += 1\n",
    "        elif list1[i][0] < list2[j][0]:\n",
    "            result.append(0)\n",
    "            list1[i].append(0)\n",
    "            i += 1\n",
    "        else:\n",
    "            result.append(0)\n",
    "            list1[i].append(0)\n",
    "            j += 1\n",
    "\n",
    "    # If any list is exhausted, mark the remaining elements as not found\n",
    "    while i < len(list1):\n",
    "        result.append(0)\n",
    "        list1[i].append(0)\n",
    "        i += 1\n",
    "\n",
    "    return result\n",
    "\n",
    "def count_ones(lst):\n",
    "    ones_count = 0\n",
    "    for item in lst:\n",
    "        if item == 1:\n",
    "            ones_count += 1\n",
    "    return ones_count"
   ]
  },
  {
   "cell_type": "code",
   "execution_count": 63,
   "id": "e1a8f444-0bdb-49a4-b4da-aacd817050c9",
   "metadata": {
    "tags": []
   },
   "outputs": [],
   "source": [
    "test = compare_sorted_tuple_lists(gene_pair_sorted, feature_pair_sorted)\n",
    "n_ones =count_ones(test)\n",
    "expe_n_ones = (1-(1-1/26/26)**m) * (1-(1-1/26/26)**n) * l"
   ]
  },
  {
   "cell_type": "code",
   "execution_count": 64,
   "id": "a8e50783-8153-4fa4-a3d2-ca11ed45a71e",
   "metadata": {
    "tags": []
   },
   "outputs": [
    {
     "name": "stdout",
     "output_type": "stream",
     "text": [
      "61\n",
      "59.66789623942363\n"
     ]
    }
   ],
   "source": [
    "print(n_ones,end='\\n')\n",
    "print(expe_n_ones,end='\\n')"
   ]
  },
  {
   "cell_type": "code",
   "execution_count": 73,
   "id": "b08a2be7-cef7-498f-8ca3-0aeb5e6ec7dd",
   "metadata": {
    "tags": []
   },
   "outputs": [
    {
     "data": {
      "text/plain": [
       "[['aaac', 'aa', 0.1780737247960692, 0],\n",
       " ['aaad', 'aa', 0.7824382525403691, 0],\n",
       " ['aaae', 'aa', 0.3417914304198547, 0],\n",
       " ['aaae', 'aa', 0.0069615199309635, 0]]"
      ]
     },
     "execution_count": 73,
     "metadata": {},
     "output_type": "execute_result"
    }
   ],
   "source": [
    "gene_pair_sorted[1:5]"
   ]
  },
  {
   "cell_type": "code",
   "execution_count": 79,
   "id": "751cccc2-1b9d-4a5e-8dda-11403887a207",
   "metadata": {
    "tags": []
   },
   "outputs": [],
   "source": [
    "yes_no_column = [row[3] for row in gene_pair_sorted]"
   ]
  },
  {
   "cell_type": "code",
   "execution_count": 81,
   "id": "59863fe4-9154-45bf-b3e4-4c9c00629dc8",
   "metadata": {
    "tags": []
   },
   "outputs": [
    {
     "data": {
      "text/plain": [
       "6379"
      ]
     },
     "execution_count": 81,
     "metadata": {},
     "output_type": "execute_result"
    }
   ],
   "source": [
    "yes_no_column.index(1)"
   ]
  },
  {
   "cell_type": "code",
   "execution_count": 91,
   "id": "631110a3-9657-43ac-8fc9-b9250ab5d324",
   "metadata": {
    "tags": []
   },
   "outputs": [],
   "source": [
    "indices = [i for i, x in enumerate(yes_no_column) if x == 1]"
   ]
  },
  {
   "cell_type": "code",
   "execution_count": 100,
   "id": "6b2670cc-1d35-4816-bdc6-6c1740125324",
   "metadata": {
    "tags": []
   },
   "outputs": [
    {
     "name": "stdout",
     "output_type": "stream",
     "text": [
      "6379 ['acuq', 'ac', 0.33571295626967756, 1]\n",
      "36236 ['axdc', 'ax', 0.5275113411826904, 1]\n",
      "54821 ['bmvl', 'bm', 0.5970314064647441, 1]\n",
      "95760 ['cujz', 'cu', 0.9500523223386794, 1]\n",
      "108570 ['ddfa', 'dd', 0.8321777197755661, 1]\n",
      "115714 ['djwi', 'dj', 0.7872436141402266, 1]\n",
      "115922 ['djza', 'dj', 0.6560156869712689, 1]\n",
      "128576 ['dwfc', 'dw', 0.31582011955977063, 1]\n",
      "168952 ['evyu', 'ev', 0.10694892966815928, 1]\n",
      "203268 ['fxgz', 'fx', 0.3546345698965675, 1]\n",
      "214456 ['gggb', 'gg', 0.8981131249478187, 1]\n",
      "222808 ['glxj', 'gl', 0.8190836818762561, 1]\n",
      "226614 ['goqc', 'go', 0.4637200945782244, 1]\n",
      "228383 ['gpmj', 'gp', 0.5530056088564907, 1]\n",
      "264709 ['hqsl', 'hq', 0.15081292077728303, 1]\n",
      "269306 ['hvef', 'hv', 0.3520941195616737, 1]\n",
      "275033 ['hyat', 'hy', 0.3808912341969214, 1]\n",
      "284456 ['igmf', 'ig', 0.03747600368330506, 1]\n",
      "290683 ['ikrs', 'ik', 0.91631444582021, 1]\n",
      "300869 ['ivwp', 'iv', 0.1221202138016173, 1]\n",
      "301522 ['iwes', 'iw', 0.5820804053924716, 1]\n",
      "303679 ['iwxe', 'iw', 0.7644747266980029, 1]\n",
      "340344 ['jrpl', 'jr', 0.4820513940452811, 1]\n",
      "344002 ['jtem', 'jt', 0.292050111205269, 1]\n",
      "379032 ['kngs', 'kn', 0.9411302925780571, 1]\n",
      "418498 ['lnnk', 'ln', 0.1967789544442563, 1]\n",
      "423290 ['lpqw', 'lp', 0.7133108125685761, 1]\n",
      "432790 ['lwkj', 'lw', 0.049333979380990156, 1]\n",
      "442458 ['mfgc', 'mf', 0.4526785317308022, 1]\n",
      "464400 ['mwko', 'mw', 0.2908599224810168, 1]\n",
      "506486 ['ntnb', 'nt', 0.018497640634253187, 1]\n",
      "543118 ['oubs', 'ou', 0.9536700377092704, 1]\n",
      "544426 ['ousm', 'ou', 0.9530188720121144, 1]\n",
      "551178 ['oxsw', 'ox', 0.8224476377963337, 1]\n",
      "570602 ['ploh', 'pl', 0.1581290322948291, 1]\n",
      "574335 ['pnip', 'pn', 0.9855836919852426, 1]\n",
      "582047 ['puja', 'pu', 0.1450901414821948, 1]\n",
      "597732 ['qdwo', 'qd', 0.03547994967393697, 1]\n",
      "667428 ['rrlj', 'rr', 0.3876424809955912, 1]\n",
      "718655 ['sura', 'su', 0.3539038005221602, 1]\n",
      "747814 ['tpvg', 'tp', 0.17284880181718443, 1]\n",
      "753461 ['ttmj', 'tt', 0.3897321212386823, 1]\n",
      "768290 ['uell', 'ue', 0.38083752757675016, 1]\n",
      "780562 ['uiwf', 'ui', 0.9544677483613716, 1]\n",
      "792650 ['utvn', 'ut', 0.33395826001121054, 1]\n",
      "796773 ['uvug', 'uv', 0.38164338875883286, 1]\n",
      "798245 ['uxgn', 'ux', 0.3102368037768102, 1]\n",
      "824900 ['vmys', 'vm', 0.531685669688798, 1]\n",
      "825182 ['vneu', 'vn', 0.5878206320319946, 1]\n",
      "836472 ['vvdc', 'vv', 0.6541354614817885, 1]\n",
      "841215 ['vwku', 'vw', 0.7912714863399256, 1]\n",
      "866308 ['wreg', 'wr', 0.9901841650154701, 1]\n",
      "875005 ['wzaf', 'wz', 0.6615643628390641, 1]\n",
      "885401 ['xgkq', 'xg', 0.8409814357288369, 1]\n",
      "892430 ['xnll', 'xn', 0.16197117084552992, 1]\n",
      "919008 ['yaai', 'ya', 0.9915287632759915, 1]\n",
      "957062 ['yxbu', 'yx', 0.7317086631026548, 1]\n",
      "963820 ['zcvk', 'zc', 0.26761457790058607, 1]\n",
      "965190 ['zdpp', 'zd', 0.39748175130964136, 1]\n",
      "974846 ['zjwb', 'zj', 0.7069568498082077, 1]\n",
      "999028 ['zxnq', 'zx', 0.9867037589628449, 1]\n"
     ]
    }
   ],
   "source": [
    "for i in indices:\n",
    "    print(i, gene_pair_sorted[i],end='\\n')"
   ]
  }
 ],
 "metadata": {
  "kernelspec": {
   "display_name": "Python 3 (ipykernel)",
   "language": "python",
   "name": "python3"
  },
  "language_info": {
   "codemirror_mode": {
    "name": "ipython",
    "version": 3
   },
   "file_extension": ".py",
   "mimetype": "text/x-python",
   "name": "python",
   "nbconvert_exporter": "python",
   "pygments_lexer": "ipython3",
   "version": "3.8.8"
  }
 },
 "nbformat": 4,
 "nbformat_minor": 5
}
