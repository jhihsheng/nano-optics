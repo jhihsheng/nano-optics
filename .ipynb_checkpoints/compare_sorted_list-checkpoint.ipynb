{
 "cells": [
  {
   "cell_type": "code",
   "execution_count": 28,
   "id": "63dceb48-4523-4a64-812e-53bb57092bb1",
   "metadata": {
    "tags": []
   },
   "outputs": [],
   "source": [
    "import random\n",
    "import string\n",
    "import time\n",
    "import numpy as np\n",
    "# Function to generate a random string of 'max_length' characters\n",
    "def generate_random_string(max_length=6):\n",
    "    length = random.randint(2, max_length)\n",
    "    return ''.join(random.choices(string.ascii_lowercase, k=length))\n",
    "\n",
    "# Function to generate a list of 'n' random strings\n",
    "def generate_random_string_list(n, max_length=6):\n",
    "    return [generate_random_string(max_length) for _ in range(n)]"
   ]
  },
  {
   "cell_type": "code",
   "execution_count": 9,
   "id": "657f2517-1338-4d69-a027-fcb73a2f1f9a",
   "metadata": {
    "tags": []
   },
   "outputs": [
    {
     "name": "stdout",
     "output_type": "stream",
     "text": [
      "Elapsed time: 5.448914 seconds\n"
     ]
    }
   ],
   "source": [
    "\n",
    "\n",
    "start_time = time.time()\n",
    "# Generate a list of 10^6 random strings\n",
    "random_strings_1 = generate_random_string_list(10**6, 6)\n",
    "random_strings_2 = generate_random_string_list(10**6, 6)\n",
    "end_time = time.time()\n",
    "elapsed_time = end_time - start_time\n",
    "print(f\"Elapsed time: {elapsed_time:.6f} seconds\")"
   ]
  },
  {
   "cell_type": "code",
   "execution_count": 10,
   "id": "52453d74-fc4b-499a-ae96-c4b1a3305e04",
   "metadata": {
    "tags": []
   },
   "outputs": [
    {
     "name": "stdout",
     "output_type": "stream",
     "text": [
      "Elapsed time: 1.027224 seconds\n"
     ]
    }
   ],
   "source": [
    "\n",
    "\n",
    "start_time = time.time()\n",
    "\n",
    "# Sort the list using quicksort\n",
    "sorted_strings_1 = sorted(random_strings_1)\n",
    "sorted_strings_2 = sorted(random_strings_2)\n",
    "\n",
    "end_time = time.time()\n",
    "elapsed_time = end_time - start_time\n",
    "print(f\"Elapsed time: {elapsed_time:.6f} seconds\")\n",
    "\n"
   ]
  },
  {
   "cell_type": "code",
   "execution_count": 11,
   "id": "44c9e0bc-e12a-4e4a-9f1c-0c0e6040d0e4",
   "metadata": {
    "tags": []
   },
   "outputs": [
    {
     "name": "stdout",
     "output_type": "stream",
     "text": [
      "['fevup', 'fevuzz', 'fevv', 'fevvgc', 'fevvk', 'fevvs', 'fevvu', 'fevwcs', 'fevwkp', 'fevx']\n"
     ]
    }
   ],
   "source": [
    "# Print the first 10 sorted strings as a sample\n",
    "print(sorted_strings_1[200000:200010])"
   ]
  },
  {
   "cell_type": "code",
   "execution_count": 12,
   "id": "a12f49f4-9cba-4353-b7c5-59cd8a8bfba0",
   "metadata": {
    "tags": []
   },
   "outputs": [],
   "source": [
    "def compare_sorted_lists(list1, list2):\n",
    "    i, j = 0, 0\n",
    "    result = []\n",
    "\n",
    "    while i < len(list1) and j < len(list2):\n",
    "        if list1[i] == list2[j]:\n",
    "            result.append(1)  # String exists in both lists\n",
    "            i += 1\n",
    "            j += 1\n",
    "        elif list1[i] < list2[j]:\n",
    "            result.append(0)\n",
    "            i += 1\n",
    "        else:\n",
    "            result.append(0)\n",
    "            j += 1\n",
    "\n",
    "    # If any list is exhausted, mark the remaining elements as not found\n",
    "    while i < len(list1):\n",
    "        result.append(0)\n",
    "        i += 1\n",
    "    while j < len(list2):\n",
    "        result.append(0)\n",
    "        j += 1\n",
    "\n",
    "    return result\n",
    "\n",
    "# Example usage\n",
    "list1 = [\"hello\"]\n",
    "list2 = [\"banana\", \"date\", \"figs\", \"grape\",\"hello\"]\n",
    "\n",
    "# Compare the sorted lists\n",
    "comparison_result = compare_sorted_lists(sorted_strings_1, sorted_strings_2)\n",
    "\n",
    "#print(comparison_result)\n"
   ]
  },
  {
   "cell_type": "code",
   "execution_count": 13,
   "id": "9b0f8f2d-3785-498d-ab97-24844c989fcc",
   "metadata": {
    "tags": []
   },
   "outputs": [
    {
     "data": {
      "text/plain": [
       "145009"
      ]
     },
     "execution_count": 13,
     "metadata": {},
     "output_type": "execute_result"
    }
   ],
   "source": [
    "def count_ones(lst):\n",
    "    ones_count = 0\n",
    "    for item in lst:\n",
    "        if item == 1:\n",
    "            ones_count += 1\n",
    "    return ones_count\n",
    "count_ones(comparison_result)"
   ]
  },
  {
   "cell_type": "markdown",
   "id": "c8adacf9-b904-4042-90dc-23536bdd750a",
   "metadata": {},
   "source": [
    "# Gene comparison\n",
    "\n",
    "Task description: $\\mathbf{a} = [a_1,a_2,a_3,..., a_n]$ and $\\mathbf{b} = [b_1,b_2,b_3,..., b_m]$ are two list of genes. $a_i$'s are distinct genes, so are $b_i$'s.\n",
    "The Pearson correlations between every pair $a_i b_j$ are computed. The data is stored at the file `gene_pair` in the format\n",
    "\\begin{align}\n",
    "&a_1 ~~~ b_1 ~~~ 0.2\\\\\n",
    "&a_1 ~~~ b_2 ~~~ 0.3\\\\\n",
    "&a_1 ~~~ b_3 ~~~ 0.6\\\\\n",
    "&\\vdots ~~~~~ \\vdots ~~~~~ \\vdots\n",
    "\\end{align}\n",
    "`gene_pair` has $nm$ rows and 3 colmunes. Now, we have a feature pair list `feature_pair` in the format,\n",
    "\\begin{align}\n",
    "& c_1 ~~~ d_1 \\\\\n",
    "& c_2 ~~~ d_2 \\\\\n",
    "& c_3 ~~~ d_3 \\\\\n",
    "&\\vdots ~~~~~ \\vdots \n",
    "\\end{align}\n",
    "`feature_pair` has $l$ rows and 2 columns.\n",
    "\n",
    "Algorithm: \n",
    "\n",
    "1. Sort `gene_pair` by $a_i$ and create the file `gene_pair_sorted` with the format,\n",
    "\\begin{align}\n",
    "&a'_1 b'_1  ~~~ a'_1 ~~~ 0.4\\\\\n",
    "&a'_2 b'_2  ~~~ a'_2 ~~~ 0.2\\\\\n",
    "&a'_3 b'_3  ~~~ a'_3 ~~~ 0.3\\\\\n",
    "&\\vdots ~~~~~~~~ \\vdots ~~~~~~~ \\vdots\n",
    "\\end{align}\n",
    "where $a'_i$ is sorted, and $b'_i$ is the original pair of $a'_i$. In this form, $a'_i$ and $b'_i$ can repeat.\n",
    "2. Do the same as above on `feature_pair` to create `feature_pair_sorted`,\n",
    "\\begin{align}\n",
    "&c'_1 d'_1  ~~~ c'_1 \\\\\n",
    "&c'_2 d'_2  ~~~ c'_2 \\\\\n",
    "&c'_3 d'_3  ~~~ c'_3 \\\\\n",
    "&\\vdots ~~~~~~~~ \\vdots \n",
    "\\end{align}\n",
    "3. Compare $a'_i b'_i$ with $c'_j d'_j$. If the same, compare $a'_i $ with $c'_j$. If the same, label $a'_i b'_i$ with 1, else 0.   "
   ]
  },
  {
   "cell_type": "code",
   "execution_count": 100,
   "id": "075787d0-fd56-4292-bb33-9536c6ff2b3c",
   "metadata": {
    "tags": []
   },
   "outputs": [],
   "source": [
    "n = 1000\n",
    "m = 5000\n",
    "l = 100\n",
    "a = generate_random_string_list(n,2)\n",
    "b = generate_random_string_list(m,2)\n",
    "c = generate_random_string_list(l,2)\n",
    "d = generate_random_string_list(l,2)\n",
    "\n",
    "gene_pair = []\n",
    "for i in range(n):\n",
    "    for j in range(m):\n",
    "        gene_pair.append((a[i]+b[j],a[i],np.random.rand())) # using tuple\n",
    "        \n",
    "feature_pair = []\n",
    "for i in range(l):\n",
    "    feature_pair.append((c[i]+d[i],c[i]))\n",
    "    \n",
    "###\n",
    "\n",
    "    "
   ]
  },
  {
   "cell_type": "code",
   "execution_count": 101,
   "id": "731f2853-1c73-444f-a4ba-e85252aed35e",
   "metadata": {
    "tags": []
   },
   "outputs": [],
   "source": [
    "from operator import itemgetter\n",
    "gene_pair_sorted = sorted(gene_pair, key=itemgetter(0)) ## sort by which column\n",
    "feature_pair_sorted = sorted(feature_pair, key=itemgetter(0)) ## sort by which column"
   ]
  },
  {
   "cell_type": "code",
   "execution_count": 102,
   "id": "95e5dcef-fffb-4d4b-8f6f-8a147d6cc95f",
   "metadata": {
    "tags": []
   },
   "outputs": [],
   "source": [
    "# list1 is gene_pair_sorted, list2 is feature_pair_sorted\n",
    "#\n",
    "\n",
    "def compare_sorted_tuple_lists(list1, list2): \n",
    "    i, j = 0, 0\n",
    "    result = []\n",
    "\n",
    "    while i < len(list1) and j < len(list2):\n",
    "        if list1[i][0] == list2[j][0]:\n",
    "            result.append(1)  # String exists in both lists\n",
    "            i += 1\n",
    "            j += 1\n",
    "        elif list1[i][0] < list2[j][0]:\n",
    "            result.append(0)\n",
    "            i += 1\n",
    "        else:\n",
    "            result.append(0)\n",
    "            j += 1\n",
    "\n",
    "    # If any list is exhausted, mark the remaining elements as not found\n",
    "    while i < len(list1):\n",
    "        result.append(0)\n",
    "        i += 1\n",
    "\n",
    "    return result\n",
    "\n",
    "test = compare_sorted_tuple_lists(gene_pair_sorted, feature_pair_sorted)"
   ]
  },
  {
   "cell_type": "code",
   "execution_count": 103,
   "id": "8e337610-affb-4e15-b475-66cd72c45292",
   "metadata": {
    "tags": []
   },
   "outputs": [
    {
     "data": {
      "text/plain": [
       "79"
      ]
     },
     "execution_count": 103,
     "metadata": {},
     "output_type": "execute_result"
    }
   ],
   "source": [
    "count_ones(test)"
   ]
  },
  {
   "cell_type": "code",
   "execution_count": 104,
   "id": "72fb8cbb-2673-4edd-8203-24468f4d0c37",
   "metadata": {
    "tags": []
   },
   "outputs": [
    {
     "data": {
      "text/plain": [
       "77.19787202999473"
      ]
     },
     "execution_count": 104,
     "metadata": {},
     "output_type": "execute_result"
    }
   ],
   "source": [
    "(1-(1-1/26/26)**m) * (1-(1-1/26/26)**n) * l"
   ]
  },
  {
   "cell_type": "code",
   "execution_count": null,
   "id": "95064893-ad9f-4613-b244-cdad1fe25056",
   "metadata": {},
   "outputs": [],
   "source": []
  }
 ],
 "metadata": {
  "kernelspec": {
   "display_name": "Python 3 (ipykernel)",
   "language": "python",
   "name": "python3"
  },
  "language_info": {
   "codemirror_mode": {
    "name": "ipython",
    "version": 3
   },
   "file_extension": ".py",
   "mimetype": "text/x-python",
   "name": "python",
   "nbconvert_exporter": "python",
   "pygments_lexer": "ipython3",
   "version": "3.8.8"
  }
 },
 "nbformat": 4,
 "nbformat_minor": 5
}
