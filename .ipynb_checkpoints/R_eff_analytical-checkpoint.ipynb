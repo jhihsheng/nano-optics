{
 "cells": [
  {
   "cell_type": "markdown",
   "id": "8ee50c03-f8bd-409a-9f5a-127735ea45c7",
   "metadata": {},
   "source": [
    "$$\\begin{align}\n",
    "M(m,n,\\theta) = \\frac{2\\theta}{\\pi}\\left[\\mathrm{sinc}(m-n)\\theta-\\mathrm{sinc}(m+n)\\theta\\right],\n",
    "\\end{align}$$\n",
    "where $m,~n~\\in$  odd integer. $0\\leq\\theta\\leq\\pi/2$"
   ]
  },
  {
   "cell_type": "code",
   "execution_count": 39,
   "id": "d08f6f81-40e2-4f0d-b85c-d714fa8fa8c2",
   "metadata": {
    "tags": []
   },
   "outputs": [],
   "source": [
    "import numpy as np\n",
    "from numpy import linalg as LA\n",
    "\n",
    "def mysinc(x):\n",
    "    return np.sinc(x/np.pi)\n",
    "def mat(m,n,theta):\n",
    "    return 2 * theta / np.pi * ( mysinc((m-n)*theta) - mysinc((m+n)*theta))"
   ]
  },
  {
   "cell_type": "code",
   "execution_count": 164,
   "id": "6787b1f5-7732-41b2-aa86-4343ec71872c",
   "metadata": {
    "tags": []
   },
   "outputs": [],
   "source": [
    "Nb = 20 # number of basis\n",
    "m_list = np.arange(1, 2 * Nb +1, 2)\n",
    "theta = 0.6 * np.pi/2\n",
    "m0 = np.zeros((Nb,Nb))\n",
    "m1 = np.zeros((Nb,Nb))\n",
    "mk = np.diag(m_list / Nb /2 * np.tanh(m_list))\n",
    "for i1 in range(Nb):\n",
    "    m = 1 + 2 * i1\n",
    "    for i2 in range(Nb):\n",
    "        n = 1 + 2 * i2\n",
    "        m0[i1,i2] = mat(m,n,theta)\n",
    "        m1[i1,i2] = mat(m,n,np.pi/2) - mat(m,n,theta)\n",
    "m0 = (m0 + np.transpose(m0)) / 2 # forced to be sym matrix\n",
    "m1 = (m1 + np.transpose(m1)) / 2 # forced to be sym matrix\n",
    "\n"
   ]
  },
  {
   "cell_type": "code",
   "execution_count": 165,
   "id": "798bd4f6-6ffe-45ce-ac09-4e91461f05d8",
   "metadata": {
    "tags": []
   },
   "outputs": [],
   "source": [
    "m0va, m0vc = LA.eigh(m0)\n",
    "m1va, m1vc = LA.eigh(m1)"
   ]
  },
  {
   "cell_type": "code",
   "execution_count": 166,
   "id": "5d954862-64f0-4ce5-9c4c-9ce7082e039b",
   "metadata": {
    "tags": []
   },
   "outputs": [],
   "source": [
    "eiv, eivc = LA.eigh(m0 + 0.5 * m1 )"
   ]
  },
  {
   "cell_type": "code",
   "execution_count": 167,
   "id": "e530187e-61b7-4e7e-90fc-a42c5261d230",
   "metadata": {
    "tags": []
   },
   "outputs": [
    {
     "data": {
      "text/plain": [
       "1.4172371945716384e-06"
      ]
     },
     "execution_count": 167,
     "metadata": {},
     "output_type": "execute_result"
    }
   ],
   "source": [
    "LA.det(m0 + mk * m1 )"
   ]
  },
  {
   "cell_type": "code",
   "execution_count": 175,
   "id": "0d0418b1-1350-4520-a243-ca99ed6a9e19",
   "metadata": {
    "tags": []
   },
   "outputs": [
    {
     "ename": "AttributeError",
     "evalue": "module 'numpy' has no attribute 'rank'",
     "output_type": "error",
     "traceback": [
      "\u001b[0;31m---------------------------------------------------------------------------\u001b[0m",
      "\u001b[0;31mAttributeError\u001b[0m                            Traceback (most recent call last)",
      "\u001b[0;32m/tmp/ipykernel_465/2192985784.py\u001b[0m in \u001b[0;36m<module>\u001b[0;34m\u001b[0m\n\u001b[0;32m----> 1\u001b[0;31m \u001b[0mnp\u001b[0m\u001b[0;34m.\u001b[0m\u001b[0mrank\u001b[0m\u001b[0;34m(\u001b[0m\u001b[0mmk\u001b[0m\u001b[0;34m)\u001b[0m\u001b[0;34m\u001b[0m\u001b[0;34m\u001b[0m\u001b[0m\n\u001b[0m",
      "\u001b[0;32m~/anaconda/lib/python3.8/site-packages/numpy/__init__.py\u001b[0m in \u001b[0;36m__getattr__\u001b[0;34m(attr)\u001b[0m\n\u001b[1;32m    212\u001b[0m                 \u001b[0;32mreturn\u001b[0m \u001b[0mTester\u001b[0m\u001b[0;34m\u001b[0m\u001b[0;34m\u001b[0m\u001b[0m\n\u001b[1;32m    213\u001b[0m             \u001b[0;32melse\u001b[0m\u001b[0;34m:\u001b[0m\u001b[0;34m\u001b[0m\u001b[0;34m\u001b[0m\u001b[0m\n\u001b[0;32m--> 214\u001b[0;31m                 raise AttributeError(\"module {!r} has no attribute \"\n\u001b[0m\u001b[1;32m    215\u001b[0m                                      \"{!r}\".format(__name__, attr))\n\u001b[1;32m    216\u001b[0m \u001b[0;34m\u001b[0m\u001b[0m\n",
      "\u001b[0;31mAttributeError\u001b[0m: module 'numpy' has no attribute 'rank'"
     ]
    }
   ],
   "source": [
    "np.diag(mk)"
   ]
  },
  {
   "cell_type": "code",
   "execution_count": null,
   "id": "4dd60e2b-afb2-471e-b994-9a83d2648b8a",
   "metadata": {},
   "outputs": [],
   "source": []
  }
 ],
 "metadata": {
  "kernelspec": {
   "display_name": "Python 3 (ipykernel)",
   "language": "python",
   "name": "python3"
  },
  "language_info": {
   "codemirror_mode": {
    "name": "ipython",
    "version": 3
   },
   "file_extension": ".py",
   "mimetype": "text/x-python",
   "name": "python",
   "nbconvert_exporter": "python",
   "pygments_lexer": "ipython3",
   "version": "3.8.8"
  }
 },
 "nbformat": 4,
 "nbformat_minor": 5
}
