{
 "cells": [
  {
   "cell_type": "markdown",
   "id": "f4d2d311-7103-49bc-a8cc-d9640e7e400f",
   "metadata": {},
   "source": [
    "# Gene comparison\n",
    "\n",
    "Task description: $\\mathbf{a} = [a_1,a_2,a_3,..., a_n]$ and $\\mathbf{b} = [b_1,b_2,b_3,..., b_m]$ are two list of genes. $a_i$'s are distinct genes, so are $b_i$'s.\n",
    "The Pearson correlations between every pair $a_i b_j$ are computed. Note that $a_i$'s and $b_i$'s might not be sorted.\n",
    "The data is stored at the file `gene_pair` in the format\n",
    "\\begin{align}\n",
    "&a_1 ~~~ b_1 ~~~ 0.2\\\\\n",
    "&a_1 ~~~ b_2 ~~~ 0.3\\\\\n",
    "&a_1 ~~~ b_3 ~~~ 0.6\\\\\n",
    "&\\vdots ~~~~~ \\vdots ~~~~~ \\vdots\n",
    "\\end{align}\n",
    "`gene_pair` has $nm$ rows and 3 columnes. Now, we have a feature pair list `feature_pair` in the format,\n",
    "\\begin{align}\n",
    "& c_1 ~~~ d_1 \\\\\n",
    "& c_2 ~~~ d_2 \\\\\n",
    "& c_3 ~~~ d_3 \\\\\n",
    "&\\vdots ~~~~~ \\vdots \n",
    "\\end{align}\n",
    "`feature_pair` has $l$ rows and 2 columns. \n",
    "\n",
    "We want to compare the gene pairs $ab$ with $cd$. If they are the same, we label it with $1$. That is, we want to find all the pairs appearing in both the lists.\n",
    "To begin comparison, we need to sort the data so that the comparison process has a linear complexcity $O(N)$. The code is\n",
    "```\n",
    "sorted(gene_pair, key=itemgetter(0,1))\n",
    "```\n",
    "\n",
    "\n",
    "\n",
    "Algorithm: \n",
    "\n",
    "1. Sort `gene_pair` by $a_i$ first. If the sorted $a'_i$ have the degenerate elements, $a'_j=a'_{j+1}=...$, sort these elements by $b_i$. For example, $a_i$'s are the ages, and $b_i'$ are the heights. Then, the order is first determined by the ages. If ages are the same, the order among the same ages is determined by height. \n",
    "The sorted file `gene_pair_sorted` has the format,\n",
    "\\begin{align}\n",
    "&a'_1  ~~~ b'_1 ~~~ 0.4\\\\\n",
    "&a'_1  ~~~ b'_2 ~~~ 0.2\\\\\n",
    "&a'_2  ~~~ b'_3 ~~~ 0.3\\\\\n",
    "&a'_2  ~~~ b'_4 ~~~ 0.6\\\\\n",
    "&\\vdots ~~~~~~~~ \\vdots ~~~~~~~ \\vdots\n",
    "\\end{align}\n",
    "where $a'_i$ is sorted, and $b'_i<b'_j$ if $i<j$ when $b'_i$ and\n",
    "$b'_j$ are of the same $a'_i$.  \n",
    "2. Do the same as above on `feature_pair` to create `feature_pair_sorted`,\n",
    "\\begin{align}\n",
    "&c'_1   ~~~ d'_1 \\\\\n",
    "&c'_2   ~~~ d'_2 \\\\\n",
    "&c'_3   ~~~ d'_3 \\\\\n",
    "&\\vdots ~~~~~~~~ \\vdots \n",
    "\\end{align}\n",
    "3. Compare $a'_i $ with $c'_j $. If the same, compare $b'_i $ with $d'_j$. If the same, label $a'_i b'_i$ with 1, else 0.   "
   ]
  },
  {
   "cell_type": "code",
   "execution_count": 210,
   "id": "6a51f2dd-23bf-4963-8f16-8442074e264c",
   "metadata": {
    "tags": []
   },
   "outputs": [],
   "source": [
    "import random\n",
    "import string\n",
    "import time\n",
    "import numpy as np\n",
    "# Function to generate a random string of 'max_length' characters\n",
    "def generate_random_string(max_length=6):\n",
    "    length = random.randint(2, max_length)\n",
    "    return ''.join(random.choices(string.ascii_lowercase, k=length))\n",
    "\n",
    "# Function to generate a list of 'n' random strings\n",
    "def generate_random_string_list(n, max_length=6):\n",
    "    return [generate_random_string(max_length) for _ in range(n)]"
   ]
  },
  {
   "cell_type": "code",
   "execution_count": 232,
   "id": "075787d0-fd56-4292-bb33-9536c6ff2b3c",
   "metadata": {
    "tags": []
   },
   "outputs": [],
   "source": [
    "n = 1000\n",
    "m = 1000\n",
    "l = 100\n",
    "a = generate_random_string_list(n,2)\n",
    "b = generate_random_string_list(m,2)\n",
    "c = generate_random_string_list(l,2)\n",
    "d = generate_random_string_list(l,2)\n",
    "\n",
    "gene_pair = []\n",
    "for i in range(n):\n",
    "    for j in range(m):\n",
    "        gene_pair.append([a[i],b[j],np.random.rand()]) # using list\n",
    "        \n",
    "feature_pair = []\n",
    "for i in range(l):\n",
    "    feature_pair.append([c[i],d[i]])\n",
    "    \n",
    "###\n",
    "\n",
    "    "
   ]
  },
  {
   "cell_type": "code",
   "execution_count": 233,
   "id": "731f2853-1c73-444f-a4ba-e85252aed35e",
   "metadata": {
    "tags": []
   },
   "outputs": [],
   "source": [
    "from operator import itemgetter\n",
    "gene_pair_sorted = sorted(gene_pair, key=itemgetter(0,1)) ## sort by which column\n",
    "feature_pair_sorted = sorted(feature_pair, key=itemgetter(0,1)) ## sort by which column"
   ]
  },
  {
   "cell_type": "code",
   "execution_count": 234,
   "id": "95e5dcef-fffb-4d4b-8f6f-8a147d6cc95f",
   "metadata": {
    "tags": []
   },
   "outputs": [],
   "source": [
    "# list1 is gene_pair_sorted, list2 is feature_pair_sorted\n",
    "#\n",
    "\n",
    "def compare_sorted_tuple_lists(list1, list2): \n",
    "    i, j = 0, 0\n",
    "    list1_TF = []\n",
    "    list2_TF = []\n",
    "\n",
    "    while i < len(list1) and j < len(list2):\n",
    "        if list1[i][0] == list2[j][0]:\n",
    "            if list1[i][1] == list2[j][1]: ## inner if is for comparing b_i and d_j when a_i = c_j\n",
    "                list1_TF.append(1) \n",
    "                list2_TF.append(1)\n",
    "                list1[i].append(1)              \n",
    "                i += 1\n",
    "                j += 1\n",
    "            elif list1[i][1] < list2[j][1]:\n",
    "                list1_TF.append(0)                 \n",
    "                list1[i].append(0)\n",
    "                i += 1\n",
    "            else:   \n",
    "                list2_TF.append(0)\n",
    "                j += 1           \n",
    "        elif list1[i][0] < list2[j][0]:\n",
    "            list1_TF.append(0)\n",
    "            list1[i].append(0)\n",
    "            i += 1\n",
    "        else:\n",
    "            list2_TF.append(0)\n",
    "            j += 1\n",
    "\n",
    "    # If any list is exhausted, mark the remaining elements as not found\n",
    "    while i < len(list1):\n",
    "        list1_TF.append(0)\n",
    "        list1[i].append(0)\n",
    "        i += 1\n",
    "\n",
    "    return list1_TF, list2_TF\n",
    "\n",
    "def count_ones(lst):\n",
    "    ones_count = 0\n",
    "    for item in lst:\n",
    "        if item == 1:\n",
    "            ones_count += 1\n",
    "    return ones_count"
   ]
  },
  {
   "cell_type": "code",
   "execution_count": 235,
   "id": "e1a8f444-0bdb-49a4-b4da-aacd817050c9",
   "metadata": {
    "tags": []
   },
   "outputs": [],
   "source": [
    "l_1, l_2 = compare_sorted_tuple_lists(gene_pair_sorted, feature_pair_sorted)\n",
    "n_ones =count_ones(l_1)\n",
    "expe_n_ones = (1-(1-1/26/26)**m) * (1-(1-1/26/26)**n) * l"
   ]
  },
  {
   "cell_type": "code",
   "execution_count": 236,
   "id": "a8e50783-8153-4fa4-a3d2-ca11ed45a71e",
   "metadata": {
    "tags": []
   },
   "outputs": [
    {
     "name": "stdout",
     "output_type": "stream",
     "text": [
      "55\n",
      "59.66789623942363\n"
     ]
    }
   ],
   "source": [
    "print(n_ones,end='\\n')\n",
    "print(expe_n_ones,end='\\n')"
   ]
  },
  {
   "cell_type": "code",
   "execution_count": 237,
   "id": "631110a3-9657-43ac-8fc9-b9250ab5d324",
   "metadata": {
    "tags": []
   },
   "outputs": [],
   "source": [
    "indices_1 = [i for i, x in enumerate(l_1) if x == 1]\n",
    "indices_2 = [i for i, x in enumerate(l_2) if x == 1]"
   ]
  },
  {
   "cell_type": "code",
   "execution_count": 238,
   "id": "6b2670cc-1d35-4816-bdc6-6c1740125324",
   "metadata": {
    "tags": []
   },
   "outputs": [
    {
     "name": "stdout",
     "output_type": "stream",
     "text": [
      "43888 ['ba', 'yn', 0.8034929133686216, 1]\n",
      "55372 ['bi', 'jz', 0.5820611193292777, 1]\n",
      "60702 ['bo', 'sj', 0.22524971816313188, 1]\n",
      "83569 ['cb', 'nk', 0.21860718684720315, 1]\n",
      "100341 ['cn', 'jh', 0.4607315216625282, 1]\n",
      "114418 ['cv', 'fy', 0.2422922541178404, 1]\n",
      "118202 ['da', 'cn', 0.3530769571803287, 1]\n",
      "120882 ['dc', 'wz', 0.4938022253714286, 1]\n",
      "123486 ['de', 'tk', 0.03604268877500183, 1]\n",
      "135846 ['dm', 'vt', 0.45111740483701557, 1]\n",
      "146348 ['dw', 'ev', 0.003959325434139682, 1]\n",
      "178492 ['en', 'wm', 0.5382827087481779, 1]\n",
      "239924 ['fz', 'lx', 0.42314734672759624, 1]\n",
      "271455 ['gs', 'lt', 0.3218175173212986, 1]\n",
      "285864 ['hg', 'lb', 0.031451288010275635, 1]\n",
      "287258 ['hh', 'hl', 0.654535258717868, 1]\n",
      "308826 ['hv', 'kr', 0.2422963654143896, 1]\n",
      "330615 ['if', 'fu', 0.26605749967110937, 1]\n",
      "348732 ['io', 'tc', 0.9893208156818367, 1]\n",
      "369648 ['ja', 'gf', 0.1314484614896012, 1]\n",
      "403126 ['jw', 'oi', 0.2103027094513178, 1]\n",
      "422076 ['kj', 'ca', 0.12313688829257852, 1]\n",
      "437304 ['kx', 'os', 0.33168055393404305, 1]\n",
      "449060 ['lk', 'ap', 0.047491653434286185, 1]\n",
      "475732 ['mc', 'ju', 0.18029960756860663, 1]\n",
      "477133 ['me', 'do', 0.8825600312096469, 1]\n",
      "477921 ['me', 'xz', 0.2093801215791382, 1]\n",
      "479652 ['mg', 'ra', 0.2635923301446328, 1]\n",
      "501140 ['mu', 'uc', 0.9132144750910032, 1]\n",
      "530010 ['nj', 'nb', 0.587461480884479, 1]\n",
      "554150 ['od', 'ea', 0.6766537292835376, 1]\n",
      "557020 ['of', 'ag', 0.6856864560329315, 1]\n",
      "573383 ['or', 'kf', 0.5496854245659484, 1]\n",
      "584536 ['pb', 'hs', 0.7916411135267138, 1]\n",
      "593312 ['pe', 'cs', 0.24571435795936813, 1]\n",
      "622002 ['pv', 'ab', 0.3556964716503823, 1]\n",
      "628147 ['qb', 'dx', 0.4769437233981326, 1]\n",
      "661824 ['rb', 'pj', 0.8864221528040221, 1]\n",
      "685072 ['rq', 'ba', 0.35952228124503105, 1]\n",
      "698108 ['rv', 'of', 0.5559704075113087, 1]\n",
      "729342 ['so', 'ji', 0.45458656164927214, 1]\n",
      "740936 ['sy', 'ir', 0.9578691015409849, 1]\n",
      "759638 ['tm', 'va', 0.15627301722426912, 1]\n",
      "771190 ['tu', 'fj', 0.5395627942486102, 1]\n",
      "786098 ['uf', 'cl', 0.03341001852421843, 1]\n",
      "797969 ['un', 'ix', 0.997559749224195, 1]\n",
      "856189 ['we', 'fi', 0.9281096701360433, 1]\n",
      "931506 ['yg', 'to', 0.48886060494888106, 1]\n",
      "937542 ['yl', 'ht', 0.9639352638445234, 1]\n",
      "940120 ['ym', 'oh', 0.38463582166410726, 1]\n",
      "955258 ['yw', 'dl', 0.835825688207822, 1]\n",
      "958612 ['yz', 'uq', 0.39330354587471794, 1]\n",
      "961108 ['zc', 'bp', 0.6292505215447664, 1]\n",
      "989554 ['zq', 'of', 0.7426099304878734, 1]\n",
      "991462 ['zr', 'ta', 0.6427102252379836, 1]\n"
     ]
    }
   ],
   "source": [
    "for i in indices_1:\n",
    "    print(i, gene_pair_sorted[i],end='\\n')"
   ]
  },
  {
   "cell_type": "code",
   "execution_count": 239,
   "id": "be0084dc-7b13-4ce4-89ea-c1e21f3d3f3a",
   "metadata": {
    "tags": []
   },
   "outputs": [
    {
     "name": "stdout",
     "output_type": "stream",
     "text": [
      "0 ['ba', 'yn']\n",
      "1 ['bi', 'jz']\n",
      "2 ['bo', 'sj']\n",
      "4 ['cb', 'nk']\n",
      "7 ['cn', 'jh']\n",
      "8 ['cv', 'fy']\n",
      "12 ['da', 'cn']\n",
      "13 ['dc', 'wz']\n",
      "14 ['de', 'tk']\n",
      "15 ['dm', 'vt']\n",
      "18 ['dw', 'ev']\n",
      "20 ['en', 'wm']\n",
      "24 ['fz', 'lx']\n",
      "26 ['gs', 'lt']\n",
      "27 ['hg', 'lb']\n",
      "28 ['hh', 'hl']\n",
      "29 ['hv', 'kr']\n",
      "31 ['if', 'fu']\n",
      "32 ['io', 'tc']\n",
      "34 ['ja', 'gf']\n",
      "38 ['jw', 'oi']\n",
      "39 ['kj', 'ca']\n",
      "42 ['kx', 'os']\n",
      "44 ['lk', 'ap']\n",
      "47 ['mc', 'ju']\n",
      "48 ['me', 'do']\n",
      "49 ['me', 'xz']\n",
      "50 ['mg', 'ra']\n",
      "52 ['mu', 'uc']\n",
      "53 ['nj', 'nb']\n",
      "55 ['od', 'ea']\n",
      "56 ['of', 'ag']\n",
      "57 ['or', 'kf']\n",
      "58 ['pb', 'hs']\n",
      "60 ['pe', 'cs']\n",
      "63 ['pv', 'ab']\n",
      "64 ['qb', 'dx']\n",
      "66 ['rb', 'pj']\n",
      "68 ['rq', 'ba']\n",
      "69 ['rv', 'of']\n",
      "72 ['so', 'ji']\n",
      "73 ['sy', 'ir']\n",
      "74 ['tm', 'va']\n",
      "76 ['tu', 'fj']\n",
      "78 ['uf', 'cl']\n",
      "79 ['un', 'ix']\n",
      "83 ['we', 'fi']\n",
      "88 ['yg', 'to']\n",
      "90 ['yl', 'ht']\n",
      "91 ['ym', 'oh']\n",
      "92 ['yw', 'dl']\n",
      "94 ['yz', 'uq']\n",
      "95 ['zc', 'bp']\n",
      "97 ['zq', 'of']\n",
      "98 ['zr', 'ta']\n"
     ]
    }
   ],
   "source": [
    "for i in indices_2:\n",
    "    print(i, feature_pair_sorted[i],end='\\n')"
   ]
  },
  {
   "cell_type": "code",
   "execution_count": 240,
   "id": "8c44d707-7bfd-47fd-8d34-f55f67b70395",
   "metadata": {
    "tags": []
   },
   "outputs": [
    {
     "name": "stdout",
     "output_type": "stream",
     "text": [
      "55\n",
      "55\n"
     ]
    }
   ],
   "source": [
    "print(len(indices_1))\n",
    "print(len(indices_2))"
   ]
  },
  {
   "cell_type": "code",
   "execution_count": null,
   "id": "8bf3c88b-03fa-404f-811e-152d9e667ba9",
   "metadata": {},
   "outputs": [],
   "source": []
  }
 ],
 "metadata": {
  "kernelspec": {
   "display_name": "Python 3 (ipykernel)",
   "language": "python",
   "name": "python3"
  },
  "language_info": {
   "codemirror_mode": {
    "name": "ipython",
    "version": 3
   },
   "file_extension": ".py",
   "mimetype": "text/x-python",
   "name": "python",
   "nbconvert_exporter": "python",
   "pygments_lexer": "ipython3",
   "version": "3.8.8"
  }
 },
 "nbformat": 4,
 "nbformat_minor": 5
}
