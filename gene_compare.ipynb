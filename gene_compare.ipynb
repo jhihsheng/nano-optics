{
 "cells": [
  {
   "cell_type": "markdown",
   "id": "f4d2d311-7103-49bc-a8cc-d9640e7e400f",
   "metadata": {},
   "source": [
    "# Gene comparison\n",
    "\n",
    "Task description: $\\mathbf{a} = [a_1,a_2,a_3,..., a_n]$ and $\\mathbf{b} = [b_1,b_2,b_3,..., b_m]$ are two list of genes. $a_i$'s are distinct genes, so are $b_i$'s.\n",
    "The Pearson correlations between every pair $a_i b_j$ are computed. Note that $a_i$'s and $b_i$'s might not be sorted.\n",
    "The data is stored at the file `gene_pair` in the format\n",
    "\\begin{align}\n",
    "&a_1 ~~~ b_1 ~~~ 0.2\\\\\n",
    "&a_1 ~~~ b_2 ~~~ 0.3\\\\\n",
    "&a_1 ~~~ b_3 ~~~ 0.6\\\\\n",
    "&\\vdots ~~~~~ \\vdots ~~~~~ \\vdots\n",
    "\\end{align}\n",
    "`gene_pair` has $nm$ rows and 3 columnes. Now, we have a feature pair list `feature_pair` in the format,\n",
    "\\begin{align}\n",
    "& c_1 ~~~ d_1 \\\\\n",
    "& c_2 ~~~ d_2 \\\\\n",
    "& c_3 ~~~ d_3 \\\\\n",
    "&\\vdots ~~~~~ \\vdots \n",
    "\\end{align}\n",
    "`feature_pair` has $l$ rows and 2 columns. \n",
    "\n",
    "We want to compare the gene pairs $ab$ with $cd$. If they are the same, we label it with $1$. That is, we want to find all the pairs appearing in both the lists.\n",
    "To begin comparison, we need to sort the data so that the comparison process has a linear complexcity $O(N)$.\n",
    "\n",
    "\n",
    "Algorithm: \n",
    "\n",
    "1. Sort `gene_pair` by $a_i$ first. If the sorted $a'_i$ have the degenerate elements, $a'_j=a'_{j+1}=...$, sort these elements by $b_i$. For example, $a_i$'s are the ages, and $b_i'$ are the heights. Then, the order is first determined by the ages. If ages are the same, the order among the same ages is determined by height. \n",
    "The sorted file `gene_pair_sorted` has the format,\n",
    "\\begin{align}\n",
    "&a'_1  ~~~ b'_1 ~~~ 0.4\\\\\n",
    "&a'_1  ~~~ b'_2 ~~~ 0.2\\\\\n",
    "&a'_2  ~~~ b'_3 ~~~ 0.3\\\\\n",
    "&a'_2  ~~~ b'_4 ~~~ 0.6\\\\\n",
    "&\\vdots ~~~~~~~~ \\vdots ~~~~~~~ \\vdots\n",
    "\\end{align}\n",
    "where $a'_i$ is sorted, and $b'_i<b'_j$ if $i<j$ when $b'_i$ and\n",
    "$b'_j$ are of the same $a'_i$.  \n",
    "2. Do the same as above on `feature_pair` to create `feature_pair_sorted`,\n",
    "\\begin{align}\n",
    "&c'_1   ~~~ d'_1 \\\\\n",
    "&c'_2   ~~~ d'_2 \\\\\n",
    "&c'_3   ~~~ d'_3 \\\\\n",
    "&\\vdots ~~~~~~~~ \\vdots \n",
    "\\end{align}\n",
    "3. Compare $a'_i $ with $c'_j $. If the same, compare $b'_i $ with $d'_j$. If the same, label $a'_i b'_i$ with 1, else 0.   "
   ]
  },
  {
   "cell_type": "code",
   "execution_count": 101,
   "id": "6a51f2dd-23bf-4963-8f16-8442074e264c",
   "metadata": {
    "tags": []
   },
   "outputs": [],
   "source": [
    "import random\n",
    "import string\n",
    "import time\n",
    "import numpy as np\n",
    "# Function to generate a random string of 'max_length' characters\n",
    "def generate_random_string(max_length=6):\n",
    "    length = random.randint(2, max_length)\n",
    "    return ''.join(random.choices(string.ascii_lowercase, k=length))\n",
    "\n",
    "# Function to generate a list of 'n' random strings\n",
    "def generate_random_string_list(n, max_length=6):\n",
    "    return [generate_random_string(max_length) for _ in range(n)]"
   ]
  },
  {
   "cell_type": "code",
   "execution_count": 118,
   "id": "075787d0-fd56-4292-bb33-9536c6ff2b3c",
   "metadata": {
    "tags": []
   },
   "outputs": [],
   "source": [
    "n = 1000\n",
    "m = 1000\n",
    "l = 100\n",
    "a = generate_random_string_list(n,2)\n",
    "b = generate_random_string_list(m,2)\n",
    "c = generate_random_string_list(l,2)\n",
    "d = generate_random_string_list(l,2)\n",
    "\n",
    "gene_pair = []\n",
    "for i in range(n):\n",
    "    for j in range(m):\n",
    "        gene_pair.append([a[i],b[j],np.random.rand()]) # using list\n",
    "        \n",
    "feature_pair = []\n",
    "for i in range(l):\n",
    "    feature_pair.append([c[i],d[i]])\n",
    "    \n",
    "###\n",
    "\n",
    "    "
   ]
  },
  {
   "cell_type": "code",
   "execution_count": 119,
   "id": "731f2853-1c73-444f-a4ba-e85252aed35e",
   "metadata": {
    "tags": []
   },
   "outputs": [],
   "source": [
    "from operator import itemgetter\n",
    "gene_pair_sorted = sorted(gene_pair, key=itemgetter(0,1)) ## sort by which column\n",
    "feature_pair_sorted = sorted(feature_pair, key=itemgetter(0,1)) ## sort by which column"
   ]
  },
  {
   "cell_type": "code",
   "execution_count": 120,
   "id": "95e5dcef-fffb-4d4b-8f6f-8a147d6cc95f",
   "metadata": {
    "tags": []
   },
   "outputs": [],
   "source": [
    "# list1 is gene_pair_sorted, list2 is feature_pair_sorted\n",
    "#\n",
    "\n",
    "def compare_sorted_tuple_lists(list1, list2): \n",
    "    i, j = 0, 0\n",
    "    result = []\n",
    "\n",
    "    while i < len(list1) and j < len(list2):\n",
    "        if list1[i][0] == list2[j][0]:\n",
    "            if list1[i][1] == list2[j][1]: ## inner if is for comparing b_i and d_j when a_i = c_j\n",
    "                result.append(1)  # String exists in both lists\n",
    "                list1[i].append(1)\n",
    "                i += 1\n",
    "                j += 1\n",
    "            elif list1[i][1] < list2[j][1]:\n",
    "                result.append(0)\n",
    "                list1[i].append(0)\n",
    "                i += 1\n",
    "            else:   \n",
    "                result.append(0)\n",
    "                list1[i].append(0)\n",
    "                j += 1           \n",
    "        elif list1[i][0] < list2[j][0]:\n",
    "            result.append(0)\n",
    "            list1[i].append(0)\n",
    "            i += 1\n",
    "        else:\n",
    "            result.append(0)\n",
    "            list1[i].append(0)\n",
    "            j += 1\n",
    "\n",
    "    # If any list is exhausted, mark the remaining elements as not found\n",
    "    while i < len(list1):\n",
    "        result.append(0)\n",
    "        list1[i].append(0)\n",
    "        i += 1\n",
    "\n",
    "    return result\n",
    "\n",
    "def count_ones(lst):\n",
    "    ones_count = 0\n",
    "    for item in lst:\n",
    "        if item == 1:\n",
    "            ones_count += 1\n",
    "    return ones_count"
   ]
  },
  {
   "cell_type": "code",
   "execution_count": 121,
   "id": "e1a8f444-0bdb-49a4-b4da-aacd817050c9",
   "metadata": {
    "tags": []
   },
   "outputs": [],
   "source": [
    "test = compare_sorted_tuple_lists(gene_pair_sorted, feature_pair_sorted)\n",
    "n_ones =count_ones(test)\n",
    "expe_n_ones = (1-(1-1/26/26)**m) * (1-(1-1/26/26)**n) * l"
   ]
  },
  {
   "cell_type": "code",
   "execution_count": 122,
   "id": "a8e50783-8153-4fa4-a3d2-ca11ed45a71e",
   "metadata": {
    "tags": []
   },
   "outputs": [
    {
     "name": "stdout",
     "output_type": "stream",
     "text": [
      "61\n",
      "59.66789623942363\n"
     ]
    }
   ],
   "source": [
    "print(n_ones,end='\\n')\n",
    "print(expe_n_ones,end='\\n')"
   ]
  },
  {
   "cell_type": "code",
   "execution_count": 123,
   "id": "b08a2be7-cef7-498f-8ca3-0aeb5e6ec7dd",
   "metadata": {
    "tags": []
   },
   "outputs": [
    {
     "data": {
      "text/plain": [
       "[['aa', 'ab', 0.04252506677241441, 0],\n",
       " ['aa', 'ac', 0.24264330566025172, 0],\n",
       " ['aa', 'ac', 0.8106242669851383, 0],\n",
       " ['aa', 'ac', 0.6663490458338195, 0]]"
      ]
     },
     "execution_count": 123,
     "metadata": {},
     "output_type": "execute_result"
    }
   ],
   "source": [
    "gene_pair_sorted[1:5]"
   ]
  },
  {
   "cell_type": "code",
   "execution_count": 124,
   "id": "751cccc2-1b9d-4a5e-8dda-11403887a207",
   "metadata": {
    "tags": []
   },
   "outputs": [],
   "source": [
    "yes_no_column = [row[3] for row in gene_pair_sorted]"
   ]
  },
  {
   "cell_type": "code",
   "execution_count": 135,
   "id": "631110a3-9657-43ac-8fc9-b9250ab5d324",
   "metadata": {
    "tags": []
   },
   "outputs": [],
   "source": [
    "indices = [i for i, x in enumerate(yes_no_column) if x == 1]"
   ]
  },
  {
   "cell_type": "code",
   "execution_count": 136,
   "id": "6b2670cc-1d35-4816-bdc6-6c1740125324",
   "metadata": {
    "tags": []
   },
   "outputs": [
    {
     "name": "stdout",
     "output_type": "stream",
     "text": [
      "22431 ['an', 'lw', 0.20294221234608945, 1]\n",
      "25487 ['aq', 'ne', 0.4792181029257724, 1]\n",
      "35464 ['ba', 'mt', 0.36505819174609755, 1]\n",
      "45057 ['bg', 'bp', 0.1940441515840029, 1]\n",
      "83142 ['ca', 'bv', 0.8362295977133017, 1]\n",
      "93120 ['cf', 'bq', 0.6343212240636973, 1]\n",
      "96328 ['cg', 'rc', 0.7926567907044969, 1]\n",
      "102651 ['cn', 'gh', 0.760888576648932, 1]\n",
      "190451 ['ey', 'uw', 0.5451748253520017, 1]\n",
      "196548 ['fd', 'nu', 0.4497376099887762, 1]\n",
      "202797 ['fi', 'uk', 0.4717979590502478, 1]\n",
      "203402 ['fj', 'dp', 0.8835590091794905, 1]\n",
      "306220 ['ib', 'gj', 0.9917256650756666, 1]\n",
      "306225 ['ib', 'go', 0.8769920397579816, 1]\n",
      "312608 ['ie', 'uq', 0.2686794039708639, 1]\n",
      "320918 ['ik', 'yv', 0.765428164123333, 1]\n",
      "324423 ['io', 'ds', 0.670415200104212, 1]\n",
      "326259 ['io', 'tj', 0.8817855903276866, 1]\n",
      "327210 ['ip', 'cu', 0.6281586028935909, 1]\n",
      "338595 ['iy', 'wh', 0.05139047719305656, 1]\n",
      "339181 ['iz', 'ew', 0.2342291866202707, 1]\n",
      "348584 ['jg', 'lb', 0.5308387583302077, 1]\n",
      "352469 ['ji', 'mv', 0.8889743209686778, 1]\n",
      "424549 ['ln', 'op', 0.11571808127124183, 1]\n",
      "437164 ['me', 'el', 0.09094907595017687, 1]\n",
      "439693 ['mg', 'gr', 0.611096321722785, 1]\n",
      "440428 ['mg', 'mz', 0.9393968921207664, 1]\n",
      "443575 ['mj', 'pb', 0.36095150075473537, 1]\n",
      "445945 ['mn', 'fg', 0.5591992506225967, 1]\n",
      "450570 ['mp', 'hx', 0.8907325467512576, 1]\n",
      "454763 ['mt', 'to', 0.5672117211888905, 1]\n",
      "467842 ['mz', 'vm', 0.24016256597843866, 1]\n",
      "481199 ['ng', 'fp', 0.9662446236239329, 1]\n",
      "489322 ['nl', 'jc', 0.3071326719182125, 1]\n",
      "510185 ['ny', 'ez', 0.15793044354445396, 1]\n",
      "510766 ['ny', 'tp', 0.6302780859339974, 1]\n",
      "542461 ['os', 'mr', 0.13438421199948403, 1]\n",
      "562068 ['pg', 'kd', 0.33355387394218994, 1]\n",
      "572494 ['pk', 'te', 0.1651226579217696, 1]\n",
      "601222 ['qb', 'gl', 0.23310896232867706, 1]\n",
      "622945 ['qo', 'iv', 0.4657415371013355, 1]\n",
      "626994 ['qp', 'zy', 0.9510731334537467, 1]\n",
      "631522 ['qr', 'nx', 0.5886989538052472, 1]\n",
      "632474 ['qs', 'gt', 0.12707553131619753, 1]\n",
      "645480 ['rg', 'ei', 0.9776745092347903, 1]\n",
      "696145 ['sm', 'dy', 0.6958227884745898, 1]\n",
      "713873 ['tb', 'ib', 0.7726813365396851, 1]\n",
      "733732 ['tl', 'wi', 0.48792606695754714, 1]\n",
      "777189 ['um', 'bs', 0.1288481513212808, 1]\n",
      "818066 ['vj', 'av', 0.9111382469501255, 1]\n",
      "823911 ['vm', 'xr', 0.31883668293736245, 1]\n",
      "825461 ['vn', 'ne', 0.4923847290078073, 1]\n",
      "827883 ['vo', 'wt', 0.10699606495584169, 1]\n",
      "845230 ['wa', 'gq', 0.19413368109733864, 1]\n",
      "853818 ['wf', 'ln', 0.25753117098205325, 1]\n",
      "858002 ['wi', 'ab', 0.43156720839536533, 1]\n",
      "939604 ['yo', 'lf', 0.5156948722861094, 1]\n",
      "958388 ['zd', 'uj', 0.39295006576402114, 1]\n",
      "962850 ['zf', 'vr', 0.40685889838320155, 1]\n",
      "965114 ['zi', 'ot', 0.10504031006779557, 1]\n",
      "992542 ['zu', 'tt', 0.6421610196053879, 1]\n"
     ]
    }
   ],
   "source": [
    "for i in indices:\n",
    "    print(i, gene_pair_sorted[i],end='\\n')"
   ]
  }
 ],
 "metadata": {
  "kernelspec": {
   "display_name": "Python 3 (ipykernel)",
   "language": "python",
   "name": "python3"
  },
  "language_info": {
   "codemirror_mode": {
    "name": "ipython",
    "version": 3
   },
   "file_extension": ".py",
   "mimetype": "text/x-python",
   "name": "python",
   "nbconvert_exporter": "python",
   "pygments_lexer": "ipython3",
   "version": "3.8.8"
  }
 },
 "nbformat": 4,
 "nbformat_minor": 5
}
