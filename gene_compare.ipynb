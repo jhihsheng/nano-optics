{
 "cells": [
  {
   "cell_type": "markdown",
   "id": "f4d2d311-7103-49bc-a8cc-d9640e7e400f",
   "metadata": {},
   "source": [
    "# Gene comparison\n",
    "\n",
    "Task description: $\\mathbf{a} = [a_1,a_2,a_3,..., a_n]$ and $\\mathbf{b} = [b_1,b_2,b_3,..., b_m]$ are two list of genes. $a_i$'s are distinct genes, so are $b_i$'s.\n",
    "The Pearson correlations between every pair $a_i b_j$ are computed. Note that $a_i$'s and $b_i$'s might not be sorted.\n",
    "The data is stored at the file `gene_pair` in the format\n",
    "\\begin{align}\n",
    "&a_1 ~~~ b_1 ~~~ 0.2\\\\\n",
    "&a_1 ~~~ b_2 ~~~ 0.3\\\\\n",
    "&a_1 ~~~ b_3 ~~~ 0.6\\\\\n",
    "&\\vdots ~~~~~ \\vdots ~~~~~ \\vdots\n",
    "\\end{align}\n",
    "`gene_pair` has $nm$ rows and 3 columnes. Now, we have a feature pair list `feature_pair` in the format,\n",
    "\\begin{align}\n",
    "& c_1 ~~~ d_1 \\\\\n",
    "& c_2 ~~~ d_2 \\\\\n",
    "& c_3 ~~~ d_3 \\\\\n",
    "&\\vdots ~~~~~ \\vdots \n",
    "\\end{align}\n",
    "`feature_pair` has $l$ rows and 2 columns. \n",
    "\n",
    "We want to compare the gene pairs $ab$ with $cd$. If they are the same, we label it with $1$. That is, we want to find all the pairs appearing in both the lists.\n",
    "To begin comparison, we need to sort the data so that the comparison process has a linear complexcity $O(N)$. The code is\n",
    "```\n",
    "sorted(gene_pair, key=itemgetter(0,1))\n",
    "```\n",
    "\n",
    "\n",
    "\n",
    "Algorithm: \n",
    "\n",
    "1. Sort `gene_pair` by $a_i$ first. If the sorted $a'_i$ have the degenerate elements, $a'_j=a'_{j+1}=...$, sort these elements by $b_i$. For example, $a_i$'s are the ages, and $b_i'$ are the heights. Then, the order is first determined by the ages. If ages are the same, the order among the same ages is determined by height. \n",
    "The sorted file `gene_pair_sorted` has the format,\n",
    "\\begin{align}\n",
    "&a'_1  ~~~ b'_1 ~~~ 0.4\\\\\n",
    "&a'_1  ~~~ b'_2 ~~~ 0.2\\\\\n",
    "&a'_2  ~~~ b'_3 ~~~ 0.3\\\\\n",
    "&a'_2  ~~~ b'_4 ~~~ 0.6\\\\\n",
    "&\\vdots ~~~~~~~~ \\vdots ~~~~~~~ \\vdots\n",
    "\\end{align}\n",
    "where $a'_i$ is sorted, and $b'_i<b'_j$ if $i<j$ when $b'_i$ and\n",
    "$b'_j$ are of the same $a'_i$.  \n",
    "2. Do the same as above on `feature_pair` to create `feature_pair_sorted`,\n",
    "\\begin{align}\n",
    "&c'_1   ~~~ d'_1 \\\\\n",
    "&c'_2   ~~~ d'_2 \\\\\n",
    "&c'_3   ~~~ d'_3 \\\\\n",
    "&\\vdots ~~~~~~~~ \\vdots \n",
    "\\end{align}\n",
    "3. Compare $a'_i $ with $c'_j $. If the same, compare $b'_i $ with $d'_j$. If the same, label $a'_i b'_i$ with 1, else 0.   "
   ]
  },
  {
   "cell_type": "code",
   "execution_count": 210,
   "id": "6a51f2dd-23bf-4963-8f16-8442074e264c",
   "metadata": {
    "tags": []
   },
   "outputs": [],
   "source": [
    "import random\n",
    "import string\n",
    "import time\n",
    "import numpy as np\n",
    "# Function to generate a random string of 'max_length' characters\n",
    "def generate_random_string(max_length=6):\n",
    "    length = random.randint(2, max_length)\n",
    "    return ''.join(random.choices(string.ascii_lowercase, k=length))\n",
    "\n",
    "# Function to generate a list of 'n' random strings\n",
    "def generate_random_string_list(n, max_length=6):\n",
    "    return [generate_random_string(max_length) for _ in range(n)]"
   ]
  },
  {
   "cell_type": "code",
   "execution_count": 211,
   "id": "075787d0-fd56-4292-bb33-9536c6ff2b3c",
   "metadata": {
    "tags": []
   },
   "outputs": [],
   "source": [
    "n = 1000\n",
    "m = 1000\n",
    "l = 100\n",
    "a = generate_random_string_list(n,2)\n",
    "b = generate_random_string_list(m,2)\n",
    "c = generate_random_string_list(l,2)\n",
    "d = generate_random_string_list(l,2)\n",
    "\n",
    "gene_pair = []\n",
    "for i in range(n):\n",
    "    for j in range(m):\n",
    "        gene_pair.append([a[i],b[j],np.random.rand()]) # using list\n",
    "        \n",
    "feature_pair = []\n",
    "for i in range(l):\n",
    "    feature_pair.append([c[i],d[i]])\n",
    "    \n",
    "###\n",
    "\n",
    "    "
   ]
  },
  {
   "cell_type": "code",
   "execution_count": 212,
   "id": "731f2853-1c73-444f-a4ba-e85252aed35e",
   "metadata": {
    "tags": []
   },
   "outputs": [],
   "source": [
    "from operator import itemgetter\n",
    "gene_pair_sorted = sorted(gene_pair, key=itemgetter(0,1)) ## sort by which column\n",
    "feature_pair_sorted = sorted(feature_pair, key=itemgetter(0,1)) ## sort by which column"
   ]
  },
  {
   "cell_type": "code",
   "execution_count": 213,
   "id": "95e5dcef-fffb-4d4b-8f6f-8a147d6cc95f",
   "metadata": {
    "tags": []
   },
   "outputs": [],
   "source": [
    "# list1 is gene_pair_sorted, list2 is feature_pair_sorted\n",
    "#\n",
    "\n",
    "def compare_sorted_tuple_lists(list1, list2): \n",
    "    i, j = 0, 0\n",
    "    list1_TF = []\n",
    "    list2_TF = []\n",
    "\n",
    "    while i < len(list1) and j < len(list2):\n",
    "        if list1[i][0] == list2[j][0]:\n",
    "            if list1[i][1] == list2[j][1]: ## inner if is for comparing b_i and d_j when a_i = c_j\n",
    "                list1_TF.append(1) \n",
    "                list2_TF.append(1)\n",
    "                list1[i].append(1)              \n",
    "                i += 1\n",
    "                j += 1\n",
    "            elif list1[i][1] < list2[j][1]:\n",
    "                list1_TF.append(0)                 \n",
    "                list1[i].append(0)\n",
    "                i += 1\n",
    "            else:   \n",
    "                list2_TF.append(0)\n",
    "                j += 1           \n",
    "        elif list1[i][0] < list2[j][0]:\n",
    "            list1_TF.append(0)\n",
    "            list1[i].append(0)\n",
    "            i += 1\n",
    "        else:\n",
    "            list2_TF.append(0)\n",
    "            j += 1\n",
    "\n",
    "    # If any list is exhausted, mark the remaining elements as not found\n",
    "    while i < len(list1):\n",
    "        list1_TF.append(0)\n",
    "        list1[i].append(0)\n",
    "        i += 1\n",
    "\n",
    "    return list1_TF, list2_TF\n",
    "\n",
    "def count_ones(lst):\n",
    "    ones_count = 0\n",
    "    for item in lst:\n",
    "        if item == 1:\n",
    "            ones_count += 1\n",
    "    return ones_count"
   ]
  },
  {
   "cell_type": "code",
   "execution_count": 214,
   "id": "e1a8f444-0bdb-49a4-b4da-aacd817050c9",
   "metadata": {
    "tags": []
   },
   "outputs": [],
   "source": [
    "l_1, l_2 = compare_sorted_tuple_lists(gene_pair_sorted, feature_pair_sorted)\n",
    "n_ones =count_ones(l_1)\n",
    "expe_n_ones = (1-(1-1/26/26)**m) * (1-(1-1/26/26)**n) * l"
   ]
  },
  {
   "cell_type": "code",
   "execution_count": 215,
   "id": "a8e50783-8153-4fa4-a3d2-ca11ed45a71e",
   "metadata": {
    "tags": []
   },
   "outputs": [
    {
     "name": "stdout",
     "output_type": "stream",
     "text": [
      "65\n",
      "59.66789623942363\n"
     ]
    }
   ],
   "source": [
    "print(n_ones,end='\\n')\n",
    "print(expe_n_ones,end='\\n')"
   ]
  },
  {
   "cell_type": "code",
   "execution_count": 216,
   "id": "631110a3-9657-43ac-8fc9-b9250ab5d324",
   "metadata": {
    "tags": []
   },
   "outputs": [],
   "source": [
    "indices_1 = [i for i, x in enumerate(l_1) if x == 1]\n",
    "indices_2 = [i for i, x in enumerate(l_2) if x == 1]"
   ]
  },
  {
   "cell_type": "code",
   "execution_count": 217,
   "id": "6b2670cc-1d35-4816-bdc6-6c1740125324",
   "metadata": {
    "tags": []
   },
   "outputs": [
    {
     "name": "stdout",
     "output_type": "stream",
     "text": [
      "27740 ['ar', 'rm', 0.17750833555058165, 1]\n",
      "30656 ['au', 'il', 0.940533482688357, 1]\n",
      "32240 ['aw', 'bz', 0.5051867843067446, 1]\n",
      "36277 ['ay', 'hg', 0.1019962452480393, 1]\n",
      "39518 ['ba', 'nj', 0.8602744266703226, 1]\n",
      "53926 ['bp', 'yb', 0.27468266612356407, 1]\n",
      "67219 ['cc', 'ft', 0.7196614389442924, 1]\n",
      "73146 ['ci', 'ds', 0.5149956796878523, 1]\n",
      "74004 ['cj', 'ab', 0.3948132043651701, 1]\n",
      "96403 ['ct', 'uj', 0.5680612796645947, 1]\n",
      "98860 ['cv', 'ye', 0.2531338783978351, 1]\n",
      "105162 ['db', 'eb', 0.7150589158815855, 1]\n",
      "120664 ['dl', 'qy', 0.4586994930380257, 1]\n",
      "146298 ['eb', 'tn', 0.02358874289175672, 1]\n",
      "168096 ['eq', 'aq', 0.7345215666718655, 1]\n",
      "185088 ['ex', 'nl', 0.2748130396759977, 1]\n",
      "197175 ['fk', 'en', 0.46417684855640406, 1]\n",
      "198225 ['fm', 'fx', 0.7268219194354554, 1]\n",
      "206216 ['ft', 'bo', 0.18502238921627046, 1]\n",
      "210030 ['fv', 'ac', 0.7665557667492505, 1]\n",
      "219538 ['fy', 'nw', 0.7538295418608685, 1]\n",
      "228241 ['gd', 'gl', 0.804706452693114, 1]\n",
      "233198 ['gf', 'fb', 0.48233153351505, 1]\n",
      "289053 ['hj', 'be', 0.5538810589509072, 1]\n",
      "356249 ['jc', 'gr', 0.3808582468451053, 1]\n",
      "357959 ['jd', 'yy', 0.373154979234559, 1]\n",
      "380100 ['jr', 'ci', 0.5152143460030995, 1]\n",
      "392313 ['jx', 'ts', 0.6025863620879445, 1]\n",
      "403512 ['ke', 'nc', 0.5828837289747286, 1]\n",
      "404897 ['kf', 'xg', 0.9733821759327707, 1]\n",
      "411426 ['ki', 'si', 0.8278057703992011, 1]\n",
      "431906 ['kw', 'xn', 0.5604360593259416, 1]\n",
      "447030 ['lh', 'ag', 0.6611614845776858, 1]\n",
      "457406 ['lq', 'rz', 0.8082886311398494, 1]\n",
      "480583 ['mo', 'pc', 0.3516767156762558, 1]\n",
      "484276 ['mq', 'qh', 0.9820200562164239, 1]\n",
      "489232 ['mw', 'pv', 0.0011404412294160338, 1]\n",
      "539360 ['oa', 'eq', 0.29452271550072506, 1]\n",
      "556800 ['om', 'dz', 0.3720977648910514, 1]\n",
      "565019 ['oq', 'ai', 0.7081254306669265, 1]\n",
      "568921 ['os', 'ia', 0.18802504879460613, 1]\n",
      "598989 ['pl', 'qw', 0.257459415476743, 1]\n",
      "628248 ['qf', 'oi', 0.37064611388856794, 1]\n",
      "633628 ['qi', 'ur', 0.9296040114980877, 1]\n",
      "637478 ['qm', 'md', 0.504986614954618, 1]\n",
      "648692 ['qt', 'oj', 0.5021050593932311, 1]\n",
      "649139 ['qt', 'si', 0.7322104994113602, 1]\n",
      "652883 ['qu', 'za', 0.023582036645503845, 1]\n",
      "696348 ['rq', 'iq', 0.6862338503444796, 1]\n",
      "718232 ['se', 'ge', 0.6757811037363922, 1]\n",
      "793462 ['ug', 'lu', 0.867036662649458, 1]\n",
      "808017 ['up', 'ah', 0.20735669131047996, 1]\n",
      "854044 ['vt', 'nl', 0.858072240838584, 1]\n",
      "858641 ['vy', 'qk', 0.8652205976223257, 1]\n",
      "902309 ['wz', 'ib', 0.9921604107493126, 1]\n",
      "909400 ['xf', 'jb', 0.6283166163010779, 1]\n",
      "912106 ['xg', 'cm', 0.11696941616944567, 1]\n",
      "912601 ['xg', 'po', 0.7437948245548354, 1]\n",
      "932792 ['xx', 'gz', 0.3621683439053992, 1]\n",
      "936986 ['xz', 'mj', 0.7562276210624121, 1]\n",
      "947703 ['yj', 'xj', 0.07522340295841246, 1]\n",
      "955140 ['yq', 'do', 0.038555327657126215, 1]\n",
      "961724 ['yw', 'wg', 0.20665007676347802, 1]\n",
      "962901 ['yx', 'xj', 0.1608891063863469, 1]\n",
      "988742 ['zs', 'wn', 0.38835789586241254, 1]\n"
     ]
    }
   ],
   "source": [
    "for i in indices_1:\n",
    "    print(i, gene_pair_sorted[i],end='\\n')"
   ]
  },
  {
   "cell_type": "code",
   "execution_count": 218,
   "id": "be0084dc-7b13-4ce4-89ea-c1e21f3d3f3a",
   "metadata": {
    "tags": []
   },
   "outputs": [
    {
     "name": "stdout",
     "output_type": "stream",
     "text": [
      "0 ['ar', 'rm']\n",
      "2 ['au', 'il']\n",
      "3 ['aw', 'bz']\n",
      "4 ['ay', 'hg']\n",
      "5 ['ba', 'nj']\n",
      "8 ['bp', 'yb']\n",
      "10 ['cc', 'ft']\n",
      "11 ['ci', 'ds']\n",
      "13 ['cj', 'ab']\n",
      "14 ['ct', 'uj']\n",
      "15 ['cv', 'ye']\n",
      "16 ['db', 'eb']\n",
      "18 ['dl', 'qy']\n",
      "19 ['eb', 'tn']\n",
      "20 ['eq', 'aq']\n",
      "21 ['ex', 'nl']\n",
      "24 ['fk', 'en']\n",
      "25 ['fm', 'fx']\n",
      "26 ['ft', 'bo']\n",
      "27 ['fv', 'ac']\n",
      "29 ['fy', 'nw']\n",
      "31 ['gd', 'gl']\n",
      "33 ['gf', 'fb']\n",
      "34 ['hj', 'be']\n",
      "36 ['jc', 'gr']\n",
      "37 ['jd', 'yy']\n",
      "39 ['jr', 'ci']\n",
      "40 ['jx', 'ts']\n",
      "41 ['ke', 'nc']\n",
      "42 ['kf', 'xg']\n",
      "43 ['ki', 'si']\n",
      "46 ['kw', 'xn']\n",
      "47 ['lh', 'ag']\n",
      "48 ['lq', 'rz']\n",
      "50 ['mo', 'pc']\n",
      "51 ['mq', 'qh']\n",
      "53 ['mw', 'pv']\n",
      "56 ['oa', 'eq']\n",
      "57 ['om', 'dz']\n",
      "58 ['oq', 'ai']\n",
      "59 ['os', 'ia']\n",
      "61 ['pl', 'qw']\n",
      "65 ['qf', 'oi']\n",
      "66 ['qi', 'ur']\n",
      "67 ['qm', 'md']\n",
      "68 ['qt', 'oj']\n",
      "69 ['qt', 'si']\n",
      "70 ['qu', 'za']\n",
      "71 ['rq', 'iq']\n",
      "72 ['se', 'ge']\n",
      "78 ['ug', 'lu']\n",
      "79 ['up', 'ah']\n",
      "82 ['vt', 'nl']\n",
      "83 ['vy', 'qk']\n",
      "86 ['wz', 'ib']\n",
      "87 ['xf', 'jb']\n",
      "88 ['xg', 'cm']\n",
      "89 ['xg', 'po']\n",
      "91 ['xx', 'gz']\n",
      "92 ['xz', 'mj']\n",
      "93 ['yj', 'xj']\n",
      "95 ['yq', 'do']\n",
      "96 ['yw', 'wg']\n",
      "97 ['yx', 'xj']\n",
      "99 ['zs', 'wn']\n"
     ]
    }
   ],
   "source": [
    "for i in indices_2:\n",
    "    print(i, feature_pair_sorted[i],end='\\n')"
   ]
  },
  {
   "cell_type": "code",
   "execution_count": 219,
   "id": "8c44d707-7bfd-47fd-8d34-f55f67b70395",
   "metadata": {
    "tags": []
   },
   "outputs": [
    {
     "name": "stdout",
     "output_type": "stream",
     "text": [
      "65\n",
      "65\n"
     ]
    }
   ],
   "source": [
    "print(len(indices_1))\n",
    "print(len(indices_2))"
   ]
  },
  {
   "cell_type": "code",
   "execution_count": null,
   "id": "8bf3c88b-03fa-404f-811e-152d9e667ba9",
   "metadata": {},
   "outputs": [],
   "source": []
  }
 ],
 "metadata": {
  "kernelspec": {
   "display_name": "Python 3 (ipykernel)",
   "language": "python",
   "name": "python3"
  },
  "language_info": {
   "codemirror_mode": {
    "name": "ipython",
    "version": 3
   },
   "file_extension": ".py",
   "mimetype": "text/x-python",
   "name": "python",
   "nbconvert_exporter": "python",
   "pygments_lexer": "ipython3",
   "version": "3.8.8"
  }
 },
 "nbformat": 4,
 "nbformat_minor": 5
}
