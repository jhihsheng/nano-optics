{
 "cells": [
  {
   "cell_type": "markdown",
   "id": "f4d2d311-7103-49bc-a8cc-d9640e7e400f",
   "metadata": {},
   "source": [
    "# Gene comparison\n",
    "\n",
    "Task description: $\\mathbf{a} = [a_1,a_2,a_3,..., a_n]$ and $\\mathbf{b} = [b_1,b_2,b_3,..., b_m]$ are two list of genes. $a_i$'s are distinct genes, so are $b_i$'s.\n",
    "The Pearson correlations between every pair $a_i b_j$ are computed. Note that $a_i$'s and $b_i$'s might not be sorted.\n",
    "The data is stored at the file `gene_pair` in the format\n",
    "\\begin{align}\n",
    "&a_1 ~~~ b_1 ~~~ 0.2\\\\\n",
    "&a_1 ~~~ b_2 ~~~ 0.3\\\\\n",
    "&a_1 ~~~ b_3 ~~~ 0.6\\\\\n",
    "&\\vdots ~~~~~ \\vdots ~~~~~ \\vdots\n",
    "\\end{align}\n",
    "`gene_pair` has $nm$ rows and 3 columnes. Now, we have a feature pair list `feature_pair` in the format,\n",
    "\\begin{align}\n",
    "& c_1 ~~~ d_1 \\\\\n",
    "& c_2 ~~~ d_2 \\\\\n",
    "& c_3 ~~~ d_3 \\\\\n",
    "&\\vdots ~~~~~ \\vdots \n",
    "\\end{align}\n",
    "`feature_pair` has $l$ rows and 2 columns. \n",
    "\n",
    "We want to compare the gene pairs $ab$ with $cd$. If they are the same, we label it with $1$. That is, we want to find all the pairs appearing in both the lists.\n",
    "To begin comparison, we need to sort the data so that the comparison process has a linear complexcity $O(N)$. The code is\n",
    "```\n",
    "sorted(gene_pair, key=itemgetter(0,1))\n",
    "```\n",
    "\n",
    "\n",
    "\n",
    "Algorithm: \n",
    "\n",
    "1. Sort `gene_pair` by $a_i$ first. If the sorted $a'_i$ have the degenerate elements, $a'_j=a'_{j+1}=...$, sort these elements by $b_i$. For example, $a_i$'s are the ages, and $b_i'$ are the heights. Then, the order is first determined by the ages. If ages are the same, the order among the same ages is determined by height. \n",
    "The sorted file `gene_pair_sorted` has the format,\n",
    "\\begin{align}\n",
    "&a'_1  ~~~ b'_1 ~~~ 0.4\\\\\n",
    "&a'_1  ~~~ b'_2 ~~~ 0.2\\\\\n",
    "&a'_2  ~~~ b'_3 ~~~ 0.3\\\\\n",
    "&a'_2  ~~~ b'_4 ~~~ 0.6\\\\\n",
    "&\\vdots ~~~~~~~~ \\vdots ~~~~~~~ \\vdots\n",
    "\\end{align}\n",
    "where $a'_i$ is sorted, and $b'_i<b'_j$ if $i<j$ when $b'_i$ and\n",
    "$b'_j$ are of the same $a'_i$.  \n",
    "2. Do the same as above on `feature_pair` to create `feature_pair_sorted`,\n",
    "\\begin{align}\n",
    "&c'_1   ~~~ d'_1 \\\\\n",
    "&c'_2   ~~~ d'_2 \\\\\n",
    "&c'_3   ~~~ d'_3 \\\\\n",
    "&\\vdots ~~~~~~~~ \\vdots \n",
    "\\end{align}\n",
    "3. Compare $a'_i $ with $c'_j $. If the same, compare $b'_i $ with $d'_j$. If the same, label $a'_i b'_i$ with 1, else 0.   "
   ]
  },
  {
   "cell_type": "code",
   "execution_count": 241,
   "id": "6a51f2dd-23bf-4963-8f16-8442074e264c",
   "metadata": {
    "tags": []
   },
   "outputs": [],
   "source": [
    "import random\n",
    "import string\n",
    "import time\n",
    "import numpy as np\n",
    "# Function to generate a random string of 'max_length' characters\n",
    "def generate_random_string(max_length=6):\n",
    "    length = random.randint(2, max_length)\n",
    "    return ''.join(random.choices(string.ascii_lowercase, k=length))\n",
    "\n",
    "# Function to generate a list of 'n' random strings\n",
    "def generate_random_string_list(n, max_length=6):\n",
    "    return [generate_random_string(max_length) for _ in range(n)]"
   ]
  },
  {
   "cell_type": "code",
   "execution_count": 242,
   "id": "075787d0-fd56-4292-bb33-9536c6ff2b3c",
   "metadata": {
    "tags": []
   },
   "outputs": [],
   "source": [
    "n = 1000\n",
    "m = 1000\n",
    "l = 100\n",
    "a = generate_random_string_list(n,2)\n",
    "b = generate_random_string_list(m,2)\n",
    "c = generate_random_string_list(l,2)\n",
    "d = generate_random_string_list(l,2)\n",
    "\n",
    "gene_pair = []\n",
    "for i in range(n):\n",
    "    for j in range(m):\n",
    "        gene_pair.append([a[i],b[j],np.random.rand()]) # using list\n",
    "        \n",
    "feature_pair = []\n",
    "for i in range(l):\n",
    "    feature_pair.append([c[i],d[i]])\n",
    "    \n",
    "###\n",
    "\n",
    "    "
   ]
  },
  {
   "cell_type": "code",
   "execution_count": 243,
   "id": "731f2853-1c73-444f-a4ba-e85252aed35e",
   "metadata": {
    "tags": []
   },
   "outputs": [],
   "source": [
    "from operator import itemgetter\n",
    "gene_pair_sorted = sorted(gene_pair, key=itemgetter(0,1)) ## sort by which column\n",
    "feature_pair_sorted = sorted(feature_pair, key=itemgetter(0,1)) ## sort by which column"
   ]
  },
  {
   "cell_type": "code",
   "execution_count": 244,
   "id": "95e5dcef-fffb-4d4b-8f6f-8a147d6cc95f",
   "metadata": {
    "tags": []
   },
   "outputs": [],
   "source": [
    "# list1 is gene_pair_sorted, list2 is feature_pair_sorted\n",
    "#\n",
    "\n",
    "def compare_sorted_lists(list1, list2): \n",
    "    i, j = 0, 0\n",
    "    list1_TF = []\n",
    "    list2_TF = []\n",
    "\n",
    "    while i < len(list1) and j < len(list2):\n",
    "        if list1[i][0] == list2[j][0]:\n",
    "            if list1[i][1] == list2[j][1]: ## inner if is for comparing b_i and d_j when a_i = c_j\n",
    "                list1_TF.append(1) \n",
    "                list2_TF.append(1)\n",
    "                list1[i].append(1)              \n",
    "                i += 1\n",
    "                j += 1\n",
    "            elif list1[i][1] < list2[j][1]:\n",
    "                list1_TF.append(0)                 \n",
    "                list1[i].append(0)\n",
    "                i += 1\n",
    "            else:   \n",
    "                list2_TF.append(0)\n",
    "                j += 1           \n",
    "        elif list1[i][0] < list2[j][0]:\n",
    "            list1_TF.append(0)\n",
    "            list1[i].append(0)\n",
    "            i += 1\n",
    "        else:\n",
    "            list2_TF.append(0)\n",
    "            j += 1\n",
    "\n",
    "    # If any list is exhausted, mark the remaining elements as not found\n",
    "    while i < len(list1):\n",
    "        list1_TF.append(0)\n",
    "        list1[i].append(0)\n",
    "        i += 1\n",
    "\n",
    "    return list1_TF, list2_TF\n",
    "\n",
    "def count_ones(lst):\n",
    "    ones_count = 0\n",
    "    for item in lst:\n",
    "        if item == 1:\n",
    "            ones_count += 1\n",
    "    return ones_count"
   ]
  },
  {
   "cell_type": "code",
   "execution_count": 245,
   "id": "e1a8f444-0bdb-49a4-b4da-aacd817050c9",
   "metadata": {
    "tags": []
   },
   "outputs": [],
   "source": [
    "l_1, l_2 = compare_sorted_lists(gene_pair_sorted, feature_pair_sorted)\n",
    "n_ones =count_ones(l_1)\n",
    "expe_n_ones = (1-(1-1/26/26)**m) * (1-(1-1/26/26)**n) * l"
   ]
  },
  {
   "cell_type": "code",
   "execution_count": 246,
   "id": "a8e50783-8153-4fa4-a3d2-ca11ed45a71e",
   "metadata": {
    "tags": []
   },
   "outputs": [
    {
     "name": "stdout",
     "output_type": "stream",
     "text": [
      "68\n",
      "59.66789623942363\n"
     ]
    }
   ],
   "source": [
    "print(n_ones,end='\\n')\n",
    "print(expe_n_ones,end='\\n')"
   ]
  },
  {
   "cell_type": "code",
   "execution_count": 247,
   "id": "631110a3-9657-43ac-8fc9-b9250ab5d324",
   "metadata": {
    "tags": []
   },
   "outputs": [],
   "source": [
    "indices_1 = [i for i, x in enumerate(l_1) if x == 1]\n",
    "indices_2 = [i for i, x in enumerate(l_2) if x == 1]"
   ]
  },
  {
   "cell_type": "code",
   "execution_count": 248,
   "id": "6b2670cc-1d35-4816-bdc6-6c1740125324",
   "metadata": {
    "tags": []
   },
   "outputs": [
    {
     "name": "stdout",
     "output_type": "stream",
     "text": [
      "3714 ['ae', 'iv', 0.6804277951544807, 1]\n",
      "7330 ['ag', 'ih', 0.17221952864736612, 1]\n",
      "31678 ['ay', 'il', 0.5998057541357955, 1]\n",
      "41089 ['be', 'cf', 0.24114316123793011, 1]\n",
      "78330 ['cc', 'ei', 0.66257437302065, 1]\n",
      "84677 ['cf', 'op', 0.7325483188992382, 1]\n",
      "115030 ['db', 'ak', 0.38341297805417385, 1]\n",
      "124084 ['de', 'ax', 0.5895757954289582, 1]\n",
      "145489 ['dp', 'mw', 0.7444723345725158, 1]\n",
      "162668 ['ee', 'rj', 0.3206728761162033, 1]\n",
      "171227 ['el', 'fu', 0.1478502065796219, 1]\n",
      "171816 ['el', 'vg', 0.3185731480082675, 1]\n",
      "172049 ['em', 'bc', 0.8909233862247616, 1]\n",
      "234837 ['gb', 'ha', 0.15229722758234254, 1]\n",
      "235665 ['gb', 'om', 0.8141821215078235, 1]\n",
      "251799 ['gp', 'uw', 0.6244758285926428, 1]\n",
      "257231 ['gu', 'fy', 0.27688786749626404, 1]\n",
      "270660 ['hc', 're', 0.8443245119974958, 1]\n",
      "278304 ['hg', 'hn', 0.43614483757894174, 1]\n",
      "279983 ['hh', 'zn', 0.8859988695144402, 1]\n",
      "283312 ['hj', 'pb', 0.14773672503717405, 1]\n",
      "287484 ['hl', 'mt', 0.7679406787345608, 1]\n",
      "298155 ['hs', 'dy', 0.09969169844487702, 1]\n",
      "308147 ['id', 'bc', 0.9980312976116916, 1]\n",
      "313394 ['ih', 'jx', 0.09314323313902273, 1]\n",
      "359202 ['jj', 'sz', 0.9118698367643701, 1]\n",
      "370985 ['jr', 'zq', 0.6833662575024999, 1]\n",
      "379498 ['kc', 'ej', 0.34351113022669666, 1]\n",
      "386516 ['kg', 'to', 0.627727356789659, 1]\n",
      "446422 ['mb', 'mm', 0.04664704030272393, 1]\n",
      "465218 ['mm', 'pu', 0.3951577122935269, 1]\n",
      "485802 ['nb', 'ux', 0.8685849443672254, 1]\n",
      "501220 ['nj', 'vy', 0.32125573906688265, 1]\n",
      "528575 ['ny', 'nt', 0.7068958083421241, 1]\n",
      "533680 ['oa', 'vv', 0.39651195834378294, 1]\n",
      "537778 ['oc', 'js', 0.2617665351852312, 1]\n",
      "543118 ['of', 'op', 0.2863599224518889, 1]\n",
      "554730 ['on', 'wk', 0.6937833639150038, 1]\n",
      "557200 ['or', 'ka', 0.5625477218073652, 1]\n",
      "594455 ['pq', 'mu', 0.861538736799811, 1]\n",
      "619809 ['qi', 'vb', 0.08673299078953445, 1]\n",
      "630360 ['qo', 'iw', 0.41083186849025366, 1]\n",
      "634052 ['qs', 'nu', 0.570201436391519, 1]\n",
      "641056 ['qw', 'bm', 0.10954032773006617, 1]\n",
      "647992 ['qy', 'zz', 0.6484918636136604, 1]\n",
      "661552 ['rg', 'ub', 0.1995200755117641, 1]\n",
      "745792 ['ts', 'gs', 0.49450599173213394, 1]\n",
      "750092 ['tv', 'ci', 0.5834478686341993, 1]\n",
      "783661 ['ul', 'ww', 0.3408042488612365, 1]\n",
      "800452 ['uw', 'ix', 0.9052936159537768, 1]\n",
      "813100 ['vf', 'bf', 0.4369275778689412, 1]\n",
      "821710 ['vi', 'sk', 0.8149941560617368, 1]\n",
      "846049 ['vv', 'bc', 0.14038742415543715, 1]\n",
      "863657 ['wf', 'fp', 0.4053241098795083, 1]\n",
      "868002 ['wh', 'nf', 0.30978443941426803, 1]\n",
      "873253 ['wl', 'gm', 0.3751759946957419, 1]\n",
      "875878 ['wn', 'lo', 0.7760109525183962, 1]\n",
      "888629 ['wt', 'ql', 0.9702054396916521, 1]\n",
      "890134 ['ww', 'dj', 0.08403127680788924, 1]\n",
      "890644 ['ww', 'qu', 0.4412154113961172, 1]\n",
      "919986 ['xw', 'mz', 0.47705527225434263, 1]\n",
      "937260 ['yg', 'gq', 0.04781959889956, 1]\n",
      "941242 ['yj', 'ge', 0.3847606566292361, 1]\n",
      "952836 ['yt', 'kp', 0.02844292626215228, 1]\n",
      "964556 ['zc', 'on', 0.11131949310892397, 1]\n",
      "975255 ['zk', 'go', 0.4669962622360321, 1]\n",
      "983278 ['zp', 'kz', 0.19729129115135324, 1]\n",
      "997138 ['zx', 'dm', 0.505099559210673, 1]\n"
     ]
    }
   ],
   "source": [
    "for i in indices_1:\n",
    "    print(i, gene_pair_sorted[i],end='\\n')"
   ]
  },
  {
   "cell_type": "code",
   "execution_count": 249,
   "id": "be0084dc-7b13-4ce4-89ea-c1e21f3d3f3a",
   "metadata": {
    "tags": []
   },
   "outputs": [
    {
     "name": "stdout",
     "output_type": "stream",
     "text": [
      "0 ['ae', 'iv']\n",
      "1 ['ag', 'ih']\n",
      "4 ['ay', 'il']\n",
      "5 ['be', 'cf']\n",
      "7 ['cc', 'ei']\n",
      "9 ['cf', 'op']\n",
      "10 ['db', 'ak']\n",
      "11 ['de', 'ax']\n",
      "12 ['dp', 'mw']\n",
      "14 ['ee', 'rj']\n",
      "16 ['el', 'fu']\n",
      "17 ['el', 'vg']\n",
      "18 ['em', 'bc']\n",
      "22 ['gb', 'ha']\n",
      "23 ['gb', 'om']\n",
      "25 ['gp', 'uw']\n",
      "26 ['gu', 'fy']\n",
      "27 ['hc', 're']\n",
      "28 ['hg', 'hn']\n",
      "29 ['hh', 'zn']\n",
      "30 ['hj', 'pb']\n",
      "31 ['hl', 'mt']\n",
      "32 ['hs', 'dy']\n",
      "33 ['id', 'bc']\n",
      "34 ['ih', 'jx']\n",
      "36 ['jj', 'sz']\n",
      "39 ['jr', 'zq']\n",
      "40 ['kc', 'ej']\n",
      "41 ['kg', 'to']\n",
      "45 ['mb', 'mm']\n",
      "46 ['mm', 'pu']\n",
      "47 ['nb', 'ux']\n",
      "48 ['nj', 'vy']\n",
      "49 ['ny', 'nt']\n",
      "50 ['oa', 'vv']\n",
      "51 ['oc', 'js']\n",
      "52 ['of', 'op']\n",
      "53 ['on', 'wk']\n",
      "55 ['or', 'ka']\n",
      "57 ['pq', 'mu']\n",
      "58 ['qi', 'vb']\n",
      "59 ['qo', 'iw']\n",
      "60 ['qs', 'nu']\n",
      "61 ['qw', 'bm']\n",
      "62 ['qy', 'zz']\n",
      "63 ['rg', 'ub']\n",
      "70 ['ts', 'gs']\n",
      "71 ['tv', 'ci']\n",
      "73 ['ul', 'ww']\n",
      "74 ['uw', 'ix']\n",
      "75 ['vf', 'bf']\n",
      "76 ['vi', 'sk']\n",
      "78 ['vv', 'bc']\n",
      "79 ['wf', 'fp']\n",
      "80 ['wh', 'nf']\n",
      "82 ['wl', 'gm']\n",
      "83 ['wn', 'lo']\n",
      "84 ['wt', 'ql']\n",
      "86 ['ww', 'dj']\n",
      "87 ['ww', 'qu']\n",
      "91 ['xw', 'mz']\n",
      "92 ['yg', 'gq']\n",
      "93 ['yj', 'ge']\n",
      "95 ['yt', 'kp']\n",
      "96 ['zc', 'on']\n",
      "97 ['zk', 'go']\n",
      "98 ['zp', 'kz']\n",
      "99 ['zx', 'dm']\n"
     ]
    }
   ],
   "source": [
    "for i in indices_2:\n",
    "    print(i, feature_pair_sorted[i],end='\\n')"
   ]
  },
  {
   "cell_type": "code",
   "execution_count": 250,
   "id": "8c44d707-7bfd-47fd-8d34-f55f67b70395",
   "metadata": {
    "tags": []
   },
   "outputs": [
    {
     "name": "stdout",
     "output_type": "stream",
     "text": [
      "68\n",
      "68\n"
     ]
    }
   ],
   "source": [
    "print(len(indices_1))\n",
    "print(len(indices_2))"
   ]
  },
  {
   "cell_type": "code",
   "execution_count": null,
   "id": "8bf3c88b-03fa-404f-811e-152d9e667ba9",
   "metadata": {},
   "outputs": [],
   "source": []
  }
 ],
 "metadata": {
  "kernelspec": {
   "display_name": "Python 3 (ipykernel)",
   "language": "python",
   "name": "python3"
  },
  "language_info": {
   "codemirror_mode": {
    "name": "ipython",
    "version": 3
   },
   "file_extension": ".py",
   "mimetype": "text/x-python",
   "name": "python",
   "nbconvert_exporter": "python",
   "pygments_lexer": "ipython3",
   "version": "3.10.5"
  }
 },
 "nbformat": 4,
 "nbformat_minor": 5
}
